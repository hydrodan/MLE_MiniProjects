{
 "nbformat": 4,
 "nbformat_minor": 0,
 "metadata": {
  "colab": {
   "provenance": []
  },
  "kernelspec": {
   "name": "python3",
   "language": "python",
   "display_name": "Python 3 (ipykernel)"
  },
  "language_info": {
   "name": "python"
  }
 },
 "cells": [
  {
   "cell_type": "markdown",
   "source": [
    "# Mini Project: Recommendation Engines\n",
    "\n",
    "Recommendation engines are algorithms designed to provide personalized suggestions or recommendations to users. These systems analyze user behavior, preferences, and interactions with items (products, movies, music, articles, etc.) to predict and offer items that users are likely to be interested in. Recommendation engines play a crucial role in enhancing user experience, driving engagement, and increasing conversion rates in various applications, including e-commerce, entertainment, content platforms, and more.\n",
    "\n",
    "There are generally two approaches taken in collaborative filtering and content-based recommendation engines:\n",
    "\n",
    "**1. Collaborative Filtering:**\n",
    "Collaborative Filtering is a popular approach to building recommendation systems that leverages the collective behavior of users to make personalized recommendations. It is based on the idea that users who have agreed in the past will likely agree in the future. There are two main types of collaborative filtering:\n",
    "\n",
    "- **User-based Collaborative Filtering:** This method finds users similar to the target user based on their past interactions (e.g., ratings or purchases). It then recommends items that similar users have liked but the target user has not interacted with yet.\n",
    "\n",
    "- **Item-based Collaborative Filtering:** In this approach, the system identifies similar items based on user interactions. It recommends items that are similar to the ones the target user has already liked or interacted with.\n",
    "\n",
    "Collaborative filtering does not require any explicit information about items but relies on the similarity between users or items. It is effective in capturing complex patterns and can provide serendipitous recommendations. However, it suffers from the cold-start problem (i.e., difficulty in recommending to new users or items with no interactions) and scalability challenges in large datasets.\n",
    "\n",
    "**2. Content-Based Recommendation:**\n",
    "Content-based recommendation is an alternative approach to building recommendation systems that focuses on the attributes or features of items and users. It leverages the characteristics of items to make recommendations. The key steps involved in content-based recommendation are:\n",
    "\n",
    "- **Feature Extraction:** For each item, relevant features are extracted. For movies, these features could be genre, director, actors, and plot summary.\n",
    "\n",
    "- **User Profile:** A user profile is created based on the items they have interacted with in the past. The user profile contains the weighted importance of features based on their interactions.\n",
    "\n",
    "- **Similarity Calculation:** The similarity between items or between items and the user profile is calculated using similarity metrics like cosine similarity or Euclidean distance.\n",
    "\n",
    "- **Recommendation:** Items that are most similar to the user profile are recommended to the user.\n",
    "\n",
    "Content-based recommendation systems are less affected by the cold-start problem as they can still recommend items based on their features. They are also more interpretable as they rely on item attributes. However, they may miss out on providing serendipitous recommendations and can be limited by the quality of feature extraction and user profiles.\n",
    "\n",
    "**Choosing Between Collaborative Filtering and Content-Based:**\n",
    "Both collaborative filtering and content-based approaches have their strengths and weaknesses. The choice between them depends on the specific requirements of the recommendation system, the type of data available, and the user base. Hybrid approaches that combine collaborative filtering and content-based techniques are also common, aiming to leverage the strengths of both methods and mitigate their weaknesses."
   ],
   "metadata": {
    "id": "fyXucUekO19i"
   }
  },
  {
   "cell_type": "markdown",
   "source": [
    "In this mini-project, you'll be building both content based and collaborative filtering engines for the [MovieLens 25M dataset](https://grouplens.org/datasets/movielens/25m/). The MovieLens 25M dataset is one of the most widely used and popular datasets for building and evaluating recommendation systems. It is provided by the GroupLens Research project, which collects and studies datasets related to movie ratings and recommendations. The MovieLens 25M dataset contains movie ratings and other related information contributed by users of the MovieLens website.\n",
    "\n",
    "**Dataset Details:**\n",
    "- **Size:** The dataset contains approximately 25 million movie ratings.\n",
    "- **Users:** It includes ratings from over 162,000 users.\n",
    "- **Movies:** The dataset consists of ratings for more than 62,000 movies.\n",
    "- **Ratings:** The ratings are provided on a scale of 1 to 5, where 1 is the lowest rating and 5 is the highest.\n",
    "- **Timestamps:** Each rating is associated with a timestamp, indicating when the rating was given.\n",
    "\n",
    "**Data Files:**\n",
    "The dataset is usually split into three CSV files:\n",
    "\n",
    "1. **movies.csv:** Contains information about movies, including the movie ID, title, genres, and release year.\n",
    "   - Columns: movieId, title, genres\n",
    "\n",
    "2. **ratings.csv:** Contains movie ratings provided by users, including the user ID, movie ID, rating, and timestamp.\n",
    "   - Columns: userId, movieId, rating, timestamp\n",
    "\n",
    "3. **tags.csv:** Contains user-generated tags for movies, including the user ID, movie ID, tag, and timestamp.\n",
    "   - Columns: userId, movieId, tag, timestamp"
   ],
   "metadata": {
    "id": "TYuE9O6I2uRY"
   }
  },
  {
   "cell_type": "markdown",
   "source": [
    "First, import all the libraries you'll need."
   ],
   "metadata": {
    "id": "DN0qzP-cRlMo"
   }
  },
  {
   "cell_type": "markdown",
   "source": [
    "Personal notes: from DataCamp series <a href='https://app.datacamp.com/learn/courses/building-recommendation-engines-in-python'>Building Recommendation Engines in Python</a>\n"
   ],
   "metadata": {
    "collapsed": false
   }
  },
  {
   "cell_type": "code",
   "execution_count": 1,
   "metadata": {
    "id": "kLWR1DfQPakn",
    "ExecuteTime": {
     "end_time": "2024-11-23T00:14:03.674880Z",
     "start_time": "2024-11-23T00:13:58.944094Z"
    }
   },
   "outputs": [],
   "source": [
    "import zipfile\n",
    "import numpy as np\n",
    "import pandas as pd\n",
    "from urllib.request import urlretrieve\n",
    "from sklearn.metrics.pairwise import cosine_similarity\n"
   ]
  },
  {
   "cell_type": "markdown",
   "source": [
    "Next, download the relevant components of the MoveLens dataset. Note, these instructions are roughly based on the colab [here](https://colab.research.google.com/github/google/eng-edu/blob/main/ml/recommendation-systems/recommendation-systems.ipynb?utm_source=ss-recommendation-systems&utm_campaign=colab-external&utm_medium=referral&utm_content=recommendation-systems#scrollTo=O3bcgduFo4s6)."
   ],
   "metadata": {
    "id": "iaG6vAKyREej"
   }
  },
  {
   "cell_type": "code",
   "source": [
    "print(\"Downloading movielens data...\")\n",
    "\n",
    "urlretrieve('http://files.grouplens.org/datasets/movielens/ml-100k.zip', 'movielens.zip')\n",
    "zip_ref = zipfile.ZipFile('movielens.zip', 'r')\n",
    "zip_ref.extractall()\n",
    "print(\"Done. Dataset contains:\")\n",
    "print(zip_ref.read('ml-100k/u.info'))\n",
    "\n",
    "ratings_cols = ['user_id', 'movie_id', 'rating', 'unix_timestamp']\n",
    "ratings = pd.read_csv(\n",
    "    'ml-100k/u.data', sep='\\t', names=ratings_cols, encoding='latin-1')\n",
    "\n",
    "# The movies file contains a binary feature for each genre.\n",
    "genre_cols = [\n",
    "    \"genre_unknown\", \"Action\", \"Adventure\", \"Animation\", \"Children\", \"Comedy\",\n",
    "    \"Crime\", \"Documentary\", \"Drama\", \"Fantasy\", \"Film-Noir\", \"Horror\",\n",
    "    \"Musical\", \"Mystery\", \"Romance\", \"Sci-Fi\", \"Thriller\", \"War\", \"Western\"\n",
    "]\n",
    "\n",
    "movies_cols = [\n",
    "    'movie_id', 'title', 'release_date', \"video_release_date\", \"imdb_url\"\n",
    "] + genre_cols\n",
    "movies = pd.read_csv(\n",
    "    'ml-100k/u.item', sep='|', names=movies_cols, encoding='latin-1')\n",
    "\n",
    "# convert ratings to a float type to save FutureWarnings on int to float conversion later during Normalization\n",
    "ratings['rating'] = ratings['rating'].astype(float) "
   ],
   "metadata": {
    "id": "-wCvx2ukPm-3",
    "ExecuteTime": {
     "end_time": "2024-11-23T00:14:04.695112Z",
     "start_time": "2024-11-23T00:14:03.676081Z"
    }
   },
   "execution_count": 2,
   "outputs": [
    {
     "name": "stdout",
     "output_type": "stream",
     "text": [
      "Downloading movielens data...\n",
      "Done. Dataset contains:\n",
      "b'943 users\\n1682 items\\n100000 ratings\\n'\n"
     ]
    }
   ]
  },
  {
   "cell_type": "markdown",
   "source": [
    "Before doing any kind of machine learning, it's always good to familiarize yourself with the datasets you'lll be working with.\n",
    "\n",
    "Here are your tasks:\n",
    "\n",
    "1. Spend some time familiarizing yourself with both the `movies` and `ratings` dataframes. How many unique user ids are present? How many unique movies are there?\n",
    "2. Create a new dataframe that merges the `movies` and `ratings` tables on 'movie_id'. Only keep the 'user_id', 'title', 'rating' fields in this new dataframe."
   ],
   "metadata": {
    "id": "pLAMVhnbR-Cy"
   }
  },
  {
   "cell_type": "code",
   "source": [
    "# Spend some time familiarizing yourself with both the movies and ratings\n",
    "# dataframes. How many unique user ids are present? How many unique movies\n",
    "# are there?\n",
    "ratings.head()"
   ],
   "metadata": {
    "id": "vp7Tx7H_P5f2",
    "ExecuteTime": {
     "end_time": "2024-11-23T00:14:04.726091Z",
     "start_time": "2024-11-23T00:14:04.696625Z"
    }
   },
   "execution_count": 3,
   "outputs": [
    {
     "data": {
      "text/plain": "   user_id  movie_id  rating  unix_timestamp\n0      196       242     3.0       881250949\n1      186       302     3.0       891717742\n2       22       377     1.0       878887116\n3      244        51     2.0       880606923\n4      166       346     1.0       886397596",
      "text/html": "<div>\n<style scoped>\n    .dataframe tbody tr th:only-of-type {\n        vertical-align: middle;\n    }\n\n    .dataframe tbody tr th {\n        vertical-align: top;\n    }\n\n    .dataframe thead th {\n        text-align: right;\n    }\n</style>\n<table border=\"1\" class=\"dataframe\">\n  <thead>\n    <tr style=\"text-align: right;\">\n      <th></th>\n      <th>user_id</th>\n      <th>movie_id</th>\n      <th>rating</th>\n      <th>unix_timestamp</th>\n    </tr>\n  </thead>\n  <tbody>\n    <tr>\n      <th>0</th>\n      <td>196</td>\n      <td>242</td>\n      <td>3.0</td>\n      <td>881250949</td>\n    </tr>\n    <tr>\n      <th>1</th>\n      <td>186</td>\n      <td>302</td>\n      <td>3.0</td>\n      <td>891717742</td>\n    </tr>\n    <tr>\n      <th>2</th>\n      <td>22</td>\n      <td>377</td>\n      <td>1.0</td>\n      <td>878887116</td>\n    </tr>\n    <tr>\n      <th>3</th>\n      <td>244</td>\n      <td>51</td>\n      <td>2.0</td>\n      <td>880606923</td>\n    </tr>\n    <tr>\n      <th>4</th>\n      <td>166</td>\n      <td>346</td>\n      <td>1.0</td>\n      <td>886397596</td>\n    </tr>\n  </tbody>\n</table>\n</div>"
     },
     "execution_count": 3,
     "metadata": {},
     "output_type": "execute_result"
    }
   ]
  },
  {
   "cell_type": "code",
   "outputs": [
    {
     "data": {
      "text/plain": "            user_id       movie_id         rating  unix_timestamp\ncount  100000.00000  100000.000000  100000.000000    1.000000e+05\nmean      462.48475     425.530130       3.529860    8.835289e+08\nstd       266.61442     330.798356       1.125674    5.343856e+06\nmin         1.00000       1.000000       1.000000    8.747247e+08\n25%       254.00000     175.000000       3.000000    8.794487e+08\n50%       447.00000     322.000000       4.000000    8.828269e+08\n75%       682.00000     631.000000       4.000000    8.882600e+08\nmax       943.00000    1682.000000       5.000000    8.932866e+08",
      "text/html": "<div>\n<style scoped>\n    .dataframe tbody tr th:only-of-type {\n        vertical-align: middle;\n    }\n\n    .dataframe tbody tr th {\n        vertical-align: top;\n    }\n\n    .dataframe thead th {\n        text-align: right;\n    }\n</style>\n<table border=\"1\" class=\"dataframe\">\n  <thead>\n    <tr style=\"text-align: right;\">\n      <th></th>\n      <th>user_id</th>\n      <th>movie_id</th>\n      <th>rating</th>\n      <th>unix_timestamp</th>\n    </tr>\n  </thead>\n  <tbody>\n    <tr>\n      <th>count</th>\n      <td>100000.00000</td>\n      <td>100000.000000</td>\n      <td>100000.000000</td>\n      <td>1.000000e+05</td>\n    </tr>\n    <tr>\n      <th>mean</th>\n      <td>462.48475</td>\n      <td>425.530130</td>\n      <td>3.529860</td>\n      <td>8.835289e+08</td>\n    </tr>\n    <tr>\n      <th>std</th>\n      <td>266.61442</td>\n      <td>330.798356</td>\n      <td>1.125674</td>\n      <td>5.343856e+06</td>\n    </tr>\n    <tr>\n      <th>min</th>\n      <td>1.00000</td>\n      <td>1.000000</td>\n      <td>1.000000</td>\n      <td>8.747247e+08</td>\n    </tr>\n    <tr>\n      <th>25%</th>\n      <td>254.00000</td>\n      <td>175.000000</td>\n      <td>3.000000</td>\n      <td>8.794487e+08</td>\n    </tr>\n    <tr>\n      <th>50%</th>\n      <td>447.00000</td>\n      <td>322.000000</td>\n      <td>4.000000</td>\n      <td>8.828269e+08</td>\n    </tr>\n    <tr>\n      <th>75%</th>\n      <td>682.00000</td>\n      <td>631.000000</td>\n      <td>4.000000</td>\n      <td>8.882600e+08</td>\n    </tr>\n    <tr>\n      <th>max</th>\n      <td>943.00000</td>\n      <td>1682.000000</td>\n      <td>5.000000</td>\n      <td>8.932866e+08</td>\n    </tr>\n  </tbody>\n</table>\n</div>"
     },
     "execution_count": 4,
     "metadata": {},
     "output_type": "execute_result"
    }
   ],
   "source": [
    "ratings.describe()"
   ],
   "metadata": {
    "collapsed": false,
    "ExecuteTime": {
     "end_time": "2024-11-23T00:14:04.757751Z",
     "start_time": "2024-11-23T00:14:04.726091Z"
    }
   },
   "execution_count": 4
  },
  {
   "cell_type": "code",
   "outputs": [
    {
     "name": "stdout",
     "output_type": "stream",
     "text": [
      "<class 'pandas.core.frame.DataFrame'>\n",
      "RangeIndex: 100000 entries, 0 to 99999\n",
      "Data columns (total 4 columns):\n",
      " #   Column          Non-Null Count   Dtype  \n",
      "---  ------          --------------   -----  \n",
      " 0   user_id         100000 non-null  int64  \n",
      " 1   movie_id        100000 non-null  int64  \n",
      " 2   rating          100000 non-null  float64\n",
      " 3   unix_timestamp  100000 non-null  int64  \n",
      "dtypes: float64(1), int64(3)\n",
      "memory usage: 3.1 MB\n"
     ]
    }
   ],
   "source": [
    "ratings.info()"
   ],
   "metadata": {
    "collapsed": false,
    "ExecuteTime": {
     "end_time": "2024-11-23T00:14:04.772790Z",
     "start_time": "2024-11-23T00:14:04.759261Z"
    }
   },
   "execution_count": 5
  },
  {
   "cell_type": "code",
   "outputs": [
    {
     "data": {
      "text/plain": "   movie_id              title release_date  video_release_date  \\\n0         1   Toy Story (1995)  01-Jan-1995                 NaN   \n1         2   GoldenEye (1995)  01-Jan-1995                 NaN   \n2         3  Four Rooms (1995)  01-Jan-1995                 NaN   \n3         4  Get Shorty (1995)  01-Jan-1995                 NaN   \n4         5     Copycat (1995)  01-Jan-1995                 NaN   \n\n                                            imdb_url  genre_unknown  Action  \\\n0  http://us.imdb.com/M/title-exact?Toy%20Story%2...              0       0   \n1  http://us.imdb.com/M/title-exact?GoldenEye%20(...              0       1   \n2  http://us.imdb.com/M/title-exact?Four%20Rooms%...              0       0   \n3  http://us.imdb.com/M/title-exact?Get%20Shorty%...              0       1   \n4  http://us.imdb.com/M/title-exact?Copycat%20(1995)              0       0   \n\n   Adventure  Animation  Children  ...  Fantasy  Film-Noir  Horror  Musical  \\\n0          0          1         1  ...        0          0       0        0   \n1          1          0         0  ...        0          0       0        0   \n2          0          0         0  ...        0          0       0        0   \n3          0          0         0  ...        0          0       0        0   \n4          0          0         0  ...        0          0       0        0   \n\n   Mystery  Romance  Sci-Fi  Thriller  War  Western  \n0        0        0       0         0    0        0  \n1        0        0       0         1    0        0  \n2        0        0       0         1    0        0  \n3        0        0       0         0    0        0  \n4        0        0       0         1    0        0  \n\n[5 rows x 24 columns]",
      "text/html": "<div>\n<style scoped>\n    .dataframe tbody tr th:only-of-type {\n        vertical-align: middle;\n    }\n\n    .dataframe tbody tr th {\n        vertical-align: top;\n    }\n\n    .dataframe thead th {\n        text-align: right;\n    }\n</style>\n<table border=\"1\" class=\"dataframe\">\n  <thead>\n    <tr style=\"text-align: right;\">\n      <th></th>\n      <th>movie_id</th>\n      <th>title</th>\n      <th>release_date</th>\n      <th>video_release_date</th>\n      <th>imdb_url</th>\n      <th>genre_unknown</th>\n      <th>Action</th>\n      <th>Adventure</th>\n      <th>Animation</th>\n      <th>Children</th>\n      <th>...</th>\n      <th>Fantasy</th>\n      <th>Film-Noir</th>\n      <th>Horror</th>\n      <th>Musical</th>\n      <th>Mystery</th>\n      <th>Romance</th>\n      <th>Sci-Fi</th>\n      <th>Thriller</th>\n      <th>War</th>\n      <th>Western</th>\n    </tr>\n  </thead>\n  <tbody>\n    <tr>\n      <th>0</th>\n      <td>1</td>\n      <td>Toy Story (1995)</td>\n      <td>01-Jan-1995</td>\n      <td>NaN</td>\n      <td>http://us.imdb.com/M/title-exact?Toy%20Story%2...</td>\n      <td>0</td>\n      <td>0</td>\n      <td>0</td>\n      <td>1</td>\n      <td>1</td>\n      <td>...</td>\n      <td>0</td>\n      <td>0</td>\n      <td>0</td>\n      <td>0</td>\n      <td>0</td>\n      <td>0</td>\n      <td>0</td>\n      <td>0</td>\n      <td>0</td>\n      <td>0</td>\n    </tr>\n    <tr>\n      <th>1</th>\n      <td>2</td>\n      <td>GoldenEye (1995)</td>\n      <td>01-Jan-1995</td>\n      <td>NaN</td>\n      <td>http://us.imdb.com/M/title-exact?GoldenEye%20(...</td>\n      <td>0</td>\n      <td>1</td>\n      <td>1</td>\n      <td>0</td>\n      <td>0</td>\n      <td>...</td>\n      <td>0</td>\n      <td>0</td>\n      <td>0</td>\n      <td>0</td>\n      <td>0</td>\n      <td>0</td>\n      <td>0</td>\n      <td>1</td>\n      <td>0</td>\n      <td>0</td>\n    </tr>\n    <tr>\n      <th>2</th>\n      <td>3</td>\n      <td>Four Rooms (1995)</td>\n      <td>01-Jan-1995</td>\n      <td>NaN</td>\n      <td>http://us.imdb.com/M/title-exact?Four%20Rooms%...</td>\n      <td>0</td>\n      <td>0</td>\n      <td>0</td>\n      <td>0</td>\n      <td>0</td>\n      <td>...</td>\n      <td>0</td>\n      <td>0</td>\n      <td>0</td>\n      <td>0</td>\n      <td>0</td>\n      <td>0</td>\n      <td>0</td>\n      <td>1</td>\n      <td>0</td>\n      <td>0</td>\n    </tr>\n    <tr>\n      <th>3</th>\n      <td>4</td>\n      <td>Get Shorty (1995)</td>\n      <td>01-Jan-1995</td>\n      <td>NaN</td>\n      <td>http://us.imdb.com/M/title-exact?Get%20Shorty%...</td>\n      <td>0</td>\n      <td>1</td>\n      <td>0</td>\n      <td>0</td>\n      <td>0</td>\n      <td>...</td>\n      <td>0</td>\n      <td>0</td>\n      <td>0</td>\n      <td>0</td>\n      <td>0</td>\n      <td>0</td>\n      <td>0</td>\n      <td>0</td>\n      <td>0</td>\n      <td>0</td>\n    </tr>\n    <tr>\n      <th>4</th>\n      <td>5</td>\n      <td>Copycat (1995)</td>\n      <td>01-Jan-1995</td>\n      <td>NaN</td>\n      <td>http://us.imdb.com/M/title-exact?Copycat%20(1995)</td>\n      <td>0</td>\n      <td>0</td>\n      <td>0</td>\n      <td>0</td>\n      <td>0</td>\n      <td>...</td>\n      <td>0</td>\n      <td>0</td>\n      <td>0</td>\n      <td>0</td>\n      <td>0</td>\n      <td>0</td>\n      <td>0</td>\n      <td>1</td>\n      <td>0</td>\n      <td>0</td>\n    </tr>\n  </tbody>\n</table>\n<p>5 rows × 24 columns</p>\n</div>"
     },
     "execution_count": 6,
     "metadata": {},
     "output_type": "execute_result"
    }
   ],
   "source": [
    "movies.head()"
   ],
   "metadata": {
    "collapsed": false,
    "ExecuteTime": {
     "end_time": "2024-11-23T00:14:04.787863Z",
     "start_time": "2024-11-23T00:14:04.774297Z"
    }
   },
   "execution_count": 6
  },
  {
   "cell_type": "code",
   "outputs": [
    {
     "data": {
      "text/plain": "          movie_id  video_release_date  genre_unknown       Action  \\\ncount  1682.000000                 0.0    1682.000000  1682.000000   \nmean    841.500000                 NaN       0.001189     0.149227   \nstd     485.695893                 NaN       0.034473     0.356418   \nmin       1.000000                 NaN       0.000000     0.000000   \n25%     421.250000                 NaN       0.000000     0.000000   \n50%     841.500000                 NaN       0.000000     0.000000   \n75%    1261.750000                 NaN       0.000000     0.000000   \nmax    1682.000000                 NaN       1.000000     1.000000   \n\n         Adventure    Animation     Children       Comedy        Crime  \\\ncount  1682.000000  1682.000000  1682.000000  1682.000000  1682.000000   \nmean      0.080262     0.024970     0.072533     0.300238     0.064804   \nstd       0.271779     0.156081     0.259445     0.458498     0.246253   \nmin       0.000000     0.000000     0.000000     0.000000     0.000000   \n25%       0.000000     0.000000     0.000000     0.000000     0.000000   \n50%       0.000000     0.000000     0.000000     0.000000     0.000000   \n75%       0.000000     0.000000     0.000000     1.000000     0.000000   \nmax       1.000000     1.000000     1.000000     1.000000     1.000000   \n\n       Documentary  ...     Fantasy    Film-Noir       Horror      Musical  \\\ncount  1682.000000  ...  1682.00000  1682.000000  1682.000000  1682.000000   \nmean      0.029727  ...     0.01308     0.014269     0.054697     0.033294   \nstd       0.169882  ...     0.11365     0.118632     0.227455     0.179456   \nmin       0.000000  ...     0.00000     0.000000     0.000000     0.000000   \n25%       0.000000  ...     0.00000     0.000000     0.000000     0.000000   \n50%       0.000000  ...     0.00000     0.000000     0.000000     0.000000   \n75%       0.000000  ...     0.00000     0.000000     0.000000     0.000000   \nmax       1.000000  ...     1.00000     1.000000     1.000000     1.000000   \n\n           Mystery      Romance       Sci-Fi     Thriller          War  \\\ncount  1682.000000  1682.000000  1682.000000  1682.000000  1682.000000   \nmean      0.036266     0.146849     0.060048     0.149227     0.042212   \nstd       0.187008     0.354061     0.237646     0.356418     0.201131   \nmin       0.000000     0.000000     0.000000     0.000000     0.000000   \n25%       0.000000     0.000000     0.000000     0.000000     0.000000   \n50%       0.000000     0.000000     0.000000     0.000000     0.000000   \n75%       0.000000     0.000000     0.000000     0.000000     0.000000   \nmax       1.000000     1.000000     1.000000     1.000000     1.000000   \n\n           Western  \ncount  1682.000000  \nmean      0.016052  \nstd       0.125714  \nmin       0.000000  \n25%       0.000000  \n50%       0.000000  \n75%       0.000000  \nmax       1.000000  \n\n[8 rows x 21 columns]",
      "text/html": "<div>\n<style scoped>\n    .dataframe tbody tr th:only-of-type {\n        vertical-align: middle;\n    }\n\n    .dataframe tbody tr th {\n        vertical-align: top;\n    }\n\n    .dataframe thead th {\n        text-align: right;\n    }\n</style>\n<table border=\"1\" class=\"dataframe\">\n  <thead>\n    <tr style=\"text-align: right;\">\n      <th></th>\n      <th>movie_id</th>\n      <th>video_release_date</th>\n      <th>genre_unknown</th>\n      <th>Action</th>\n      <th>Adventure</th>\n      <th>Animation</th>\n      <th>Children</th>\n      <th>Comedy</th>\n      <th>Crime</th>\n      <th>Documentary</th>\n      <th>...</th>\n      <th>Fantasy</th>\n      <th>Film-Noir</th>\n      <th>Horror</th>\n      <th>Musical</th>\n      <th>Mystery</th>\n      <th>Romance</th>\n      <th>Sci-Fi</th>\n      <th>Thriller</th>\n      <th>War</th>\n      <th>Western</th>\n    </tr>\n  </thead>\n  <tbody>\n    <tr>\n      <th>count</th>\n      <td>1682.000000</td>\n      <td>0.0</td>\n      <td>1682.000000</td>\n      <td>1682.000000</td>\n      <td>1682.000000</td>\n      <td>1682.000000</td>\n      <td>1682.000000</td>\n      <td>1682.000000</td>\n      <td>1682.000000</td>\n      <td>1682.000000</td>\n      <td>...</td>\n      <td>1682.00000</td>\n      <td>1682.000000</td>\n      <td>1682.000000</td>\n      <td>1682.000000</td>\n      <td>1682.000000</td>\n      <td>1682.000000</td>\n      <td>1682.000000</td>\n      <td>1682.000000</td>\n      <td>1682.000000</td>\n      <td>1682.000000</td>\n    </tr>\n    <tr>\n      <th>mean</th>\n      <td>841.500000</td>\n      <td>NaN</td>\n      <td>0.001189</td>\n      <td>0.149227</td>\n      <td>0.080262</td>\n      <td>0.024970</td>\n      <td>0.072533</td>\n      <td>0.300238</td>\n      <td>0.064804</td>\n      <td>0.029727</td>\n      <td>...</td>\n      <td>0.01308</td>\n      <td>0.014269</td>\n      <td>0.054697</td>\n      <td>0.033294</td>\n      <td>0.036266</td>\n      <td>0.146849</td>\n      <td>0.060048</td>\n      <td>0.149227</td>\n      <td>0.042212</td>\n      <td>0.016052</td>\n    </tr>\n    <tr>\n      <th>std</th>\n      <td>485.695893</td>\n      <td>NaN</td>\n      <td>0.034473</td>\n      <td>0.356418</td>\n      <td>0.271779</td>\n      <td>0.156081</td>\n      <td>0.259445</td>\n      <td>0.458498</td>\n      <td>0.246253</td>\n      <td>0.169882</td>\n      <td>...</td>\n      <td>0.11365</td>\n      <td>0.118632</td>\n      <td>0.227455</td>\n      <td>0.179456</td>\n      <td>0.187008</td>\n      <td>0.354061</td>\n      <td>0.237646</td>\n      <td>0.356418</td>\n      <td>0.201131</td>\n      <td>0.125714</td>\n    </tr>\n    <tr>\n      <th>min</th>\n      <td>1.000000</td>\n      <td>NaN</td>\n      <td>0.000000</td>\n      <td>0.000000</td>\n      <td>0.000000</td>\n      <td>0.000000</td>\n      <td>0.000000</td>\n      <td>0.000000</td>\n      <td>0.000000</td>\n      <td>0.000000</td>\n      <td>...</td>\n      <td>0.00000</td>\n      <td>0.000000</td>\n      <td>0.000000</td>\n      <td>0.000000</td>\n      <td>0.000000</td>\n      <td>0.000000</td>\n      <td>0.000000</td>\n      <td>0.000000</td>\n      <td>0.000000</td>\n      <td>0.000000</td>\n    </tr>\n    <tr>\n      <th>25%</th>\n      <td>421.250000</td>\n      <td>NaN</td>\n      <td>0.000000</td>\n      <td>0.000000</td>\n      <td>0.000000</td>\n      <td>0.000000</td>\n      <td>0.000000</td>\n      <td>0.000000</td>\n      <td>0.000000</td>\n      <td>0.000000</td>\n      <td>...</td>\n      <td>0.00000</td>\n      <td>0.000000</td>\n      <td>0.000000</td>\n      <td>0.000000</td>\n      <td>0.000000</td>\n      <td>0.000000</td>\n      <td>0.000000</td>\n      <td>0.000000</td>\n      <td>0.000000</td>\n      <td>0.000000</td>\n    </tr>\n    <tr>\n      <th>50%</th>\n      <td>841.500000</td>\n      <td>NaN</td>\n      <td>0.000000</td>\n      <td>0.000000</td>\n      <td>0.000000</td>\n      <td>0.000000</td>\n      <td>0.000000</td>\n      <td>0.000000</td>\n      <td>0.000000</td>\n      <td>0.000000</td>\n      <td>...</td>\n      <td>0.00000</td>\n      <td>0.000000</td>\n      <td>0.000000</td>\n      <td>0.000000</td>\n      <td>0.000000</td>\n      <td>0.000000</td>\n      <td>0.000000</td>\n      <td>0.000000</td>\n      <td>0.000000</td>\n      <td>0.000000</td>\n    </tr>\n    <tr>\n      <th>75%</th>\n      <td>1261.750000</td>\n      <td>NaN</td>\n      <td>0.000000</td>\n      <td>0.000000</td>\n      <td>0.000000</td>\n      <td>0.000000</td>\n      <td>0.000000</td>\n      <td>1.000000</td>\n      <td>0.000000</td>\n      <td>0.000000</td>\n      <td>...</td>\n      <td>0.00000</td>\n      <td>0.000000</td>\n      <td>0.000000</td>\n      <td>0.000000</td>\n      <td>0.000000</td>\n      <td>0.000000</td>\n      <td>0.000000</td>\n      <td>0.000000</td>\n      <td>0.000000</td>\n      <td>0.000000</td>\n    </tr>\n    <tr>\n      <th>max</th>\n      <td>1682.000000</td>\n      <td>NaN</td>\n      <td>1.000000</td>\n      <td>1.000000</td>\n      <td>1.000000</td>\n      <td>1.000000</td>\n      <td>1.000000</td>\n      <td>1.000000</td>\n      <td>1.000000</td>\n      <td>1.000000</td>\n      <td>...</td>\n      <td>1.00000</td>\n      <td>1.000000</td>\n      <td>1.000000</td>\n      <td>1.000000</td>\n      <td>1.000000</td>\n      <td>1.000000</td>\n      <td>1.000000</td>\n      <td>1.000000</td>\n      <td>1.000000</td>\n      <td>1.000000</td>\n    </tr>\n  </tbody>\n</table>\n<p>8 rows × 21 columns</p>\n</div>"
     },
     "execution_count": 7,
     "metadata": {},
     "output_type": "execute_result"
    }
   ],
   "source": [
    "movies.describe()"
   ],
   "metadata": {
    "collapsed": false,
    "ExecuteTime": {
     "end_time": "2024-11-23T00:14:04.834863Z",
     "start_time": "2024-11-23T00:14:04.788870Z"
    }
   },
   "execution_count": 7
  },
  {
   "cell_type": "code",
   "outputs": [
    {
     "name": "stdout",
     "output_type": "stream",
     "text": [
      "<class 'pandas.core.frame.DataFrame'>\n",
      "RangeIndex: 1682 entries, 0 to 1681\n",
      "Data columns (total 24 columns):\n",
      " #   Column              Non-Null Count  Dtype  \n",
      "---  ------              --------------  -----  \n",
      " 0   movie_id            1682 non-null   int64  \n",
      " 1   title               1682 non-null   object \n",
      " 2   release_date        1681 non-null   object \n",
      " 3   video_release_date  0 non-null      float64\n",
      " 4   imdb_url            1679 non-null   object \n",
      " 5   genre_unknown       1682 non-null   int64  \n",
      " 6   Action              1682 non-null   int64  \n",
      " 7   Adventure           1682 non-null   int64  \n",
      " 8   Animation           1682 non-null   int64  \n",
      " 9   Children            1682 non-null   int64  \n",
      " 10  Comedy              1682 non-null   int64  \n",
      " 11  Crime               1682 non-null   int64  \n",
      " 12  Documentary         1682 non-null   int64  \n",
      " 13  Drama               1682 non-null   int64  \n",
      " 14  Fantasy             1682 non-null   int64  \n",
      " 15  Film-Noir           1682 non-null   int64  \n",
      " 16  Horror              1682 non-null   int64  \n",
      " 17  Musical             1682 non-null   int64  \n",
      " 18  Mystery             1682 non-null   int64  \n",
      " 19  Romance             1682 non-null   int64  \n",
      " 20  Sci-Fi              1682 non-null   int64  \n",
      " 21  Thriller            1682 non-null   int64  \n",
      " 22  War                 1682 non-null   int64  \n",
      " 23  Western             1682 non-null   int64  \n",
      "dtypes: float64(1), int64(20), object(3)\n",
      "memory usage: 315.5+ KB\n"
     ]
    }
   ],
   "source": [
    "movies.info()"
   ],
   "metadata": {
    "collapsed": false,
    "ExecuteTime": {
     "end_time": "2024-11-23T00:14:04.850449Z",
     "start_time": "2024-11-23T00:14:04.836374Z"
    }
   },
   "execution_count": 8
  },
  {
   "cell_type": "code",
   "outputs": [
    {
     "name": "stdout",
     "output_type": "stream",
     "text": [
      "There are 943 unique users in the ratings table.\n"
     ]
    }
   ],
   "source": [
    "# number of unique users\n",
    "unique_users = ratings.groupby('user_id').size().count() \n",
    "print(f\"There are {unique_users} unique users in the ratings table.\")\n"
   ],
   "metadata": {
    "collapsed": false,
    "ExecuteTime": {
     "end_time": "2024-11-23T00:14:04.865549Z",
     "start_time": "2024-11-23T00:14:04.852455Z"
    }
   },
   "execution_count": 9
  },
  {
   "cell_type": "code",
   "outputs": [
    {
     "name": "stdout",
     "output_type": "stream",
     "text": [
      "There are 1682 unique movies in the ratings table, and 1682 movies listed total.\n"
     ]
    }
   ],
   "source": [
    "# number of unique movies\n",
    "unique_movies = ratings.groupby('movie_id').size().count() \n",
    "print(f\"There are {unique_movies} unique movies in the ratings table, and {len(movies)} movies listed total.\")\n"
   ],
   "metadata": {
    "collapsed": false,
    "ExecuteTime": {
     "end_time": "2024-11-23T00:14:04.880247Z",
     "start_time": "2024-11-23T00:14:04.866555Z"
    }
   },
   "execution_count": 10
  },
  {
   "cell_type": "code",
   "outputs": [
    {
     "name": "stdout",
     "output_type": "stream",
     "text": [
      "shape of original ratings table (100000, 4)\n",
      "shape of original movies table (1682, 24)\n"
     ]
    }
   ],
   "source": [
    "# Other relevant shapes\n",
    "print(f\"shape of original ratings table {ratings.shape}\")\n",
    "print(f\"shape of original movies table {movies.shape}\")"
   ],
   "metadata": {
    "collapsed": false,
    "ExecuteTime": {
     "end_time": "2024-11-23T00:14:04.895780Z",
     "start_time": "2024-11-23T00:14:04.881248Z"
    }
   },
   "execution_count": 11
  },
  {
   "cell_type": "code",
   "outputs": [
    {
     "name": "stdout",
     "output_type": "stream",
     "text": [
      "columns of ratings: Index(['user_id', 'movie_id', 'rating', 'unix_timestamp'], dtype='object')\n",
      "columns of movies: Index(['movie_id', 'title', 'release_date', 'video_release_date', 'imdb_url',\n",
      "       'genre_unknown', 'Action', 'Adventure', 'Animation', 'Children',\n",
      "       'Comedy', 'Crime', 'Documentary', 'Drama', 'Fantasy', 'Film-Noir',\n",
      "       'Horror', 'Musical', 'Mystery', 'Romance', 'Sci-Fi', 'Thriller', 'War',\n",
      "       'Western'],\n",
      "      dtype='object')\n"
     ]
    }
   ],
   "source": [
    "print(f\"columns of ratings: {ratings.columns}\")\n",
    "print(f\"columns of movies: {movies.columns}\")"
   ],
   "metadata": {
    "collapsed": false,
    "ExecuteTime": {
     "end_time": "2024-11-23T00:14:04.911312Z",
     "start_time": "2024-11-23T00:14:04.896780Z"
    }
   },
   "execution_count": 12
  },
  {
   "cell_type": "code",
   "source": [
    "# Merge movies and ratings dataframes\n",
    "# Only keep the 'user_id', 'title', 'rating' fields\n",
    "user_ratings_df = pd.merge(ratings[['user_id', 'movie_id', 'rating']], movies[['movie_id', 'title']], how='left', on='movie_id')\n",
    "user_ratings_df.drop(columns=['movie_id'], inplace=True)\n",
    "# Before working with the user ratings, have to remove the duplicates; there are 307 records with duplicate entries of user_id and title\n",
    "# we'll average them together because that's their experience\n",
    "user_ratings_df = user_ratings_df.groupby(['user_id', 'title'], as_index=False)['rating'].mean()\n",
    "user_ratings_df.head()"
   ],
   "metadata": {
    "id": "f6MrymMJRMjB",
    "ExecuteTime": {
     "end_time": "2024-11-23T00:14:04.972862Z",
     "start_time": "2024-11-23T00:14:04.912313Z"
    }
   },
   "execution_count": 13,
   "outputs": [
    {
     "data": {
      "text/plain": "   user_id                                title  rating\n0        1                101 Dalmatians (1996)     2.0\n1        1                  12 Angry Men (1957)     5.0\n2        1  20,000 Leagues Under the Sea (1954)     3.0\n3        1         2001: A Space Odyssey (1968)     4.0\n4        1                    Abyss, The (1989)     3.0",
      "text/html": "<div>\n<style scoped>\n    .dataframe tbody tr th:only-of-type {\n        vertical-align: middle;\n    }\n\n    .dataframe tbody tr th {\n        vertical-align: top;\n    }\n\n    .dataframe thead th {\n        text-align: right;\n    }\n</style>\n<table border=\"1\" class=\"dataframe\">\n  <thead>\n    <tr style=\"text-align: right;\">\n      <th></th>\n      <th>user_id</th>\n      <th>title</th>\n      <th>rating</th>\n    </tr>\n  </thead>\n  <tbody>\n    <tr>\n      <th>0</th>\n      <td>1</td>\n      <td>101 Dalmatians (1996)</td>\n      <td>2.0</td>\n    </tr>\n    <tr>\n      <th>1</th>\n      <td>1</td>\n      <td>12 Angry Men (1957)</td>\n      <td>5.0</td>\n    </tr>\n    <tr>\n      <th>2</th>\n      <td>1</td>\n      <td>20,000 Leagues Under the Sea (1954)</td>\n      <td>3.0</td>\n    </tr>\n    <tr>\n      <th>3</th>\n      <td>1</td>\n      <td>2001: A Space Odyssey (1968)</td>\n      <td>4.0</td>\n    </tr>\n    <tr>\n      <th>4</th>\n      <td>1</td>\n      <td>Abyss, The (1989)</td>\n      <td>3.0</td>\n    </tr>\n  </tbody>\n</table>\n</div>"
     },
     "execution_count": 13,
     "metadata": {},
     "output_type": "execute_result"
    }
   ]
  },
  {
   "cell_type": "code",
   "outputs": [
    {
     "data": {
      "text/plain": "                   genre_unknown  Action  Adventure  Animation  Children  \\\ntitle                                                                      \nToy Story (1995)               0       0          0          1         1   \nGoldenEye (1995)               0       1          1          0         0   \nFour Rooms (1995)              0       0          0          0         0   \nGet Shorty (1995)              0       1          0          0         0   \nCopycat (1995)                 0       0          0          0         0   \n\n                   Comedy  Crime  Documentary  Drama  Fantasy  Film-Noir  \\\ntitle                                                                      \nToy Story (1995)        1      0            0      0        0          0   \nGoldenEye (1995)        0      0            0      0        0          0   \nFour Rooms (1995)       0      0            0      0        0          0   \nGet Shorty (1995)       1      0            0      1        0          0   \nCopycat (1995)          0      1            0      1        0          0   \n\n                   Horror  Musical  Mystery  Romance  Sci-Fi  Thriller  War  \\\ntitle                                                                         \nToy Story (1995)        0        0        0        0       0         0    0   \nGoldenEye (1995)        0        0        0        0       0         1    0   \nFour Rooms (1995)       0        0        0        0       0         1    0   \nGet Shorty (1995)       0        0        0        0       0         0    0   \nCopycat (1995)          0        0        0        0       0         1    0   \n\n                   Western  \ntitle                       \nToy Story (1995)         0  \nGoldenEye (1995)         0  \nFour Rooms (1995)        0  \nGet Shorty (1995)        0  \nCopycat (1995)           0  ",
      "text/html": "<div>\n<style scoped>\n    .dataframe tbody tr th:only-of-type {\n        vertical-align: middle;\n    }\n\n    .dataframe tbody tr th {\n        vertical-align: top;\n    }\n\n    .dataframe thead th {\n        text-align: right;\n    }\n</style>\n<table border=\"1\" class=\"dataframe\">\n  <thead>\n    <tr style=\"text-align: right;\">\n      <th></th>\n      <th>genre_unknown</th>\n      <th>Action</th>\n      <th>Adventure</th>\n      <th>Animation</th>\n      <th>Children</th>\n      <th>Comedy</th>\n      <th>Crime</th>\n      <th>Documentary</th>\n      <th>Drama</th>\n      <th>Fantasy</th>\n      <th>Film-Noir</th>\n      <th>Horror</th>\n      <th>Musical</th>\n      <th>Mystery</th>\n      <th>Romance</th>\n      <th>Sci-Fi</th>\n      <th>Thriller</th>\n      <th>War</th>\n      <th>Western</th>\n    </tr>\n    <tr>\n      <th>title</th>\n      <th></th>\n      <th></th>\n      <th></th>\n      <th></th>\n      <th></th>\n      <th></th>\n      <th></th>\n      <th></th>\n      <th></th>\n      <th></th>\n      <th></th>\n      <th></th>\n      <th></th>\n      <th></th>\n      <th></th>\n      <th></th>\n      <th></th>\n      <th></th>\n      <th></th>\n    </tr>\n  </thead>\n  <tbody>\n    <tr>\n      <th>Toy Story (1995)</th>\n      <td>0</td>\n      <td>0</td>\n      <td>0</td>\n      <td>1</td>\n      <td>1</td>\n      <td>1</td>\n      <td>0</td>\n      <td>0</td>\n      <td>0</td>\n      <td>0</td>\n      <td>0</td>\n      <td>0</td>\n      <td>0</td>\n      <td>0</td>\n      <td>0</td>\n      <td>0</td>\n      <td>0</td>\n      <td>0</td>\n      <td>0</td>\n    </tr>\n    <tr>\n      <th>GoldenEye (1995)</th>\n      <td>0</td>\n      <td>1</td>\n      <td>1</td>\n      <td>0</td>\n      <td>0</td>\n      <td>0</td>\n      <td>0</td>\n      <td>0</td>\n      <td>0</td>\n      <td>0</td>\n      <td>0</td>\n      <td>0</td>\n      <td>0</td>\n      <td>0</td>\n      <td>0</td>\n      <td>0</td>\n      <td>1</td>\n      <td>0</td>\n      <td>0</td>\n    </tr>\n    <tr>\n      <th>Four Rooms (1995)</th>\n      <td>0</td>\n      <td>0</td>\n      <td>0</td>\n      <td>0</td>\n      <td>0</td>\n      <td>0</td>\n      <td>0</td>\n      <td>0</td>\n      <td>0</td>\n      <td>0</td>\n      <td>0</td>\n      <td>0</td>\n      <td>0</td>\n      <td>0</td>\n      <td>0</td>\n      <td>0</td>\n      <td>1</td>\n      <td>0</td>\n      <td>0</td>\n    </tr>\n    <tr>\n      <th>Get Shorty (1995)</th>\n      <td>0</td>\n      <td>1</td>\n      <td>0</td>\n      <td>0</td>\n      <td>0</td>\n      <td>1</td>\n      <td>0</td>\n      <td>0</td>\n      <td>1</td>\n      <td>0</td>\n      <td>0</td>\n      <td>0</td>\n      <td>0</td>\n      <td>0</td>\n      <td>0</td>\n      <td>0</td>\n      <td>0</td>\n      <td>0</td>\n      <td>0</td>\n    </tr>\n    <tr>\n      <th>Copycat (1995)</th>\n      <td>0</td>\n      <td>0</td>\n      <td>0</td>\n      <td>0</td>\n      <td>0</td>\n      <td>0</td>\n      <td>1</td>\n      <td>0</td>\n      <td>1</td>\n      <td>0</td>\n      <td>0</td>\n      <td>0</td>\n      <td>0</td>\n      <td>0</td>\n      <td>0</td>\n      <td>0</td>\n      <td>1</td>\n      <td>0</td>\n      <td>0</td>\n    </tr>\n  </tbody>\n</table>\n</div>"
     },
     "execution_count": 14,
     "metadata": {},
     "output_type": "execute_result"
    }
   ],
   "source": [
    "# I'll use these for examining content-based recommendations later on\n",
    "movies_df = movies[['title']+genre_cols].set_index('title')\n",
    "movies_df.head()"
   ],
   "metadata": {
    "collapsed": false,
    "ExecuteTime": {
     "end_time": "2024-11-23T00:14:04.988598Z",
     "start_time": "2024-11-23T00:14:04.975878Z"
    }
   },
   "execution_count": 14
  },
  {
   "cell_type": "markdown",
   "source": [
    "As mentioned in the introduction, content-Based Filtering is a recommendation engine approach that focuses on the attributes or features of items (products, movies, music, articles, etc.) and leverages these features to make personalized recommendations. The underlying idea is to match the characteristics of items with the preferences of users to suggest items that align with their interests. Content-based filtering is particularly useful when explicit user-item interactions (e.g., ratings or purchases) are sparse or unavailable.\n",
    "\n",
    "**Key Steps in Content-Based Filtering:**\n",
    "\n",
    "1. **Feature Extraction:**\n",
    "   - For each item, relevant features are extracted. These features are typically descriptive attributes that can be represented numerically, such as genre, director, actors, author, publication date, and keywords.\n",
    "   - In the case of text-based items, natural language processing techniques may be used to extract features like TF-IDF (Term Frequency-Inverse Document Frequency) scores.\n",
    "\n",
    "2. **User Profile Creation:**\n",
    "   - A user profile is created based on the items they have interacted with in the past. The user profile contains the weighted importance of features based on their interactions.\n",
    "   - For example, if a user has watched several action movies, the action genre feature would receive a higher weight in their profile.\n",
    "\n",
    "3. **Similarity Calculation:**\n",
    "   - The similarity between items or between items and the user profile is calculated using similarity metrics like cosine similarity, Euclidean distance, or Pearson correlation.\n",
    "   - Cosine similarity is commonly used as it measures the cosine of the angle between two vectors, which represents their similarity.\n",
    "\n",
    "4. **Recommendation:**\n",
    "   - Items that are most similar to the user profile are recommended to the user. These are items whose features have the highest similarity scores with the user profile.\n",
    "   - The recommended items are presented as a list sorted by their similarity scores.\n",
    "\n",
    "**Advantages of Content-Based Filtering:**\n",
    "1. **No Cold-Start Problem:** Content-based filtering can make recommendations even for new users with no historical interactions because it relies on item features rather than user history.\n",
    "\n",
    "2. **User Independence:** The recommendations are based solely on the features of items and do not require knowledge of other users' preferences or behavior.\n",
    "\n",
    "3. **Transparency:** Content-based recommendations are interpretable, as they depend on the features of items, making it easier for users to understand why specific items are recommended.\n",
    "\n",
    "4. **Serendipity:** Content-based filtering can recommend items with characteristics not seen before by the user, leading to serendipitous discoveries.\n",
    "\n",
    "5. **Diversity in Recommendations:** The method can offer diverse recommendations since it suggests items with different feature combinations.\n",
    "\n",
    "**Limitations of Content-Based Filtering:**\n",
    "1. **Limited Discovery:** Content-based filtering may struggle to recommend items outside the scope of users' historical interactions or interests.\n",
    "\n",
    "2. **Over-Specialization:** Users may receive recommendations that are too similar to their previous choices, leading to a lack of exposure to new item categories.\n",
    "\n",
    "3. **Dependency on Feature Quality:** The quality and relevance of item features significantly influence the quality of recommendations.\n",
    "\n",
    "4. **Limited for Cold Items:** Content-based filtering can struggle to recommend new items with limited feature information."
   ],
   "metadata": {
    "id": "_U44W0TMT3qf"
   }
  },
  {
   "cell_type": "markdown",
   "source": [
    "Here is your task:\n",
    "\n",
    "1. Write a function that takes in a user id and the dataframe you created before that contains 'user_id', 'title', and 'rating'. The function should return content-based recommendations for this user. Here are steps you can take:\n",
    "\n",
    "  A. Get the user's rated movies\n",
    "\n",
    "  B. Create a TF-IDF matrix using movie genres. Note, this can be extracted from the `movies` dataframe.\n",
    "\n",
    "  C. Compute the cosine similarity between movie genres. Use the [cosine_similarity](https://scikit-learn.org/stable/modules/generated/sklearn.metrics.pairwise.cosine_similarity.html) function.\n",
    "\n",
    "  D. Get the indices of similar movies to those rated by the user based on cosine similarity. Keep only the top 5.\n",
    "\n",
    "  E. Remove duplicates and movies already rated by the user."
   ],
   "metadata": {
    "id": "sbJGD7j7Ui-8"
   }
  },
  {
   "cell_type": "code",
   "source": [
    "# Content-Based Filtering using Movie Genres\n",
    "\n",
    "# build the genre matrix with user ratings\n",
    "movies_ratings_df = pd.merge(user_ratings_df, movies[['title']+genre_cols], on='title' ) \n",
    "movies_ratings_df\n",
    "\n",
    "# apply ratings to all genres per user and movie\n",
    "#user_genre_wt_df = movies_ratings_df[genre_cols].multiply(movies_ratings_df['rating'], axis=0)\n",
    "#user_genre_wt_df['user_id'] = movies_ratings_df['user_id'] # add the user_id that was dropped in prior op\n",
    "#user_genre_wt_df = wt_df.groupby('user_id')[genre_cols].mean() # consolidate user preferences, weighted average means by genre\n",
    "#user_genre_wt_df.head()\n"
   ],
   "metadata": {
    "id": "JwBQSC-POTzn",
    "ExecuteTime": {
     "end_time": "2024-11-23T00:14:05.051193Z",
     "start_time": "2024-11-23T00:14:04.989603Z"
    }
   },
   "execution_count": 15,
   "outputs": [
    {
     "data": {
      "text/plain": "        user_id                                title  rating  genre_unknown  \\\n0             1                101 Dalmatians (1996)     2.0              0   \n1             1                  12 Angry Men (1957)     5.0              0   \n2             1  20,000 Leagues Under the Sea (1954)     3.0              0   \n3             1         2001: A Space Odyssey (1968)     4.0              0   \n4             1                    Abyss, The (1989)     3.0              0   \n...         ...                                  ...     ...            ...   \n100650      943             Wizard of Oz, The (1939)     3.0              0   \n100651      943                          Wolf (1994)     2.0              0   \n100652      943                    Wyatt Earp (1994)     1.0              0   \n100653      943                    Young Guns (1988)     4.0              0   \n100654      943                 Young Guns II (1990)     3.0              0   \n\n        Action  Adventure  Animation  Children  Comedy  Crime  ...  Fantasy  \\\n0            0          0          0         1       1      0  ...        0   \n1            0          0          0         0       0      0  ...        0   \n2            0          1          0         1       0      0  ...        1   \n3            0          0          0         0       0      0  ...        0   \n4            1          1          0         0       0      0  ...        0   \n...        ...        ...        ...       ...     ...    ...  ...      ...   \n100650       0          1          0         1       0      0  ...        0   \n100651       0          0          0         0       0      0  ...        0   \n100652       0          0          0         0       0      0  ...        0   \n100653       1          0          0         0       1      0  ...        0   \n100654       1          0          0         0       1      0  ...        0   \n\n        Film-Noir  Horror  Musical  Mystery  Romance  Sci-Fi  Thriller  War  \\\n0               0       0        0        0        0       0         0    0   \n1               0       0        0        0        0       0         0    0   \n2               0       0        0        0        0       1         0    0   \n3               0       0        0        1        0       1         1    0   \n4               0       0        0        0        0       1         1    0   \n...           ...     ...      ...      ...      ...     ...       ...  ...   \n100650          0       0        1        0        0       0         0    0   \n100651          0       1        0        0        0       0         0    0   \n100652          0       0        0        0        0       0         0    0   \n100653          0       0        0        0        0       0         0    0   \n100654          0       0        0        0        0       0         0    0   \n\n        Western  \n0             0  \n1             0  \n2             0  \n3             0  \n4             0  \n...         ...  \n100650        0  \n100651        0  \n100652        1  \n100653        1  \n100654        1  \n\n[100655 rows x 22 columns]",
      "text/html": "<div>\n<style scoped>\n    .dataframe tbody tr th:only-of-type {\n        vertical-align: middle;\n    }\n\n    .dataframe tbody tr th {\n        vertical-align: top;\n    }\n\n    .dataframe thead th {\n        text-align: right;\n    }\n</style>\n<table border=\"1\" class=\"dataframe\">\n  <thead>\n    <tr style=\"text-align: right;\">\n      <th></th>\n      <th>user_id</th>\n      <th>title</th>\n      <th>rating</th>\n      <th>genre_unknown</th>\n      <th>Action</th>\n      <th>Adventure</th>\n      <th>Animation</th>\n      <th>Children</th>\n      <th>Comedy</th>\n      <th>Crime</th>\n      <th>...</th>\n      <th>Fantasy</th>\n      <th>Film-Noir</th>\n      <th>Horror</th>\n      <th>Musical</th>\n      <th>Mystery</th>\n      <th>Romance</th>\n      <th>Sci-Fi</th>\n      <th>Thriller</th>\n      <th>War</th>\n      <th>Western</th>\n    </tr>\n  </thead>\n  <tbody>\n    <tr>\n      <th>0</th>\n      <td>1</td>\n      <td>101 Dalmatians (1996)</td>\n      <td>2.0</td>\n      <td>0</td>\n      <td>0</td>\n      <td>0</td>\n      <td>0</td>\n      <td>1</td>\n      <td>1</td>\n      <td>0</td>\n      <td>...</td>\n      <td>0</td>\n      <td>0</td>\n      <td>0</td>\n      <td>0</td>\n      <td>0</td>\n      <td>0</td>\n      <td>0</td>\n      <td>0</td>\n      <td>0</td>\n      <td>0</td>\n    </tr>\n    <tr>\n      <th>1</th>\n      <td>1</td>\n      <td>12 Angry Men (1957)</td>\n      <td>5.0</td>\n      <td>0</td>\n      <td>0</td>\n      <td>0</td>\n      <td>0</td>\n      <td>0</td>\n      <td>0</td>\n      <td>0</td>\n      <td>...</td>\n      <td>0</td>\n      <td>0</td>\n      <td>0</td>\n      <td>0</td>\n      <td>0</td>\n      <td>0</td>\n      <td>0</td>\n      <td>0</td>\n      <td>0</td>\n      <td>0</td>\n    </tr>\n    <tr>\n      <th>2</th>\n      <td>1</td>\n      <td>20,000 Leagues Under the Sea (1954)</td>\n      <td>3.0</td>\n      <td>0</td>\n      <td>0</td>\n      <td>1</td>\n      <td>0</td>\n      <td>1</td>\n      <td>0</td>\n      <td>0</td>\n      <td>...</td>\n      <td>1</td>\n      <td>0</td>\n      <td>0</td>\n      <td>0</td>\n      <td>0</td>\n      <td>0</td>\n      <td>1</td>\n      <td>0</td>\n      <td>0</td>\n      <td>0</td>\n    </tr>\n    <tr>\n      <th>3</th>\n      <td>1</td>\n      <td>2001: A Space Odyssey (1968)</td>\n      <td>4.0</td>\n      <td>0</td>\n      <td>0</td>\n      <td>0</td>\n      <td>0</td>\n      <td>0</td>\n      <td>0</td>\n      <td>0</td>\n      <td>...</td>\n      <td>0</td>\n      <td>0</td>\n      <td>0</td>\n      <td>0</td>\n      <td>1</td>\n      <td>0</td>\n      <td>1</td>\n      <td>1</td>\n      <td>0</td>\n      <td>0</td>\n    </tr>\n    <tr>\n      <th>4</th>\n      <td>1</td>\n      <td>Abyss, The (1989)</td>\n      <td>3.0</td>\n      <td>0</td>\n      <td>1</td>\n      <td>1</td>\n      <td>0</td>\n      <td>0</td>\n      <td>0</td>\n      <td>0</td>\n      <td>...</td>\n      <td>0</td>\n      <td>0</td>\n      <td>0</td>\n      <td>0</td>\n      <td>0</td>\n      <td>0</td>\n      <td>1</td>\n      <td>1</td>\n      <td>0</td>\n      <td>0</td>\n    </tr>\n    <tr>\n      <th>...</th>\n      <td>...</td>\n      <td>...</td>\n      <td>...</td>\n      <td>...</td>\n      <td>...</td>\n      <td>...</td>\n      <td>...</td>\n      <td>...</td>\n      <td>...</td>\n      <td>...</td>\n      <td>...</td>\n      <td>...</td>\n      <td>...</td>\n      <td>...</td>\n      <td>...</td>\n      <td>...</td>\n      <td>...</td>\n      <td>...</td>\n      <td>...</td>\n      <td>...</td>\n      <td>...</td>\n    </tr>\n    <tr>\n      <th>100650</th>\n      <td>943</td>\n      <td>Wizard of Oz, The (1939)</td>\n      <td>3.0</td>\n      <td>0</td>\n      <td>0</td>\n      <td>1</td>\n      <td>0</td>\n      <td>1</td>\n      <td>0</td>\n      <td>0</td>\n      <td>...</td>\n      <td>0</td>\n      <td>0</td>\n      <td>0</td>\n      <td>1</td>\n      <td>0</td>\n      <td>0</td>\n      <td>0</td>\n      <td>0</td>\n      <td>0</td>\n      <td>0</td>\n    </tr>\n    <tr>\n      <th>100651</th>\n      <td>943</td>\n      <td>Wolf (1994)</td>\n      <td>2.0</td>\n      <td>0</td>\n      <td>0</td>\n      <td>0</td>\n      <td>0</td>\n      <td>0</td>\n      <td>0</td>\n      <td>0</td>\n      <td>...</td>\n      <td>0</td>\n      <td>0</td>\n      <td>1</td>\n      <td>0</td>\n      <td>0</td>\n      <td>0</td>\n      <td>0</td>\n      <td>0</td>\n      <td>0</td>\n      <td>0</td>\n    </tr>\n    <tr>\n      <th>100652</th>\n      <td>943</td>\n      <td>Wyatt Earp (1994)</td>\n      <td>1.0</td>\n      <td>0</td>\n      <td>0</td>\n      <td>0</td>\n      <td>0</td>\n      <td>0</td>\n      <td>0</td>\n      <td>0</td>\n      <td>...</td>\n      <td>0</td>\n      <td>0</td>\n      <td>0</td>\n      <td>0</td>\n      <td>0</td>\n      <td>0</td>\n      <td>0</td>\n      <td>0</td>\n      <td>0</td>\n      <td>1</td>\n    </tr>\n    <tr>\n      <th>100653</th>\n      <td>943</td>\n      <td>Young Guns (1988)</td>\n      <td>4.0</td>\n      <td>0</td>\n      <td>1</td>\n      <td>0</td>\n      <td>0</td>\n      <td>0</td>\n      <td>1</td>\n      <td>0</td>\n      <td>...</td>\n      <td>0</td>\n      <td>0</td>\n      <td>0</td>\n      <td>0</td>\n      <td>0</td>\n      <td>0</td>\n      <td>0</td>\n      <td>0</td>\n      <td>0</td>\n      <td>1</td>\n    </tr>\n    <tr>\n      <th>100654</th>\n      <td>943</td>\n      <td>Young Guns II (1990)</td>\n      <td>3.0</td>\n      <td>0</td>\n      <td>1</td>\n      <td>0</td>\n      <td>0</td>\n      <td>0</td>\n      <td>1</td>\n      <td>0</td>\n      <td>...</td>\n      <td>0</td>\n      <td>0</td>\n      <td>0</td>\n      <td>0</td>\n      <td>0</td>\n      <td>0</td>\n      <td>0</td>\n      <td>0</td>\n      <td>0</td>\n      <td>1</td>\n    </tr>\n  </tbody>\n</table>\n<p>100655 rows × 22 columns</p>\n</div>"
     },
     "execution_count": 15,
     "metadata": {},
     "output_type": "execute_result"
    }
   ]
  },
  {
   "cell_type": "markdown",
   "source": [
    "Using the <a href='https://scikit-learn.org/1.5/modules/generated/sklearn.preprocessing.normalize.html'>scikit-learn Normalize</a> class to normalize the dataset by rows"
   ],
   "metadata": {
    "collapsed": false
   }
  },
  {
   "cell_type": "code",
   "outputs": [],
   "source": [
    "### Unused code block, will do this in the function bodies # normalize the rows for all users \n",
    "# not the set_output method with Normalizer doesn't retain the column names or index, but this direct iloc assignment does\n",
    "# found here: https://stackoverflow.com/questions/52007165/normalizing-rows-of-pandas-dataframe\n",
    "#user_genre_wt_df.iloc[:,:] = Normalizer().fit_transform(wt_df)\n",
    "#user_genre_wt_df.head()"
   ],
   "metadata": {
    "collapsed": false,
    "ExecuteTime": {
     "end_time": "2024-11-23T00:14:05.065850Z",
     "start_time": "2024-11-23T00:14:05.052194Z"
    }
   },
   "execution_count": 16
  },
  {
   "cell_type": "code",
   "outputs": [],
   "source": [
    "### Unused code block, will do this in the function bodies # Compute the cosine similarity for all movies based on their genres; indexing by title for lookup\n",
    "# I suppose this would be useful for making recommendations based on a specific movie or movies just watched\n",
    "#cs_movies_df = pd.DataFrame(cosine_similarity(movies[genre_cols]), index=movies['title'], columns=movies['title'])\n",
    "#cs_movies_df.iloc[:7,:7]"
   ],
   "metadata": {
    "collapsed": false,
    "ExecuteTime": {
     "end_time": "2024-11-23T00:14:05.081419Z",
     "start_time": "2024-11-23T00:14:05.067356Z"
    }
   },
   "execution_count": 17
  },
  {
   "cell_type": "code",
   "outputs": [],
   "source": [
    "# Content-Based Filtering using Movie Genres\n",
    "def content_based_recommendation(user_id, mdf, gdf):\n",
    "    # old code\n",
    "    #this_user_df = user_genre_wt_df.loc[user_id]\n",
    "    #user_genre_wt_df = gdf.multiply(gdf['rating'], axis=0))\n",
    "    #user_genre_wt_df['user_id'] = movies_ratings_df['user_id'] # add the user_id that was dropped in prior op\n",
    "    #user_genre_wt_df = wt_df.groupby('user_id')[genre_cols].mean() # consolidate user preferences, weighted average means by genre\n",
    "    #csa_df = pd.DataFrame(csa, index=user_tfid_df.index, columns=user_tfid_df.index)\n",
    "    \n",
    "    # Get the user's rated movies\n",
    "    user_df = mdf[mdf['user_id']==user_id]\n",
    "    # Join the user's rated movie with their genres\n",
    "    user_df = pd.merge(user_df, gdf, on='title', how='left')\n",
    "    user_df.set_index('title', inplace=True)\n",
    "    # apply the ratings to the genres\n",
    "    user_df = user_df[genre_cols].multiply(user_df['rating'], axis=0)\n",
    "    # get the means by genre for the user\n",
    "    user_mean_df = user_df.mean()\n",
    "    print(f\"User {user_id} weights by genre: \\n{user_mean_df}\")\n",
    "    #  Normalizing should not be done before the means, otherwise it loses the weighting of the counts of ratings.\n",
    "    # for example for user 162, their original sumproduct of Comedy = 37, and Thriller = 52.\n",
    "    # taking the Mean of these, shows Comedy = 0.88 and Thrillers = 1.23 reflecting the weight of the positive ratings and number of movies seen of that genre\n",
    "    # If we normalize before taking the mean, Comedy = 0.227 and Thrillers = 0.223 which would give precedence to Comedies, but that's not their viewing pattern \n",
    "    # their viewing pattern shows they've watched 42 movies, but only 11 of those are Comedies and 14 are Thrillers, \n",
    "    #   so I'd expect a bias towards Thrillers instead of Comedies in the top content based recommendations, though there may be some Comedies in the top 10\n",
    "    \n",
    "    # Get the list of movies not rated by the user\n",
    "    unseen_df = movies_df.drop(user_df.index) \n",
    "    # Compute the cosine similarity between unseen movies and user preferences by genre\n",
    "    # TODO : I don't understand why this reshape works, when the original DataCamp exercises used (-1,1) for the reshape\n",
    "    csa_df = pd.DataFrame(cosine_similarity(user_mean_df.values.reshape(1,-1), unseen_df).T, index=unseen_df.index, columns=['score']) \n",
    "    # Get the indices of the similar movies based on cosine similarity\n",
    "    csa_df.sort_values(by='score', inplace=True, ascending=False)\n",
    "    return csa_df\n",
    "  "
   ],
   "metadata": {
    "collapsed": false,
    "ExecuteTime": {
     "end_time": "2024-11-23T00:14:05.096631Z",
     "start_time": "2024-11-23T00:14:05.082419Z"
    }
   },
   "execution_count": 18
  },
  {
   "cell_type": "markdown",
   "source": [
    "The key idea behind collaborative filtering is that users who have agreed in the past will likely agree in the future. Instead of relying on item attributes or user profiles, collaborative filtering identifies patterns of user behavior and item preferences from the interactions present in the data.\n",
    "\n",
    "**Types of Collaborative Filtering:**\n",
    "There are two main types of collaborative filtering:\n",
    "\n",
    "**Collaborative Filtering Process:**\n",
    "The collaborative filtering process typically involves the following steps:\n",
    "\n",
    "1. **Data Collection:**\n",
    "   - Gather data on user-item interactions, such as movie ratings, product purchases, or article clicks.\n",
    "\n",
    "2. **User-Item Matrix:**\n",
    "   - Organize the data into a user-item matrix, where rows represent users, columns represent items, and the entries contain the users' interactions (e.g., ratings).\n",
    "\n",
    "3. **Similarity Calculation:**\n",
    "   - Calculate the similarity between users or items using similarity metrics such as cosine similarity, Pearson correlation, or Jaccard similarity.\n",
    "   - For user-based collaborative filtering, user similarities are calculated, and for item-based collaborative filtering, item similarities are calculated.\n",
    "\n",
    "4. **Neighborhood Selection:**\n",
    "   - For each user or item, select the most similar users or items as the neighborhood.\n",
    "   - The size of the neighborhood (the number of similar users or items to consider) is an important parameter to control the system's behavior.\n",
    "\n",
    "5. **Prediction Generation:**\n",
    "   - Predict the ratings for items that the target user has not yet interacted with by combining the ratings of neighboring users or items.\n",
    "\n",
    "6. **Recommendation Generation:**\n",
    "   - Recommend items with the highest predicted ratings to the target user.\n",
    "\n",
    "**Advantages of Collaborative Filtering using User-Item Interactions:**\n",
    "- Collaborative filtering is based solely on user interactions and does not require knowledge of item attributes, making it useful for cases where item data is sparse or unavailable.\n",
    "- It can provide serendipitous recommendations, suggesting items that users may not have discovered on their own.\n",
    "- Collaborative filtering can be applied in various domains, including e-commerce, music, movie, and content recommendations.\n",
    "\n",
    "**Limitations of Collaborative Filtering:**\n",
    "- The cold-start problem: Collaborative filtering struggles to recommend to new users or items with no or limited interaction history.\n",
    "- It may suffer from sparsity when data is limited or when users have only interacted with a small subset of items.\n",
    "- Scalability issues can arise with large datasets and an increasing number of users or items."
   ],
   "metadata": {
    "id": "2NNt3gHLYDxU"
   }
  },
  {
   "cell_type": "markdown",
   "source": [
    "Here is your task:\n",
    "\n",
    "1. Write a function that takes in a user id and the dataframe you created before that contains 'user_id', 'title', and 'rating'. The function should return collaborative filtering recommendations for this user based on a user-item interaction matrix. Here are steps you can take:\n",
    "\n",
    "  A. Create the user-item matrix using Pandas' [pivot_table](https://pandas.pydata.org/docs/reference/api/pandas.pivot_table.html).\n",
    "\n",
    "  B. Fill missing values with zeros in this matrix.\n",
    "\n",
    "  C. Calculate user-user similarity matrix using cosine similarity.\n",
    "\n",
    "  D. Get the array of similarity scores of the target user with all other users from the similarity matrix.\n",
    "\n",
    "  E. Extract, say the the top 5 most similar users (excluding the target user).\n",
    "\n",
    "  F. Generate movie recommendations based on the most similar users.\n",
    "\n",
    "  G. Remove duplicate movies recommendations."
   ],
   "metadata": {
    "id": "ks4mWyCaYVNY"
   }
  },
  {
   "cell_type": "code",
   "source": [
    "\n",
    "# Collaborative Filtering using User-Item Interactions\n",
    "def collaborative_filtering_recommendation(user_id, df):\n",
    "    #user_movies_df = df[df['user_id']==user_id]\n",
    "    #user_movies_df = user_movies_df.pivot(index='user_id', columns='title', values='rating')\n",
    "    \n",
    "    # Create the user-item matrix\n",
    "    pivot_df = df.pivot(index='user_id', columns='title', values='rating')\n",
    "    \n",
    "    # Fill missing values with 0 (indicating no rating)\n",
    "    pivot_df.fillna(0, inplace=True)\n",
    "  \n",
    "    # Calculate user-user similarity matrix using cosine similarity\n",
    "    csa = cosine_similarity(pivot_df)\n",
    "    csa_df = pd.DataFrame(csa, index=pivot_df.index, columns=pivot_df.index)\n",
    "    \n",
    "    # Get the similarity scores of the target user with all other users\n",
    "    user_csa = csa_df.loc[user_id]\n",
    "    \n",
    "    # Find the top N most similar users (excluding the target user)\n",
    "    ordered_users_df = user_csa.sort_values(ascending=False)[1:6]\n",
    "    print(ordered_users_df)\n",
    "    \n",
    "    # Generate movie recommendations based on the most similar users\n",
    "    # personal notes: to implement, get a list of titles reviewed by those N most similar users\n",
    "    #   then sum up the ratings across all the users, and divide by N (the number of other users)\n",
    "    #   this gives us a weighted average rating, and movies that were not watched by all N similar users will be penalized\n",
    "    #   so with this we can find top 5 movies watched and rated highly by all 5 similar users\n",
    "    similar_movies_df = df[df['user_id'].isin(ordered_users_df.index)]\n",
    "    similar_movies_df = similar_movies_df.groupby('title')['rating'].sum().to_frame()/len(ordered_users_df.index)\n",
    "    similar_movies_df.rename(columns={'rating':'score'}, inplace=True)\n",
    "    \n",
    "    # Remove duplicates from recommendations\n",
    "    user_seen_movies = df[df['user_id']==user_id]['title']\n",
    "    unseen_movies_df = similar_movies_df.drop(index=user_seen_movies, errors='ignore').sort_values(by='score', ascending=False)\n",
    "    return unseen_movies_df.head(5)\n",
    "\n"
   ],
   "metadata": {
    "id": "BqZPgKRDWf-c",
    "ExecuteTime": {
     "end_time": "2024-11-23T00:14:05.111840Z",
     "start_time": "2024-11-23T00:14:05.098137Z"
    }
   },
   "execution_count": 19,
   "outputs": []
  },
  {
   "cell_type": "markdown",
   "source": [
    "Now, test your recommendations engines! Select a few user ids and generate recommendations using both functions you've written. Are the recommendations similar? Do the recommendations make sense?"
   ],
   "metadata": {
    "id": "-Jj883VAZRNe"
   }
  },
  {
   "cell_type": "code",
   "source": [
    "# Test the recommendation engines\n",
    "\n",
    "# First test for user 162, leading with the content-based recommendation\n",
    "u162_top5 = content_based_recommendation(162, user_ratings_df, movies_df)\n",
    "print(f\"\\nTop 5 content-based recommended movies :\")\n",
    "u162_top5.head()"
   ],
   "metadata": {
    "id": "kt9nuOTNJXz8",
    "ExecuteTime": {
     "end_time": "2024-11-23T00:14:05.127711Z",
     "start_time": "2024-11-23T00:14:05.112842Z"
    }
   },
   "execution_count": 20,
   "outputs": [
    {
     "name": "stdout",
     "output_type": "stream",
     "text": [
      "User 162 weights by genre: \n",
      "genre_unknown    0.000000\n",
      "Action           1.571429\n",
      "Adventure        0.904762\n",
      "Animation        0.095238\n",
      "Children         0.166667\n",
      "Comedy           0.880952\n",
      "Crime            0.595238\n",
      "Documentary      0.000000\n",
      "Drama            0.904762\n",
      "Fantasy          0.000000\n",
      "Film-Noir        0.000000\n",
      "Horror           0.071429\n",
      "Musical          0.000000\n",
      "Mystery          0.000000\n",
      "Romance          0.476190\n",
      "Sci-Fi           0.833333\n",
      "Thriller         1.238095\n",
      "War              0.380952\n",
      "Western          0.000000\n",
      "dtype: float64\n",
      "\n",
      "Top 5 content-based recommended movies :\n"
     ]
    },
    {
     "data": {
      "text/plain": "                                          score\ntitle                                          \nEscape from L.A. (1996)                0.810108\nAbyss, The (1989)                      0.810108\nEscape from New York (1981)            0.810108\nLost World: Jurassic Park, The (1997)  0.810108\nHard Target (1993)                     0.767694",
      "text/html": "<div>\n<style scoped>\n    .dataframe tbody tr th:only-of-type {\n        vertical-align: middle;\n    }\n\n    .dataframe tbody tr th {\n        vertical-align: top;\n    }\n\n    .dataframe thead th {\n        text-align: right;\n    }\n</style>\n<table border=\"1\" class=\"dataframe\">\n  <thead>\n    <tr style=\"text-align: right;\">\n      <th></th>\n      <th>score</th>\n    </tr>\n    <tr>\n      <th>title</th>\n      <th></th>\n    </tr>\n  </thead>\n  <tbody>\n    <tr>\n      <th>Escape from L.A. (1996)</th>\n      <td>0.810108</td>\n    </tr>\n    <tr>\n      <th>Abyss, The (1989)</th>\n      <td>0.810108</td>\n    </tr>\n    <tr>\n      <th>Escape from New York (1981)</th>\n      <td>0.810108</td>\n    </tr>\n    <tr>\n      <th>Lost World: Jurassic Park, The (1997)</th>\n      <td>0.810108</td>\n    </tr>\n    <tr>\n      <th>Hard Target (1993)</th>\n      <td>0.767694</td>\n    </tr>\n  </tbody>\n</table>\n</div>"
     },
     "execution_count": 20,
     "metadata": {},
     "output_type": "execute_result"
    }
   ]
  },
  {
   "cell_type": "code",
   "outputs": [
    {
     "data": {
      "text/plain": "                                       genre_unknown  Action  Adventure  \\\ntitle                                                                     \nEscape from L.A. (1996)                            0       1          1   \nAbyss, The (1989)                                  0       1          1   \nEscape from New York (1981)                        0       1          1   \nLost World: Jurassic Park, The (1997)              0       1          1   \nHard Target (1993)                                 0       1          1   \n\n                                       Animation  Children  Comedy  Crime  \\\ntitle                                                                       \nEscape from L.A. (1996)                        0         0       0      0   \nAbyss, The (1989)                              0         0       0      0   \nEscape from New York (1981)                    0         0       0      0   \nLost World: Jurassic Park, The (1997)          0         0       0      0   \nHard Target (1993)                             0         0       0      1   \n\n                                       Documentary  Drama  Fantasy  Film-Noir  \\\ntitle                                                                           \nEscape from L.A. (1996)                          0      0        0          0   \nAbyss, The (1989)                                0      0        0          0   \nEscape from New York (1981)                      0      0        0          0   \nLost World: Jurassic Park, The (1997)            0      0        0          0   \nHard Target (1993)                               0      0        0          0   \n\n                                       Horror  Musical  Mystery  Romance  \\\ntitle                                                                      \nEscape from L.A. (1996)                     0        0        0        0   \nAbyss, The (1989)                           0        0        0        0   \nEscape from New York (1981)                 0        0        0        0   \nLost World: Jurassic Park, The (1997)       0        0        0        0   \nHard Target (1993)                          0        0        0        0   \n\n                                       Sci-Fi  Thriller  War  Western  \ntitle                                                                  \nEscape from L.A. (1996)                     1         1    0        0  \nAbyss, The (1989)                           1         1    0        0  \nEscape from New York (1981)                 1         1    0        0  \nLost World: Jurassic Park, The (1997)       1         1    0        0  \nHard Target (1993)                          0         1    0        0  ",
      "text/html": "<div>\n<style scoped>\n    .dataframe tbody tr th:only-of-type {\n        vertical-align: middle;\n    }\n\n    .dataframe tbody tr th {\n        vertical-align: top;\n    }\n\n    .dataframe thead th {\n        text-align: right;\n    }\n</style>\n<table border=\"1\" class=\"dataframe\">\n  <thead>\n    <tr style=\"text-align: right;\">\n      <th></th>\n      <th>genre_unknown</th>\n      <th>Action</th>\n      <th>Adventure</th>\n      <th>Animation</th>\n      <th>Children</th>\n      <th>Comedy</th>\n      <th>Crime</th>\n      <th>Documentary</th>\n      <th>Drama</th>\n      <th>Fantasy</th>\n      <th>Film-Noir</th>\n      <th>Horror</th>\n      <th>Musical</th>\n      <th>Mystery</th>\n      <th>Romance</th>\n      <th>Sci-Fi</th>\n      <th>Thriller</th>\n      <th>War</th>\n      <th>Western</th>\n    </tr>\n    <tr>\n      <th>title</th>\n      <th></th>\n      <th></th>\n      <th></th>\n      <th></th>\n      <th></th>\n      <th></th>\n      <th></th>\n      <th></th>\n      <th></th>\n      <th></th>\n      <th></th>\n      <th></th>\n      <th></th>\n      <th></th>\n      <th></th>\n      <th></th>\n      <th></th>\n      <th></th>\n      <th></th>\n    </tr>\n  </thead>\n  <tbody>\n    <tr>\n      <th>Escape from L.A. (1996)</th>\n      <td>0</td>\n      <td>1</td>\n      <td>1</td>\n      <td>0</td>\n      <td>0</td>\n      <td>0</td>\n      <td>0</td>\n      <td>0</td>\n      <td>0</td>\n      <td>0</td>\n      <td>0</td>\n      <td>0</td>\n      <td>0</td>\n      <td>0</td>\n      <td>0</td>\n      <td>1</td>\n      <td>1</td>\n      <td>0</td>\n      <td>0</td>\n    </tr>\n    <tr>\n      <th>Abyss, The (1989)</th>\n      <td>0</td>\n      <td>1</td>\n      <td>1</td>\n      <td>0</td>\n      <td>0</td>\n      <td>0</td>\n      <td>0</td>\n      <td>0</td>\n      <td>0</td>\n      <td>0</td>\n      <td>0</td>\n      <td>0</td>\n      <td>0</td>\n      <td>0</td>\n      <td>0</td>\n      <td>1</td>\n      <td>1</td>\n      <td>0</td>\n      <td>0</td>\n    </tr>\n    <tr>\n      <th>Escape from New York (1981)</th>\n      <td>0</td>\n      <td>1</td>\n      <td>1</td>\n      <td>0</td>\n      <td>0</td>\n      <td>0</td>\n      <td>0</td>\n      <td>0</td>\n      <td>0</td>\n      <td>0</td>\n      <td>0</td>\n      <td>0</td>\n      <td>0</td>\n      <td>0</td>\n      <td>0</td>\n      <td>1</td>\n      <td>1</td>\n      <td>0</td>\n      <td>0</td>\n    </tr>\n    <tr>\n      <th>Lost World: Jurassic Park, The (1997)</th>\n      <td>0</td>\n      <td>1</td>\n      <td>1</td>\n      <td>0</td>\n      <td>0</td>\n      <td>0</td>\n      <td>0</td>\n      <td>0</td>\n      <td>0</td>\n      <td>0</td>\n      <td>0</td>\n      <td>0</td>\n      <td>0</td>\n      <td>0</td>\n      <td>0</td>\n      <td>1</td>\n      <td>1</td>\n      <td>0</td>\n      <td>0</td>\n    </tr>\n    <tr>\n      <th>Hard Target (1993)</th>\n      <td>0</td>\n      <td>1</td>\n      <td>1</td>\n      <td>0</td>\n      <td>0</td>\n      <td>0</td>\n      <td>1</td>\n      <td>0</td>\n      <td>0</td>\n      <td>0</td>\n      <td>0</td>\n      <td>0</td>\n      <td>0</td>\n      <td>0</td>\n      <td>0</td>\n      <td>0</td>\n      <td>1</td>\n      <td>0</td>\n      <td>0</td>\n    </tr>\n  </tbody>\n</table>\n</div>"
     },
     "execution_count": 21,
     "metadata": {},
     "output_type": "execute_result"
    }
   ],
   "source": [
    "movies_df.loc[u162_top5.index].head()"
   ],
   "metadata": {
    "collapsed": false,
    "ExecuteTime": {
     "end_time": "2024-11-23T00:14:05.142949Z",
     "start_time": "2024-11-23T00:14:05.128651Z"
    }
   },
   "execution_count": 21
  },
  {
   "cell_type": "markdown",
   "source": [
    "So in the Content-based recommendations, we can see that User #162 has watched a number of Action/Adventure/Thriller movies, and this list of 5 recommendations fits that trend as seen when the genres are listed out here for those 5 movies. On the surface, this seems like a good fit. Next, we'll see the same user, but compared to other users & ratings without the genres. "
   ],
   "metadata": {
    "collapsed": false
   }
  },
  {
   "cell_type": "code",
   "outputs": [
    {
     "name": "stdout",
     "output_type": "stream",
     "text": [
      "user_id\n",
      "703    0.414729\n",
      "117    0.388635\n",
      "251    0.380955\n",
      "432    0.372299\n",
      "793    0.371296\n",
      "Name: 162, dtype: float64\n",
      "\n",
      "Top 5 collaborative-based recommended movies :\n"
     ]
    },
    {
     "data": {
      "text/plain": "                           score\ntitle                           \nMen in Black (1997)          4.4\nScream (1996)                4.0\nTime to Kill, A (1996)       3.6\nMr. Holland's Opus (1995)    3.6\nFargo (1996)                 3.0",
      "text/html": "<div>\n<style scoped>\n    .dataframe tbody tr th:only-of-type {\n        vertical-align: middle;\n    }\n\n    .dataframe tbody tr th {\n        vertical-align: top;\n    }\n\n    .dataframe thead th {\n        text-align: right;\n    }\n</style>\n<table border=\"1\" class=\"dataframe\">\n  <thead>\n    <tr style=\"text-align: right;\">\n      <th></th>\n      <th>score</th>\n    </tr>\n    <tr>\n      <th>title</th>\n      <th></th>\n    </tr>\n  </thead>\n  <tbody>\n    <tr>\n      <th>Men in Black (1997)</th>\n      <td>4.4</td>\n    </tr>\n    <tr>\n      <th>Scream (1996)</th>\n      <td>4.0</td>\n    </tr>\n    <tr>\n      <th>Time to Kill, A (1996)</th>\n      <td>3.6</td>\n    </tr>\n    <tr>\n      <th>Mr. Holland's Opus (1995)</th>\n      <td>3.6</td>\n    </tr>\n    <tr>\n      <th>Fargo (1996)</th>\n      <td>3.0</td>\n    </tr>\n  </tbody>\n</table>\n</div>"
     },
     "execution_count": 22,
     "metadata": {},
     "output_type": "execute_result"
    }
   ],
   "source": [
    "# test the function for user_id 162\n",
    "collab_rec_list = collaborative_filtering_recommendation(162, user_ratings_df)\n",
    "print(f\"\\nTop 5 collaborative-based recommended movies :\")\n",
    "collab_rec_list"
   ],
   "metadata": {
    "collapsed": false,
    "ExecuteTime": {
     "end_time": "2024-11-23T00:14:05.205890Z",
     "start_time": "2024-11-23T00:14:05.143951Z"
    }
   },
   "execution_count": 22
  },
  {
   "cell_type": "code",
   "outputs": [
    {
     "data": {
      "text/plain": "                           genre_unknown  Action  Adventure  Animation  \\\ntitle                                                                    \nMr. Holland's Opus (1995)              0       0          0          0   \nFargo (1996)                           0       0          0          0   \nMen in Black (1997)                    0       1          1          0   \nTime to Kill, A (1996)                 0       0          0          0   \nScream (1996)                          0       0          0          0   \n\n                           Children  Comedy  Crime  Documentary  Drama  \\\ntitle                                                                    \nMr. Holland's Opus (1995)         0       0      0            0      1   \nFargo (1996)                      0       0      1            0      1   \nMen in Black (1997)               0       1      0            0      0   \nTime to Kill, A (1996)            0       0      0            0      1   \nScream (1996)                     0       0      0            0      0   \n\n                           Fantasy  Film-Noir  Horror  Musical  Mystery  \\\ntitle                                                                     \nMr. Holland's Opus (1995)        0          0       0        0        0   \nFargo (1996)                     0          0       0        0        0   \nMen in Black (1997)              0          0       0        0        0   \nTime to Kill, A (1996)           0          0       0        0        0   \nScream (1996)                    0          0       1        0        0   \n\n                           Romance  Sci-Fi  Thriller  War  Western  \ntitle                                                               \nMr. Holland's Opus (1995)        0       0         0    0        0  \nFargo (1996)                     0       0         1    0        0  \nMen in Black (1997)              0       1         0    0        0  \nTime to Kill, A (1996)           0       0         0    0        0  \nScream (1996)                    0       0         1    0        0  ",
      "text/html": "<div>\n<style scoped>\n    .dataframe tbody tr th:only-of-type {\n        vertical-align: middle;\n    }\n\n    .dataframe tbody tr th {\n        vertical-align: top;\n    }\n\n    .dataframe thead th {\n        text-align: right;\n    }\n</style>\n<table border=\"1\" class=\"dataframe\">\n  <thead>\n    <tr style=\"text-align: right;\">\n      <th></th>\n      <th>genre_unknown</th>\n      <th>Action</th>\n      <th>Adventure</th>\n      <th>Animation</th>\n      <th>Children</th>\n      <th>Comedy</th>\n      <th>Crime</th>\n      <th>Documentary</th>\n      <th>Drama</th>\n      <th>Fantasy</th>\n      <th>Film-Noir</th>\n      <th>Horror</th>\n      <th>Musical</th>\n      <th>Mystery</th>\n      <th>Romance</th>\n      <th>Sci-Fi</th>\n      <th>Thriller</th>\n      <th>War</th>\n      <th>Western</th>\n    </tr>\n    <tr>\n      <th>title</th>\n      <th></th>\n      <th></th>\n      <th></th>\n      <th></th>\n      <th></th>\n      <th></th>\n      <th></th>\n      <th></th>\n      <th></th>\n      <th></th>\n      <th></th>\n      <th></th>\n      <th></th>\n      <th></th>\n      <th></th>\n      <th></th>\n      <th></th>\n      <th></th>\n      <th></th>\n    </tr>\n  </thead>\n  <tbody>\n    <tr>\n      <th>Mr. Holland's Opus (1995)</th>\n      <td>0</td>\n      <td>0</td>\n      <td>0</td>\n      <td>0</td>\n      <td>0</td>\n      <td>0</td>\n      <td>0</td>\n      <td>0</td>\n      <td>1</td>\n      <td>0</td>\n      <td>0</td>\n      <td>0</td>\n      <td>0</td>\n      <td>0</td>\n      <td>0</td>\n      <td>0</td>\n      <td>0</td>\n      <td>0</td>\n      <td>0</td>\n    </tr>\n    <tr>\n      <th>Fargo (1996)</th>\n      <td>0</td>\n      <td>0</td>\n      <td>0</td>\n      <td>0</td>\n      <td>0</td>\n      <td>0</td>\n      <td>1</td>\n      <td>0</td>\n      <td>1</td>\n      <td>0</td>\n      <td>0</td>\n      <td>0</td>\n      <td>0</td>\n      <td>0</td>\n      <td>0</td>\n      <td>0</td>\n      <td>1</td>\n      <td>0</td>\n      <td>0</td>\n    </tr>\n    <tr>\n      <th>Men in Black (1997)</th>\n      <td>0</td>\n      <td>1</td>\n      <td>1</td>\n      <td>0</td>\n      <td>0</td>\n      <td>1</td>\n      <td>0</td>\n      <td>0</td>\n      <td>0</td>\n      <td>0</td>\n      <td>0</td>\n      <td>0</td>\n      <td>0</td>\n      <td>0</td>\n      <td>0</td>\n      <td>1</td>\n      <td>0</td>\n      <td>0</td>\n      <td>0</td>\n    </tr>\n    <tr>\n      <th>Time to Kill, A (1996)</th>\n      <td>0</td>\n      <td>0</td>\n      <td>0</td>\n      <td>0</td>\n      <td>0</td>\n      <td>0</td>\n      <td>0</td>\n      <td>0</td>\n      <td>1</td>\n      <td>0</td>\n      <td>0</td>\n      <td>0</td>\n      <td>0</td>\n      <td>0</td>\n      <td>0</td>\n      <td>0</td>\n      <td>0</td>\n      <td>0</td>\n      <td>0</td>\n    </tr>\n    <tr>\n      <th>Scream (1996)</th>\n      <td>0</td>\n      <td>0</td>\n      <td>0</td>\n      <td>0</td>\n      <td>0</td>\n      <td>0</td>\n      <td>0</td>\n      <td>0</td>\n      <td>0</td>\n      <td>0</td>\n      <td>0</td>\n      <td>1</td>\n      <td>0</td>\n      <td>0</td>\n      <td>0</td>\n      <td>0</td>\n      <td>1</td>\n      <td>0</td>\n      <td>0</td>\n    </tr>\n  </tbody>\n</table>\n</div>"
     },
     "execution_count": 23,
     "metadata": {},
     "output_type": "execute_result"
    }
   ],
   "source": [
    "# show the genres of these movies to compare against the user's genre preferences\n",
    "movies_df[movies_df.index.isin(collab_rec_list.index)]"
   ],
   "metadata": {
    "collapsed": false,
    "ExecuteTime": {
     "end_time": "2024-11-23T00:14:05.220948Z",
     "start_time": "2024-11-23T00:14:05.207396Z"
    }
   },
   "execution_count": 23
  },
  {
   "cell_type": "markdown",
   "source": [
    "So on the surface, this is set of recommendations is quite different from the Content-based recommendations, and in fact we only have 1 Action/Adventure movie here in the top 5 recommendations. However, when looking at the movies watched and the ratings given by User 162 in the following Dataframe, a different story emerges, where only 3 movies have been given a \"5\" rating, and only one of them is Action/Adventure. This means that a movie like \"Mr. Holland's Opus\" may be a serendipitous finding of this methodology, where the average genre is less interesting than the specific movies watched and rated highly. This follows with User 162 giving \"The People vs. Larry Flynt\" a 5 rating, and so we can see that \"Mr. Holland's Opus\" may also be a good fit here since it was rated highly by other users with similar patterns of rating & watching."
   ],
   "metadata": {
    "collapsed": false
   }
  },
  {
   "cell_type": "code",
   "outputs": [
    {
     "data": {
      "text/plain": "       user_id                               title  rating  genre_unknown  \\\n16135      162                 Multiplicity (1996)     5.0              0   \n16136      162  People vs. Larry Flynt, The (1996)     5.0              0   \n16150      162                    Star Wars (1977)     5.0              0   \n16119      162                Birdcage, The (1996)     4.0              0   \n16131      162                Jerry Maguire (1996)     4.0              0   \n\n       Action  Adventure  Animation  Children  Comedy  Crime  ...  Fantasy  \\\n16135       0          0          0         0       1      0  ...        0   \n16136       0          0          0         0       0      0  ...        0   \n16150       1          1          0         0       0      0  ...        0   \n16119       0          0          0         0       1      0  ...        0   \n16131       0          0          0         0       0      0  ...        0   \n\n       Film-Noir  Horror  Musical  Mystery  Romance  Sci-Fi  Thriller  War  \\\n16135          0       0        0        0        0       0         0    0   \n16136          0       0        0        0        0       0         0    0   \n16150          0       0        0        0        1       1         0    1   \n16119          0       0        0        0        0       0         0    0   \n16131          0       0        0        0        1       0         0    0   \n\n       Western  \n16135        0  \n16136        0  \n16150        0  \n16119        0  \n16131        0  \n\n[5 rows x 22 columns]",
      "text/html": "<div>\n<style scoped>\n    .dataframe tbody tr th:only-of-type {\n        vertical-align: middle;\n    }\n\n    .dataframe tbody tr th {\n        vertical-align: top;\n    }\n\n    .dataframe thead th {\n        text-align: right;\n    }\n</style>\n<table border=\"1\" class=\"dataframe\">\n  <thead>\n    <tr style=\"text-align: right;\">\n      <th></th>\n      <th>user_id</th>\n      <th>title</th>\n      <th>rating</th>\n      <th>genre_unknown</th>\n      <th>Action</th>\n      <th>Adventure</th>\n      <th>Animation</th>\n      <th>Children</th>\n      <th>Comedy</th>\n      <th>Crime</th>\n      <th>...</th>\n      <th>Fantasy</th>\n      <th>Film-Noir</th>\n      <th>Horror</th>\n      <th>Musical</th>\n      <th>Mystery</th>\n      <th>Romance</th>\n      <th>Sci-Fi</th>\n      <th>Thriller</th>\n      <th>War</th>\n      <th>Western</th>\n    </tr>\n  </thead>\n  <tbody>\n    <tr>\n      <th>16135</th>\n      <td>162</td>\n      <td>Multiplicity (1996)</td>\n      <td>5.0</td>\n      <td>0</td>\n      <td>0</td>\n      <td>0</td>\n      <td>0</td>\n      <td>0</td>\n      <td>1</td>\n      <td>0</td>\n      <td>...</td>\n      <td>0</td>\n      <td>0</td>\n      <td>0</td>\n      <td>0</td>\n      <td>0</td>\n      <td>0</td>\n      <td>0</td>\n      <td>0</td>\n      <td>0</td>\n      <td>0</td>\n    </tr>\n    <tr>\n      <th>16136</th>\n      <td>162</td>\n      <td>People vs. Larry Flynt, The (1996)</td>\n      <td>5.0</td>\n      <td>0</td>\n      <td>0</td>\n      <td>0</td>\n      <td>0</td>\n      <td>0</td>\n      <td>0</td>\n      <td>0</td>\n      <td>...</td>\n      <td>0</td>\n      <td>0</td>\n      <td>0</td>\n      <td>0</td>\n      <td>0</td>\n      <td>0</td>\n      <td>0</td>\n      <td>0</td>\n      <td>0</td>\n      <td>0</td>\n    </tr>\n    <tr>\n      <th>16150</th>\n      <td>162</td>\n      <td>Star Wars (1977)</td>\n      <td>5.0</td>\n      <td>0</td>\n      <td>1</td>\n      <td>1</td>\n      <td>0</td>\n      <td>0</td>\n      <td>0</td>\n      <td>0</td>\n      <td>...</td>\n      <td>0</td>\n      <td>0</td>\n      <td>0</td>\n      <td>0</td>\n      <td>0</td>\n      <td>1</td>\n      <td>1</td>\n      <td>0</td>\n      <td>1</td>\n      <td>0</td>\n    </tr>\n    <tr>\n      <th>16119</th>\n      <td>162</td>\n      <td>Birdcage, The (1996)</td>\n      <td>4.0</td>\n      <td>0</td>\n      <td>0</td>\n      <td>0</td>\n      <td>0</td>\n      <td>0</td>\n      <td>1</td>\n      <td>0</td>\n      <td>...</td>\n      <td>0</td>\n      <td>0</td>\n      <td>0</td>\n      <td>0</td>\n      <td>0</td>\n      <td>0</td>\n      <td>0</td>\n      <td>0</td>\n      <td>0</td>\n      <td>0</td>\n    </tr>\n    <tr>\n      <th>16131</th>\n      <td>162</td>\n      <td>Jerry Maguire (1996)</td>\n      <td>4.0</td>\n      <td>0</td>\n      <td>0</td>\n      <td>0</td>\n      <td>0</td>\n      <td>0</td>\n      <td>0</td>\n      <td>0</td>\n      <td>...</td>\n      <td>0</td>\n      <td>0</td>\n      <td>0</td>\n      <td>0</td>\n      <td>0</td>\n      <td>1</td>\n      <td>0</td>\n      <td>0</td>\n      <td>0</td>\n      <td>0</td>\n    </tr>\n  </tbody>\n</table>\n<p>5 rows × 22 columns</p>\n</div>"
     },
     "execution_count": 24,
     "metadata": {},
     "output_type": "execute_result"
    }
   ],
   "source": [
    "movies_ratings_df[movies_ratings_df['user_id']==162].sort_values(by='rating', ascending=False).head()"
   ],
   "metadata": {
    "collapsed": false,
    "ExecuteTime": {
     "end_time": "2024-11-23T00:14:05.236478Z",
     "start_time": "2024-11-23T00:14:05.221948Z"
    }
   },
   "execution_count": 24
  },
  {
   "cell_type": "code",
   "outputs": [],
   "source": [],
   "metadata": {
    "collapsed": false,
    "ExecuteTime": {
     "end_time": "2024-11-23T00:14:05.251692Z",
     "start_time": "2024-11-23T00:14:05.237479Z"
    }
   },
   "execution_count": 24
  },
  {
   "cell_type": "markdown",
   "source": [
    "Since I used User #162 during development, I had done a lot of digging into their data & patterns, so next I'll investigate a random User that has > 50 ratings, User #100 with 64 rated movies."
   ],
   "metadata": {
    "collapsed": false
   }
  },
  {
   "cell_type": "code",
   "outputs": [
    {
     "name": "stdout",
     "output_type": "stream",
     "text": [
      "User 100 weights by genre: \n",
      "genre_unknown    0.000000\n",
      "Action           0.718750\n",
      "Adventure        0.171875\n",
      "Animation        0.000000\n",
      "Children         0.031250\n",
      "Comedy           0.515625\n",
      "Crime            0.265625\n",
      "Documentary      0.000000\n",
      "Drama            1.656250\n",
      "Fantasy          0.031250\n",
      "Film-Noir        0.125000\n",
      "Horror           0.093750\n",
      "Musical          0.046875\n",
      "Mystery          0.218750\n",
      "Romance          0.515625\n",
      "Sci-Fi           0.281250\n",
      "Thriller         1.062500\n",
      "War              0.265625\n",
      "Western          0.000000\n",
      "dtype: float64\n",
      "\n",
      "Top 5 content-based recommended movies :\n"
     ]
    },
    {
     "data": {
      "text/plain": "                                  score\ntitle                                  \nOutbreak (1995)                0.866451\nApollo 13 (1995)               0.866451\nTough and Deadly (1995)        0.866451\nSmilla's Sense of Snow (1997)  0.866451\nFire Down Below (1997)         0.866451",
      "text/html": "<div>\n<style scoped>\n    .dataframe tbody tr th:only-of-type {\n        vertical-align: middle;\n    }\n\n    .dataframe tbody tr th {\n        vertical-align: top;\n    }\n\n    .dataframe thead th {\n        text-align: right;\n    }\n</style>\n<table border=\"1\" class=\"dataframe\">\n  <thead>\n    <tr style=\"text-align: right;\">\n      <th></th>\n      <th>score</th>\n    </tr>\n    <tr>\n      <th>title</th>\n      <th></th>\n    </tr>\n  </thead>\n  <tbody>\n    <tr>\n      <th>Outbreak (1995)</th>\n      <td>0.866451</td>\n    </tr>\n    <tr>\n      <th>Apollo 13 (1995)</th>\n      <td>0.866451</td>\n    </tr>\n    <tr>\n      <th>Tough and Deadly (1995)</th>\n      <td>0.866451</td>\n    </tr>\n    <tr>\n      <th>Smilla's Sense of Snow (1997)</th>\n      <td>0.866451</td>\n    </tr>\n    <tr>\n      <th>Fire Down Below (1997)</th>\n      <td>0.866451</td>\n    </tr>\n  </tbody>\n</table>\n</div>"
     },
     "execution_count": 25,
     "metadata": {},
     "output_type": "execute_result"
    }
   ],
   "source": [
    "u100_top5 = content_based_recommendation(100, user_ratings_df, movies_df)\n",
    "print(f\"\\nTop 5 content-based recommended movies :\")\n",
    "u100_top5.head()"
   ],
   "metadata": {
    "collapsed": false,
    "ExecuteTime": {
     "end_time": "2024-11-23T00:14:05.267921Z",
     "start_time": "2024-11-23T00:14:05.252693Z"
    }
   },
   "execution_count": 25
  },
  {
   "cell_type": "code",
   "outputs": [
    {
     "data": {
      "text/plain": "                               genre_unknown  Action  Adventure  Animation  \\\ntitle                                                                        \nOutbreak (1995)                            0       1          0          0   \nApollo 13 (1995)                           0       1          0          0   \nTough and Deadly (1995)                    0       1          0          0   \nSmilla's Sense of Snow (1997)              0       1          0          0   \nFire Down Below (1997)                     0       1          0          0   \n\n                               Children  Comedy  Crime  Documentary  Drama  \\\ntitle                                                                        \nOutbreak (1995)                       0       0      0            0      1   \nApollo 13 (1995)                      0       0      0            0      1   \nTough and Deadly (1995)               0       0      0            0      1   \nSmilla's Sense of Snow (1997)         0       0      0            0      1   \nFire Down Below (1997)                0       0      0            0      1   \n\n                               Fantasy  Film-Noir  Horror  Musical  Mystery  \\\ntitle                                                                         \nOutbreak (1995)                      0          0       0        0        0   \nApollo 13 (1995)                     0          0       0        0        0   \nTough and Deadly (1995)              0          0       0        0        0   \nSmilla's Sense of Snow (1997)        0          0       0        0        0   \nFire Down Below (1997)               0          0       0        0        0   \n\n                               Romance  Sci-Fi  Thriller  War  Western  \ntitle                                                                   \nOutbreak (1995)                      0       0         1    0        0  \nApollo 13 (1995)                     0       0         1    0        0  \nTough and Deadly (1995)              0       0         1    0        0  \nSmilla's Sense of Snow (1997)        0       0         1    0        0  \nFire Down Below (1997)               0       0         1    0        0  ",
      "text/html": "<div>\n<style scoped>\n    .dataframe tbody tr th:only-of-type {\n        vertical-align: middle;\n    }\n\n    .dataframe tbody tr th {\n        vertical-align: top;\n    }\n\n    .dataframe thead th {\n        text-align: right;\n    }\n</style>\n<table border=\"1\" class=\"dataframe\">\n  <thead>\n    <tr style=\"text-align: right;\">\n      <th></th>\n      <th>genre_unknown</th>\n      <th>Action</th>\n      <th>Adventure</th>\n      <th>Animation</th>\n      <th>Children</th>\n      <th>Comedy</th>\n      <th>Crime</th>\n      <th>Documentary</th>\n      <th>Drama</th>\n      <th>Fantasy</th>\n      <th>Film-Noir</th>\n      <th>Horror</th>\n      <th>Musical</th>\n      <th>Mystery</th>\n      <th>Romance</th>\n      <th>Sci-Fi</th>\n      <th>Thriller</th>\n      <th>War</th>\n      <th>Western</th>\n    </tr>\n    <tr>\n      <th>title</th>\n      <th></th>\n      <th></th>\n      <th></th>\n      <th></th>\n      <th></th>\n      <th></th>\n      <th></th>\n      <th></th>\n      <th></th>\n      <th></th>\n      <th></th>\n      <th></th>\n      <th></th>\n      <th></th>\n      <th></th>\n      <th></th>\n      <th></th>\n      <th></th>\n      <th></th>\n    </tr>\n  </thead>\n  <tbody>\n    <tr>\n      <th>Outbreak (1995)</th>\n      <td>0</td>\n      <td>1</td>\n      <td>0</td>\n      <td>0</td>\n      <td>0</td>\n      <td>0</td>\n      <td>0</td>\n      <td>0</td>\n      <td>1</td>\n      <td>0</td>\n      <td>0</td>\n      <td>0</td>\n      <td>0</td>\n      <td>0</td>\n      <td>0</td>\n      <td>0</td>\n      <td>1</td>\n      <td>0</td>\n      <td>0</td>\n    </tr>\n    <tr>\n      <th>Apollo 13 (1995)</th>\n      <td>0</td>\n      <td>1</td>\n      <td>0</td>\n      <td>0</td>\n      <td>0</td>\n      <td>0</td>\n      <td>0</td>\n      <td>0</td>\n      <td>1</td>\n      <td>0</td>\n      <td>0</td>\n      <td>0</td>\n      <td>0</td>\n      <td>0</td>\n      <td>0</td>\n      <td>0</td>\n      <td>1</td>\n      <td>0</td>\n      <td>0</td>\n    </tr>\n    <tr>\n      <th>Tough and Deadly (1995)</th>\n      <td>0</td>\n      <td>1</td>\n      <td>0</td>\n      <td>0</td>\n      <td>0</td>\n      <td>0</td>\n      <td>0</td>\n      <td>0</td>\n      <td>1</td>\n      <td>0</td>\n      <td>0</td>\n      <td>0</td>\n      <td>0</td>\n      <td>0</td>\n      <td>0</td>\n      <td>0</td>\n      <td>1</td>\n      <td>0</td>\n      <td>0</td>\n    </tr>\n    <tr>\n      <th>Smilla's Sense of Snow (1997)</th>\n      <td>0</td>\n      <td>1</td>\n      <td>0</td>\n      <td>0</td>\n      <td>0</td>\n      <td>0</td>\n      <td>0</td>\n      <td>0</td>\n      <td>1</td>\n      <td>0</td>\n      <td>0</td>\n      <td>0</td>\n      <td>0</td>\n      <td>0</td>\n      <td>0</td>\n      <td>0</td>\n      <td>1</td>\n      <td>0</td>\n      <td>0</td>\n    </tr>\n    <tr>\n      <th>Fire Down Below (1997)</th>\n      <td>0</td>\n      <td>1</td>\n      <td>0</td>\n      <td>0</td>\n      <td>0</td>\n      <td>0</td>\n      <td>0</td>\n      <td>0</td>\n      <td>1</td>\n      <td>0</td>\n      <td>0</td>\n      <td>0</td>\n      <td>0</td>\n      <td>0</td>\n      <td>0</td>\n      <td>0</td>\n      <td>1</td>\n      <td>0</td>\n      <td>0</td>\n    </tr>\n  </tbody>\n</table>\n</div>"
     },
     "execution_count": 26,
     "metadata": {},
     "output_type": "execute_result"
    }
   ],
   "source": [
    "movies_df.loc[u100_top5.index].head()"
   ],
   "metadata": {
    "collapsed": false,
    "ExecuteTime": {
     "end_time": "2024-11-23T00:14:05.283893Z",
     "start_time": "2024-11-23T00:14:05.269304Z"
    }
   },
   "execution_count": 26
  },
  {
   "cell_type": "markdown",
   "source": [
    "From the genre-weighted Content-based recommendations, we can see that User #100 prefers Drama/Thriller/Action as their top genres with a very strong preference for Drama. From the recommended movies, these tick the box for Drama, and also Thriller and Action, so looks like a pretty good fit based on the content. Next I'll look at the collaboration ratings: "
   ],
   "metadata": {
    "collapsed": false
   }
  },
  {
   "cell_type": "code",
   "outputs": [
    {
     "name": "stdout",
     "output_type": "stream",
     "text": [
      "user_id\n",
      "863    0.627904\n",
      "784    0.600292\n",
      "616    0.594277\n",
      "856    0.580211\n",
      "489    0.570090\n",
      "Name: 100, dtype: float64\n",
      "\n",
      "Top 5 collaborative-based recommended movies :\n"
     ]
    },
    {
     "data": {
      "text/plain": "                              score\ntitle                              \nCop Land (1997)                 4.2\nDevil's Advocate, The (1997)    3.8\nEdge, The (1997)                3.4\nAlien: Resurrection (1997)      2.8\nMurder at 1600 (1997)           2.8",
      "text/html": "<div>\n<style scoped>\n    .dataframe tbody tr th:only-of-type {\n        vertical-align: middle;\n    }\n\n    .dataframe tbody tr th {\n        vertical-align: top;\n    }\n\n    .dataframe thead th {\n        text-align: right;\n    }\n</style>\n<table border=\"1\" class=\"dataframe\">\n  <thead>\n    <tr style=\"text-align: right;\">\n      <th></th>\n      <th>score</th>\n    </tr>\n    <tr>\n      <th>title</th>\n      <th></th>\n    </tr>\n  </thead>\n  <tbody>\n    <tr>\n      <th>Cop Land (1997)</th>\n      <td>4.2</td>\n    </tr>\n    <tr>\n      <th>Devil's Advocate, The (1997)</th>\n      <td>3.8</td>\n    </tr>\n    <tr>\n      <th>Edge, The (1997)</th>\n      <td>3.4</td>\n    </tr>\n    <tr>\n      <th>Alien: Resurrection (1997)</th>\n      <td>2.8</td>\n    </tr>\n    <tr>\n      <th>Murder at 1600 (1997)</th>\n      <td>2.8</td>\n    </tr>\n  </tbody>\n</table>\n</div>"
     },
     "execution_count": 27,
     "metadata": {},
     "output_type": "execute_result"
    }
   ],
   "source": [
    "# test the function for user_id 162\n",
    "u100_collab_rec_list = collaborative_filtering_recommendation(100, user_ratings_df)\n",
    "print(f\"\\nTop 5 collaborative-based recommended movies :\")\n",
    "u100_collab_rec_list"
   ],
   "metadata": {
    "collapsed": false,
    "ExecuteTime": {
     "end_time": "2024-11-23T00:14:05.345591Z",
     "start_time": "2024-11-23T00:14:05.284845Z"
    }
   },
   "execution_count": 27
  },
  {
   "cell_type": "code",
   "outputs": [
    {
     "data": {
      "text/plain": "Empty DataFrame\nColumns: [genre_unknown, Action, Adventure, Animation, Children, Comedy, Crime, Documentary, Drama, Fantasy, Film-Noir, Horror, Musical, Mystery, Romance, Sci-Fi, Thriller, War, Western]\nIndex: []",
      "text/html": "<div>\n<style scoped>\n    .dataframe tbody tr th:only-of-type {\n        vertical-align: middle;\n    }\n\n    .dataframe tbody tr th {\n        vertical-align: top;\n    }\n\n    .dataframe thead th {\n        text-align: right;\n    }\n</style>\n<table border=\"1\" class=\"dataframe\">\n  <thead>\n    <tr style=\"text-align: right;\">\n      <th></th>\n      <th>genre_unknown</th>\n      <th>Action</th>\n      <th>Adventure</th>\n      <th>Animation</th>\n      <th>Children</th>\n      <th>Comedy</th>\n      <th>Crime</th>\n      <th>Documentary</th>\n      <th>Drama</th>\n      <th>Fantasy</th>\n      <th>Film-Noir</th>\n      <th>Horror</th>\n      <th>Musical</th>\n      <th>Mystery</th>\n      <th>Romance</th>\n      <th>Sci-Fi</th>\n      <th>Thriller</th>\n      <th>War</th>\n      <th>Western</th>\n    </tr>\n    <tr>\n      <th>title</th>\n      <th></th>\n      <th></th>\n      <th></th>\n      <th></th>\n      <th></th>\n      <th></th>\n      <th></th>\n      <th></th>\n      <th></th>\n      <th></th>\n      <th></th>\n      <th></th>\n      <th></th>\n      <th></th>\n      <th></th>\n      <th></th>\n      <th></th>\n      <th></th>\n      <th></th>\n    </tr>\n  </thead>\n  <tbody>\n  </tbody>\n</table>\n</div>"
     },
     "execution_count": 28,
     "metadata": {},
     "output_type": "execute_result"
    }
   ],
   "source": [
    "# show the genres of these movies to compare against the user's genre preferences\n",
    "movies_df[movies_df.index.isin(u100_collab_rec_list)]"
   ],
   "metadata": {
    "collapsed": false,
    "ExecuteTime": {
     "end_time": "2024-11-23T00:14:05.360650Z",
     "start_time": "2024-11-23T00:14:05.346597Z"
    }
   },
   "execution_count": 28
  },
  {
   "cell_type": "code",
   "outputs": [
    {
     "data": {
      "text/plain": "       user_id                        title  rating  genre_unknown  Action  \\\n11029      100    As Good As It Gets (1997)     5.0              0       0   \n11028      100             Apt Pupil (1998)     5.0              0       0   \n11082      100               Titanic (1997)     5.0              0       1   \n11024      100         Air Force One (1997)     4.0              0       1   \n11030      100  Big Bang Theory, The (1994)     4.0              0       0   \n\n       Adventure  Animation  Children  Comedy  Crime  ...  Fantasy  Film-Noir  \\\n11029          0          0         0       1      0  ...        0          0   \n11028          0          0         0       0      0  ...        0          0   \n11082          0          0         0       0      0  ...        0          0   \n11024          0          0         0       0      0  ...        0          0   \n11030          0          0         0       0      1  ...        0          0   \n\n       Horror  Musical  Mystery  Romance  Sci-Fi  Thriller  War  Western  \n11029       0        0        0        0       0         0    0        0  \n11028       0        0        0        0       0         1    0        0  \n11082       0        0        0        1       0         0    0        0  \n11024       0        0        0        0       0         1    0        0  \n11030       0        0        0        0       0         0    0        0  \n\n[5 rows x 22 columns]",
      "text/html": "<div>\n<style scoped>\n    .dataframe tbody tr th:only-of-type {\n        vertical-align: middle;\n    }\n\n    .dataframe tbody tr th {\n        vertical-align: top;\n    }\n\n    .dataframe thead th {\n        text-align: right;\n    }\n</style>\n<table border=\"1\" class=\"dataframe\">\n  <thead>\n    <tr style=\"text-align: right;\">\n      <th></th>\n      <th>user_id</th>\n      <th>title</th>\n      <th>rating</th>\n      <th>genre_unknown</th>\n      <th>Action</th>\n      <th>Adventure</th>\n      <th>Animation</th>\n      <th>Children</th>\n      <th>Comedy</th>\n      <th>Crime</th>\n      <th>...</th>\n      <th>Fantasy</th>\n      <th>Film-Noir</th>\n      <th>Horror</th>\n      <th>Musical</th>\n      <th>Mystery</th>\n      <th>Romance</th>\n      <th>Sci-Fi</th>\n      <th>Thriller</th>\n      <th>War</th>\n      <th>Western</th>\n    </tr>\n  </thead>\n  <tbody>\n    <tr>\n      <th>11029</th>\n      <td>100</td>\n      <td>As Good As It Gets (1997)</td>\n      <td>5.0</td>\n      <td>0</td>\n      <td>0</td>\n      <td>0</td>\n      <td>0</td>\n      <td>0</td>\n      <td>1</td>\n      <td>0</td>\n      <td>...</td>\n      <td>0</td>\n      <td>0</td>\n      <td>0</td>\n      <td>0</td>\n      <td>0</td>\n      <td>0</td>\n      <td>0</td>\n      <td>0</td>\n      <td>0</td>\n      <td>0</td>\n    </tr>\n    <tr>\n      <th>11028</th>\n      <td>100</td>\n      <td>Apt Pupil (1998)</td>\n      <td>5.0</td>\n      <td>0</td>\n      <td>0</td>\n      <td>0</td>\n      <td>0</td>\n      <td>0</td>\n      <td>0</td>\n      <td>0</td>\n      <td>...</td>\n      <td>0</td>\n      <td>0</td>\n      <td>0</td>\n      <td>0</td>\n      <td>0</td>\n      <td>0</td>\n      <td>0</td>\n      <td>1</td>\n      <td>0</td>\n      <td>0</td>\n    </tr>\n    <tr>\n      <th>11082</th>\n      <td>100</td>\n      <td>Titanic (1997)</td>\n      <td>5.0</td>\n      <td>0</td>\n      <td>1</td>\n      <td>0</td>\n      <td>0</td>\n      <td>0</td>\n      <td>0</td>\n      <td>0</td>\n      <td>...</td>\n      <td>0</td>\n      <td>0</td>\n      <td>0</td>\n      <td>0</td>\n      <td>0</td>\n      <td>1</td>\n      <td>0</td>\n      <td>0</td>\n      <td>0</td>\n      <td>0</td>\n    </tr>\n    <tr>\n      <th>11024</th>\n      <td>100</td>\n      <td>Air Force One (1997)</td>\n      <td>4.0</td>\n      <td>0</td>\n      <td>1</td>\n      <td>0</td>\n      <td>0</td>\n      <td>0</td>\n      <td>0</td>\n      <td>0</td>\n      <td>...</td>\n      <td>0</td>\n      <td>0</td>\n      <td>0</td>\n      <td>0</td>\n      <td>0</td>\n      <td>0</td>\n      <td>0</td>\n      <td>1</td>\n      <td>0</td>\n      <td>0</td>\n    </tr>\n    <tr>\n      <th>11030</th>\n      <td>100</td>\n      <td>Big Bang Theory, The (1994)</td>\n      <td>4.0</td>\n      <td>0</td>\n      <td>0</td>\n      <td>0</td>\n      <td>0</td>\n      <td>0</td>\n      <td>0</td>\n      <td>1</td>\n      <td>...</td>\n      <td>0</td>\n      <td>0</td>\n      <td>0</td>\n      <td>0</td>\n      <td>0</td>\n      <td>0</td>\n      <td>0</td>\n      <td>0</td>\n      <td>0</td>\n      <td>0</td>\n    </tr>\n  </tbody>\n</table>\n<p>5 rows × 22 columns</p>\n</div>"
     },
     "execution_count": 29,
     "metadata": {},
     "output_type": "execute_result"
    }
   ],
   "source": [
    "movies_ratings_df[movies_ratings_df['user_id']==100].sort_values(by='rating', ascending=False).head()"
   ],
   "metadata": {
    "collapsed": false,
    "ExecuteTime": {
     "end_time": "2024-11-23T00:14:05.375992Z",
     "start_time": "2024-11-23T00:14:05.361651Z"
    }
   },
   "execution_count": 29
  },
  {
   "cell_type": "markdown",
   "source": [
    "Similar to User #162, User #100 only had 3 movies with rating of \"5\". And in a similar fashion, the collaboration engine recommends some unusual movies based on viewing & rating patterns from similar users, yielding some surprising recommendations. Again, there is only one Action movie (Alien: Resurrection) recommended by the collaboration engine, yet that follows User #162's own trend, with only 1 Action movie in their \"5\" ratings grouping. What's a bit different from User #162, is that here the recommendation engine only recommended 1 Drama-genre movie, even though User #100 has watched quite a number of Dramas, they tend not to rate them highly. \n",
    "\n",
    "Test 3\n",
    "* Finally, I'll choose another random user that has 20 rated movies and see how the engines do (there aren't any users here with fewer than 20 movies rated)\n",
    "* This will be User #895"
   ],
   "metadata": {
    "collapsed": false
   }
  },
  {
   "cell_type": "code",
   "outputs": [
    {
     "name": "stdout",
     "output_type": "stream",
     "text": [
      "User 895 weights by genre: \n",
      "genre_unknown    0.00\n",
      "Action           1.25\n",
      "Adventure        1.05\n",
      "Animation        0.20\n",
      "Children         0.45\n",
      "Comedy           1.55\n",
      "Crime            0.20\n",
      "Documentary      0.00\n",
      "Drama            0.85\n",
      "Fantasy          0.00\n",
      "Film-Noir        0.00\n",
      "Horror           0.10\n",
      "Musical          0.00\n",
      "Mystery          0.20\n",
      "Romance          1.60\n",
      "Sci-Fi           0.65\n",
      "Thriller         1.00\n",
      "War              0.50\n",
      "Western          0.00\n",
      "dtype: float64\n",
      "\n",
      "Top 5 content-based recommended movies :\n"
     ]
    },
    {
     "data": {
      "text/plain": "                                        score\ntitle                                        \nPrincess Bride, The (1987)           0.846821\nTrue Lies (1994)                     0.846821\nEmpire Strikes Back, The (1980)      0.748516\nSo I Married an Axe Murderer (1993)  0.744582\nTo Catch a Thief (1955)              0.744582",
      "text/html": "<div>\n<style scoped>\n    .dataframe tbody tr th:only-of-type {\n        vertical-align: middle;\n    }\n\n    .dataframe tbody tr th {\n        vertical-align: top;\n    }\n\n    .dataframe thead th {\n        text-align: right;\n    }\n</style>\n<table border=\"1\" class=\"dataframe\">\n  <thead>\n    <tr style=\"text-align: right;\">\n      <th></th>\n      <th>score</th>\n    </tr>\n    <tr>\n      <th>title</th>\n      <th></th>\n    </tr>\n  </thead>\n  <tbody>\n    <tr>\n      <th>Princess Bride, The (1987)</th>\n      <td>0.846821</td>\n    </tr>\n    <tr>\n      <th>True Lies (1994)</th>\n      <td>0.846821</td>\n    </tr>\n    <tr>\n      <th>Empire Strikes Back, The (1980)</th>\n      <td>0.748516</td>\n    </tr>\n    <tr>\n      <th>So I Married an Axe Murderer (1993)</th>\n      <td>0.744582</td>\n    </tr>\n    <tr>\n      <th>To Catch a Thief (1955)</th>\n      <td>0.744582</td>\n    </tr>\n  </tbody>\n</table>\n</div>"
     },
     "execution_count": 30,
     "metadata": {},
     "output_type": "execute_result"
    }
   ],
   "source": [
    "u895_top5 = content_based_recommendation(895, user_ratings_df, movies_df)\n",
    "print(f\"\\nTop 5 content-based recommended movies :\")\n",
    "u895_top5.head()"
   ],
   "metadata": {
    "collapsed": false,
    "ExecuteTime": {
     "end_time": "2024-11-23T00:14:05.391693Z",
     "start_time": "2024-11-23T00:14:05.377497Z"
    }
   },
   "execution_count": 30
  },
  {
   "cell_type": "code",
   "outputs": [
    {
     "data": {
      "text/plain": "                                     genre_unknown  Action  Adventure  \\\ntitle                                                                   \nPrincess Bride, The (1987)                       0       1          1   \nTrue Lies (1994)                                 0       1          1   \nEmpire Strikes Back, The (1980)                  0       1          1   \nSo I Married an Axe Murderer (1993)              0       0          0   \nTo Catch a Thief (1955)                          0       0          0   \n\n                                     Animation  Children  Comedy  Crime  \\\ntitle                                                                     \nPrincess Bride, The (1987)                   0         0       1      0   \nTrue Lies (1994)                             0         0       1      0   \nEmpire Strikes Back, The (1980)              0         0       0      0   \nSo I Married an Axe Murderer (1993)          0         0       1      0   \nTo Catch a Thief (1955)                      0         0       1      0   \n\n                                     Documentary  Drama  Fantasy  Film-Noir  \\\ntitle                                                                         \nPrincess Bride, The (1987)                     0      0        0          0   \nTrue Lies (1994)                               0      0        0          0   \nEmpire Strikes Back, The (1980)                0      1        0          0   \nSo I Married an Axe Murderer (1993)            0      0        0          0   \nTo Catch a Thief (1955)                        0      0        0          0   \n\n                                     Horror  Musical  Mystery  Romance  \\\ntitle                                                                    \nPrincess Bride, The (1987)                0        0        0        1   \nTrue Lies (1994)                          0        0        0        1   \nEmpire Strikes Back, The (1980)           0        0        0        1   \nSo I Married an Axe Murderer (1993)       0        0        0        1   \nTo Catch a Thief (1955)                   0        0        0        1   \n\n                                     Sci-Fi  Thriller  War  Western  \ntitle                                                                \nPrincess Bride, The (1987)                0         0    0        0  \nTrue Lies (1994)                          0         0    0        0  \nEmpire Strikes Back, The (1980)           1         0    1        0  \nSo I Married an Axe Murderer (1993)       0         1    0        0  \nTo Catch a Thief (1955)                   0         1    0        0  ",
      "text/html": "<div>\n<style scoped>\n    .dataframe tbody tr th:only-of-type {\n        vertical-align: middle;\n    }\n\n    .dataframe tbody tr th {\n        vertical-align: top;\n    }\n\n    .dataframe thead th {\n        text-align: right;\n    }\n</style>\n<table border=\"1\" class=\"dataframe\">\n  <thead>\n    <tr style=\"text-align: right;\">\n      <th></th>\n      <th>genre_unknown</th>\n      <th>Action</th>\n      <th>Adventure</th>\n      <th>Animation</th>\n      <th>Children</th>\n      <th>Comedy</th>\n      <th>Crime</th>\n      <th>Documentary</th>\n      <th>Drama</th>\n      <th>Fantasy</th>\n      <th>Film-Noir</th>\n      <th>Horror</th>\n      <th>Musical</th>\n      <th>Mystery</th>\n      <th>Romance</th>\n      <th>Sci-Fi</th>\n      <th>Thriller</th>\n      <th>War</th>\n      <th>Western</th>\n    </tr>\n    <tr>\n      <th>title</th>\n      <th></th>\n      <th></th>\n      <th></th>\n      <th></th>\n      <th></th>\n      <th></th>\n      <th></th>\n      <th></th>\n      <th></th>\n      <th></th>\n      <th></th>\n      <th></th>\n      <th></th>\n      <th></th>\n      <th></th>\n      <th></th>\n      <th></th>\n      <th></th>\n      <th></th>\n    </tr>\n  </thead>\n  <tbody>\n    <tr>\n      <th>Princess Bride, The (1987)</th>\n      <td>0</td>\n      <td>1</td>\n      <td>1</td>\n      <td>0</td>\n      <td>0</td>\n      <td>1</td>\n      <td>0</td>\n      <td>0</td>\n      <td>0</td>\n      <td>0</td>\n      <td>0</td>\n      <td>0</td>\n      <td>0</td>\n      <td>0</td>\n      <td>1</td>\n      <td>0</td>\n      <td>0</td>\n      <td>0</td>\n      <td>0</td>\n    </tr>\n    <tr>\n      <th>True Lies (1994)</th>\n      <td>0</td>\n      <td>1</td>\n      <td>1</td>\n      <td>0</td>\n      <td>0</td>\n      <td>1</td>\n      <td>0</td>\n      <td>0</td>\n      <td>0</td>\n      <td>0</td>\n      <td>0</td>\n      <td>0</td>\n      <td>0</td>\n      <td>0</td>\n      <td>1</td>\n      <td>0</td>\n      <td>0</td>\n      <td>0</td>\n      <td>0</td>\n    </tr>\n    <tr>\n      <th>Empire Strikes Back, The (1980)</th>\n      <td>0</td>\n      <td>1</td>\n      <td>1</td>\n      <td>0</td>\n      <td>0</td>\n      <td>0</td>\n      <td>0</td>\n      <td>0</td>\n      <td>1</td>\n      <td>0</td>\n      <td>0</td>\n      <td>0</td>\n      <td>0</td>\n      <td>0</td>\n      <td>1</td>\n      <td>1</td>\n      <td>0</td>\n      <td>1</td>\n      <td>0</td>\n    </tr>\n    <tr>\n      <th>So I Married an Axe Murderer (1993)</th>\n      <td>0</td>\n      <td>0</td>\n      <td>0</td>\n      <td>0</td>\n      <td>0</td>\n      <td>1</td>\n      <td>0</td>\n      <td>0</td>\n      <td>0</td>\n      <td>0</td>\n      <td>0</td>\n      <td>0</td>\n      <td>0</td>\n      <td>0</td>\n      <td>1</td>\n      <td>0</td>\n      <td>1</td>\n      <td>0</td>\n      <td>0</td>\n    </tr>\n    <tr>\n      <th>To Catch a Thief (1955)</th>\n      <td>0</td>\n      <td>0</td>\n      <td>0</td>\n      <td>0</td>\n      <td>0</td>\n      <td>1</td>\n      <td>0</td>\n      <td>0</td>\n      <td>0</td>\n      <td>0</td>\n      <td>0</td>\n      <td>0</td>\n      <td>0</td>\n      <td>0</td>\n      <td>1</td>\n      <td>0</td>\n      <td>1</td>\n      <td>0</td>\n      <td>0</td>\n    </tr>\n  </tbody>\n</table>\n</div>"
     },
     "execution_count": 31,
     "metadata": {},
     "output_type": "execute_result"
    }
   ],
   "source": [
    "# test the engines for user_id=685\n",
    "movies_df.loc[u895_top5.index].head()"
   ],
   "metadata": {
    "collapsed": false,
    "ExecuteTime": {
     "end_time": "2024-11-23T00:14:05.407746Z",
     "start_time": "2024-11-23T00:14:05.392694Z"
    }
   },
   "execution_count": 31
  },
  {
   "cell_type": "markdown",
   "source": [
    "From the genre-weighted Content-based recommendations, we can see that User #895 prefers Romantic Comedies and occasionally Action as their top genres. From the recommended movies, these tick the boxes for Romance, Comedy, with some  Action, so looks like a pretty good fit based on the content, though \"Empire Strikes Back\" is a bit of a surprise but it still fulfills the requirements, and doesn't have any of the genres that are not liked, such as Fantasy or Film-Noir, so it's still a strong recommendation. Next I'll look at the collaboration ratings: "
   ],
   "metadata": {
    "collapsed": false
   }
  },
  {
   "cell_type": "code",
   "outputs": [
    {
     "name": "stdout",
     "output_type": "stream",
     "text": [
      "user_id\n",
      "759    0.458637\n",
      "517    0.443175\n",
      "597    0.432416\n",
      "552    0.409502\n",
      "730    0.408543\n",
      "Name: 895, dtype: float64\n",
      "\n",
      "Top 5 collaborative-based recommended movies :\n"
     ]
    },
    {
     "data": {
      "text/plain": "                               score\ntitle                               \nAir Force One (1997)             4.4\nContact (1997)                   3.6\nGodfather, The (1972)            2.8\nFace/Off (1997)                  2.6\nIndependence Day (ID4) (1996)    2.6",
      "text/html": "<div>\n<style scoped>\n    .dataframe tbody tr th:only-of-type {\n        vertical-align: middle;\n    }\n\n    .dataframe tbody tr th {\n        vertical-align: top;\n    }\n\n    .dataframe thead th {\n        text-align: right;\n    }\n</style>\n<table border=\"1\" class=\"dataframe\">\n  <thead>\n    <tr style=\"text-align: right;\">\n      <th></th>\n      <th>score</th>\n    </tr>\n    <tr>\n      <th>title</th>\n      <th></th>\n    </tr>\n  </thead>\n  <tbody>\n    <tr>\n      <th>Air Force One (1997)</th>\n      <td>4.4</td>\n    </tr>\n    <tr>\n      <th>Contact (1997)</th>\n      <td>3.6</td>\n    </tr>\n    <tr>\n      <th>Godfather, The (1972)</th>\n      <td>2.8</td>\n    </tr>\n    <tr>\n      <th>Face/Off (1997)</th>\n      <td>2.6</td>\n    </tr>\n    <tr>\n      <th>Independence Day (ID4) (1996)</th>\n      <td>2.6</td>\n    </tr>\n  </tbody>\n</table>\n</div>"
     },
     "execution_count": 32,
     "metadata": {},
     "output_type": "execute_result"
    }
   ],
   "source": [
    "u895_collab_rec_list = collaborative_filtering_recommendation(895, user_ratings_df)\n",
    "print(f\"\\nTop 5 collaborative-based recommended movies :\")\n",
    "u895_collab_rec_list\n"
   ],
   "metadata": {
    "collapsed": false,
    "ExecuteTime": {
     "end_time": "2024-11-23T00:14:05.485509Z",
     "start_time": "2024-11-23T00:14:05.409149Z"
    }
   },
   "execution_count": 32
  },
  {
   "cell_type": "code",
   "outputs": [
    {
     "data": {
      "text/plain": "Empty DataFrame\nColumns: [genre_unknown, Action, Adventure, Animation, Children, Comedy, Crime, Documentary, Drama, Fantasy, Film-Noir, Horror, Musical, Mystery, Romance, Sci-Fi, Thriller, War, Western]\nIndex: []",
      "text/html": "<div>\n<style scoped>\n    .dataframe tbody tr th:only-of-type {\n        vertical-align: middle;\n    }\n\n    .dataframe tbody tr th {\n        vertical-align: top;\n    }\n\n    .dataframe thead th {\n        text-align: right;\n    }\n</style>\n<table border=\"1\" class=\"dataframe\">\n  <thead>\n    <tr style=\"text-align: right;\">\n      <th></th>\n      <th>genre_unknown</th>\n      <th>Action</th>\n      <th>Adventure</th>\n      <th>Animation</th>\n      <th>Children</th>\n      <th>Comedy</th>\n      <th>Crime</th>\n      <th>Documentary</th>\n      <th>Drama</th>\n      <th>Fantasy</th>\n      <th>Film-Noir</th>\n      <th>Horror</th>\n      <th>Musical</th>\n      <th>Mystery</th>\n      <th>Romance</th>\n      <th>Sci-Fi</th>\n      <th>Thriller</th>\n      <th>War</th>\n      <th>Western</th>\n    </tr>\n    <tr>\n      <th>title</th>\n      <th></th>\n      <th></th>\n      <th></th>\n      <th></th>\n      <th></th>\n      <th></th>\n      <th></th>\n      <th></th>\n      <th></th>\n      <th></th>\n      <th></th>\n      <th></th>\n      <th></th>\n      <th></th>\n      <th></th>\n      <th></th>\n      <th></th>\n      <th></th>\n      <th></th>\n    </tr>\n  </thead>\n  <tbody>\n  </tbody>\n</table>\n</div>"
     },
     "execution_count": 33,
     "metadata": {},
     "output_type": "execute_result"
    }
   ],
   "source": [
    "# show the genres of these movies to compare against the user's genre preferences\n",
    "movies_df[movies_df.index.isin(u895_collab_rec_list)]\n"
   ],
   "metadata": {
    "collapsed": false,
    "ExecuteTime": {
     "end_time": "2024-11-23T00:14:05.501114Z",
     "start_time": "2024-11-23T00:14:05.487517Z"
    }
   },
   "execution_count": 33
  },
  {
   "cell_type": "code",
   "outputs": [
    {
     "data": {
      "text/plain": "       user_id                                         title  rating  \\\n95971      895                  Sense and Sensibility (1995)     5.0   \n95973      895                              Star Wars (1977)     5.0   \n95967      895                     Return of the Jedi (1983)     5.0   \n95964      895                       Mighty Aphrodite (1995)     5.0   \n95976      895  Willy Wonka and the Chocolate Factory (1971)     5.0   \n\n       genre_unknown  Action  Adventure  Animation  Children  Comedy  Crime  \\\n95971              0       0          0          0         0       0      0   \n95973              0       1          1          0         0       0      0   \n95967              0       1          1          0         0       0      0   \n95964              0       0          0          0         0       1      0   \n95976              0       0          1          0         1       1      0   \n\n       ...  Fantasy  Film-Noir  Horror  Musical  Mystery  Romance  Sci-Fi  \\\n95971  ...        0          0       0        0        0        1       0   \n95973  ...        0          0       0        0        0        1       1   \n95967  ...        0          0       0        0        0        1       1   \n95964  ...        0          0       0        0        0        0       0   \n95976  ...        0          0       0        0        0        0       0   \n\n       Thriller  War  Western  \n95971         0    0        0  \n95973         0    1        0  \n95967         0    1        0  \n95964         0    0        0  \n95976         0    0        0  \n\n[5 rows x 22 columns]",
      "text/html": "<div>\n<style scoped>\n    .dataframe tbody tr th:only-of-type {\n        vertical-align: middle;\n    }\n\n    .dataframe tbody tr th {\n        vertical-align: top;\n    }\n\n    .dataframe thead th {\n        text-align: right;\n    }\n</style>\n<table border=\"1\" class=\"dataframe\">\n  <thead>\n    <tr style=\"text-align: right;\">\n      <th></th>\n      <th>user_id</th>\n      <th>title</th>\n      <th>rating</th>\n      <th>genre_unknown</th>\n      <th>Action</th>\n      <th>Adventure</th>\n      <th>Animation</th>\n      <th>Children</th>\n      <th>Comedy</th>\n      <th>Crime</th>\n      <th>...</th>\n      <th>Fantasy</th>\n      <th>Film-Noir</th>\n      <th>Horror</th>\n      <th>Musical</th>\n      <th>Mystery</th>\n      <th>Romance</th>\n      <th>Sci-Fi</th>\n      <th>Thriller</th>\n      <th>War</th>\n      <th>Western</th>\n    </tr>\n  </thead>\n  <tbody>\n    <tr>\n      <th>95971</th>\n      <td>895</td>\n      <td>Sense and Sensibility (1995)</td>\n      <td>5.0</td>\n      <td>0</td>\n      <td>0</td>\n      <td>0</td>\n      <td>0</td>\n      <td>0</td>\n      <td>0</td>\n      <td>0</td>\n      <td>...</td>\n      <td>0</td>\n      <td>0</td>\n      <td>0</td>\n      <td>0</td>\n      <td>0</td>\n      <td>1</td>\n      <td>0</td>\n      <td>0</td>\n      <td>0</td>\n      <td>0</td>\n    </tr>\n    <tr>\n      <th>95973</th>\n      <td>895</td>\n      <td>Star Wars (1977)</td>\n      <td>5.0</td>\n      <td>0</td>\n      <td>1</td>\n      <td>1</td>\n      <td>0</td>\n      <td>0</td>\n      <td>0</td>\n      <td>0</td>\n      <td>...</td>\n      <td>0</td>\n      <td>0</td>\n      <td>0</td>\n      <td>0</td>\n      <td>0</td>\n      <td>1</td>\n      <td>1</td>\n      <td>0</td>\n      <td>1</td>\n      <td>0</td>\n    </tr>\n    <tr>\n      <th>95967</th>\n      <td>895</td>\n      <td>Return of the Jedi (1983)</td>\n      <td>5.0</td>\n      <td>0</td>\n      <td>1</td>\n      <td>1</td>\n      <td>0</td>\n      <td>0</td>\n      <td>0</td>\n      <td>0</td>\n      <td>...</td>\n      <td>0</td>\n      <td>0</td>\n      <td>0</td>\n      <td>0</td>\n      <td>0</td>\n      <td>1</td>\n      <td>1</td>\n      <td>0</td>\n      <td>1</td>\n      <td>0</td>\n    </tr>\n    <tr>\n      <th>95964</th>\n      <td>895</td>\n      <td>Mighty Aphrodite (1995)</td>\n      <td>5.0</td>\n      <td>0</td>\n      <td>0</td>\n      <td>0</td>\n      <td>0</td>\n      <td>0</td>\n      <td>1</td>\n      <td>0</td>\n      <td>...</td>\n      <td>0</td>\n      <td>0</td>\n      <td>0</td>\n      <td>0</td>\n      <td>0</td>\n      <td>0</td>\n      <td>0</td>\n      <td>0</td>\n      <td>0</td>\n      <td>0</td>\n    </tr>\n    <tr>\n      <th>95976</th>\n      <td>895</td>\n      <td>Willy Wonka and the Chocolate Factory (1971)</td>\n      <td>5.0</td>\n      <td>0</td>\n      <td>0</td>\n      <td>1</td>\n      <td>0</td>\n      <td>1</td>\n      <td>1</td>\n      <td>0</td>\n      <td>...</td>\n      <td>0</td>\n      <td>0</td>\n      <td>0</td>\n      <td>0</td>\n      <td>0</td>\n      <td>0</td>\n      <td>0</td>\n      <td>0</td>\n      <td>0</td>\n      <td>0</td>\n    </tr>\n  </tbody>\n</table>\n<p>5 rows × 22 columns</p>\n</div>"
     },
     "execution_count": 34,
     "metadata": {},
     "output_type": "execute_result"
    }
   ],
   "source": [
    "movies_ratings_df[movies_ratings_df['user_id']==895].sort_values(by='rating', ascending=False).head()"
   ],
   "metadata": {
    "collapsed": false,
    "ExecuteTime": {
     "end_time": "2024-11-23T00:14:05.516677Z",
     "start_time": "2024-11-23T00:14:05.502114Z"
    }
   },
   "execution_count": 34
  },
  {
   "cell_type": "markdown",
   "source": [
    "Once again, the collaborative ratings are a bit surprising, and don't meet any of the expected genre recommendations. However, these appear to be highly rated by similar users, and personally I can see how a movie like \"Contact\" would be recommended given that the user rated \"Star Wars\" and \"Return of the Jedi\" highly. I think what may also be happening is we're getting more movies recommneded that have a very similar score, so if this was a system going into production, I'd probably add another 3rd layer of engine, something combining the genres and the collaboration results for cases like this where the user hasn't provided many recommendations yet, and is probably getting a bigger pool of potential movies as recommendations. Also the scores here are lower, with only 2 movies above a score of 3, and less than 3 seems to be a bit ambiguous. \n",
    "\n",
    "<B>Final thoughts:</B> It would be interesting to see how an algorithm like can evolve over time, especially if the user watches a movie recommended, and then rates it vastly different than the engine originally recommended. Perhaps there's some 2nd stage learning that could happen from there, along the lines of \"watching these movies X/Y/Z shows a potential recommendation of A/B/C, but after empirically testing, users typically don't like B\" - this may be a good fit for soemthing like a neural network, where more complex preferences can be mapped that are not apparent on the surface, or by doing more textual analysis with TF-IDF using plot information, or actual review text submitted by users."
   ],
   "metadata": {
    "collapsed": false
   }
  },
  {
   "cell_type": "code",
   "outputs": [],
   "source": [],
   "metadata": {
    "collapsed": false,
    "ExecuteTime": {
     "end_time": "2024-11-23T00:14:05.531829Z",
     "start_time": "2024-11-23T00:14:05.518182Z"
    }
   },
   "execution_count": 34
  }
 ]
}
