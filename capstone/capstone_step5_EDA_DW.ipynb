{
 "cells": [
  {
   "cell_type": "markdown",
   "source": [
    "# Section 20.6.5 of Machine Learning Bootcamp : Capstone Step 5, Data Wrangling and EDA\n",
    "\n",
    "Here I will focus on my chosen dataset for the capstone project, using Exploratory Data Analysis methods and Data Wrangling techniques to prepare and better undersnat the data. The prior step of the capstone had me find a similar project, but there it appears all the data was already wrangled and cleaned (for the most part) by whoever is responsible for managing the city's data. Also the writers of the paper seem to have received quite a bit of guidance about how to create the features used in their model, so here I will have to determine all that myself.  "
   ],
   "metadata": {
    "collapsed": false
   },
   "id": "c0ce1e7ef8daaa23"
  },
  {
   "cell_type": "code",
   "outputs": [],
   "source": [
    "import numpy as np\n",
    "import pandas as pd"
   ],
   "metadata": {
    "collapsed": false,
    "ExecuteTime": {
     "end_time": "2024-11-15T23:59:35.216207Z",
     "start_time": "2024-11-15T23:59:35.200930Z"
    }
   },
   "id": "1209ac0d68acb5b",
   "execution_count": 3
  },
  {
   "cell_type": "markdown",
   "source": [
    "## Dataset: Idle wells at risk of fees or penalties in California\n",
    "<p>To recap, in 2021, new legislation was passed in California that escalates the fines oil & gas operators must pay if they have not tested their idle wells according to the law. There is now a dramatic escalation of fees based on a schedule of the age of the well, and the duration of idleness.<br></p>\n",
    "\n",
    "<p><b>Problem statement:</b> Given that not all the data is available to accurately determine the specific status of a well, I think we can using machine learning to assess the companies exposure to the risk: i.e. have they been addressing their idle well burden by plugging & abandoning their idle well fleets, or are they \"kicking the can down the road\", and postponing until max pain arrives.<br></p> \n",
    "\n",
    "<p><b>Hypothesis:</b> I think the larger companies (Chevron, Aera, SPR, CRC) are likely addressing their own idle well situations in a way to avoid onerous fees, and potentially damaging optics of not following the law. However, I suspect there a large number of smaller privately owned companies that have not kept up with their liabilities, and either don't have the cash flow to take care of it, or are hoping to fly under the radar for a bit longer.</p>\n",
    "\n",
    "<p><b>Data set:</b> the state publishes its view of the list of all wells in the state (241,912 data points, each of which represents a physical well), with currently known status and original drill (SPUD) date, so we know the age of the well, and the state's view of the status, which they have likely calculated based on the monthly production reports the operators are legally bound to send them. I have heard annecdotally it can take the state up to 2 years to update the well status, so there's some room here for machine learning to predict a trend by operator.</p>\n",
    " \n",
    "<p><b>File:</b> downloaded from state's website (filesize 55MB): <a href='https://gis.conservation.ca.gov/portal/home/item.html?id=0d30c4d9ac8f4f84a53a145e7d68eb6b'>linked here</a> and added to my git repo here: <a href='source_data/CALGEM AllWells_20241113.csv'>CALGEM AllWells_20241113.csv</a></p>"
   ],
   "metadata": {
    "collapsed": false
   },
   "id": "698a6ef04e0aa98a"
  },
  {
   "cell_type": "code",
   "outputs": [
    {
     "data": {
      "text/plain": "   OID        API            LeaseName WellNumber        WellDesign  \\\n0   -1  403300003  Lease by W.G. Young          1                 1   \n1   -1  402120723                Kauai      1-Mar         Kauai 3-1   \n2   -1  402120734                Lanai      3-Mar         Lanai 3-3   \n3   -1  402120815              Anacapa      4-Mar       Anacapa 3-4   \n4   -1  402120521         Angel Slough      1-Feb  Angel Slough 2-1   \n\n  WellStatus WellType WellTypeLa OperatorCo            OperatorNa  ... Range  \\\n0       Idle       DG    Dry Gas      11838            W.G. Young  ...   09W   \n1       Idle       DG    Dry Gas      R4085   Royale Energy, Inc.  ...   01W   \n2       Idle       DG    Dry Gas      R4085   Royale Energy, Inc.  ...   01W   \n3       Idle       DG    Dry Gas      R4085   Royale Energy, Inc.  ...   01W   \n4     Active       DG    Dry Gas      C8720  Crain Orchards, Inc.  ...   01W   \n\n  BaseMeridi   Latitude   Longitude                  GISSource  isConfiden  \\\n0         MD  38.976693 -122.833093  Notice of Intent to Drill           N   \n1         MD  39.440640 -121.951889                        GPS           N   \n2         MD  39.447174 -121.961273                        GPS           N   \n3         MD  39.443230 -121.951042                        GPS           N   \n4         MD  39.449158 -121.946289                        GPS           N   \n\n  isDirectio   SpudDate             inHPZ  WellSymbol  \n0          N                 Verified HPZ      IdleDG  \n1          N  12/7/1999    Not Within HPZ      IdleDG  \n2          N  5/13/2000  Uncertainty Area      IdleDG  \n3          N  11/6/2002    Not Within HPZ      IdleDG  \n4          N  2/17/1988    Not Within HPZ    ActiveDG  \n\n[5 rows x 27 columns]",
      "text/html": "<div>\n<style scoped>\n    .dataframe tbody tr th:only-of-type {\n        vertical-align: middle;\n    }\n\n    .dataframe tbody tr th {\n        vertical-align: top;\n    }\n\n    .dataframe thead th {\n        text-align: right;\n    }\n</style>\n<table border=\"1\" class=\"dataframe\">\n  <thead>\n    <tr style=\"text-align: right;\">\n      <th></th>\n      <th>OID</th>\n      <th>API</th>\n      <th>LeaseName</th>\n      <th>WellNumber</th>\n      <th>WellDesign</th>\n      <th>WellStatus</th>\n      <th>WellType</th>\n      <th>WellTypeLa</th>\n      <th>OperatorCo</th>\n      <th>OperatorNa</th>\n      <th>...</th>\n      <th>Range</th>\n      <th>BaseMeridi</th>\n      <th>Latitude</th>\n      <th>Longitude</th>\n      <th>GISSource</th>\n      <th>isConfiden</th>\n      <th>isDirectio</th>\n      <th>SpudDate</th>\n      <th>inHPZ</th>\n      <th>WellSymbol</th>\n    </tr>\n  </thead>\n  <tbody>\n    <tr>\n      <th>0</th>\n      <td>-1</td>\n      <td>403300003</td>\n      <td>Lease by W.G. Young</td>\n      <td>1</td>\n      <td>1</td>\n      <td>Idle</td>\n      <td>DG</td>\n      <td>Dry Gas</td>\n      <td>11838</td>\n      <td>W.G. Young</td>\n      <td>...</td>\n      <td>09W</td>\n      <td>MD</td>\n      <td>38.976693</td>\n      <td>-122.833093</td>\n      <td>Notice of Intent to Drill</td>\n      <td>N</td>\n      <td>N</td>\n      <td></td>\n      <td>Verified HPZ</td>\n      <td>IdleDG</td>\n    </tr>\n    <tr>\n      <th>1</th>\n      <td>-1</td>\n      <td>402120723</td>\n      <td>Kauai</td>\n      <td>1-Mar</td>\n      <td>Kauai 3-1</td>\n      <td>Idle</td>\n      <td>DG</td>\n      <td>Dry Gas</td>\n      <td>R4085</td>\n      <td>Royale Energy, Inc.</td>\n      <td>...</td>\n      <td>01W</td>\n      <td>MD</td>\n      <td>39.440640</td>\n      <td>-121.951889</td>\n      <td>GPS</td>\n      <td>N</td>\n      <td>N</td>\n      <td>12/7/1999</td>\n      <td>Not Within HPZ</td>\n      <td>IdleDG</td>\n    </tr>\n    <tr>\n      <th>2</th>\n      <td>-1</td>\n      <td>402120734</td>\n      <td>Lanai</td>\n      <td>3-Mar</td>\n      <td>Lanai 3-3</td>\n      <td>Idle</td>\n      <td>DG</td>\n      <td>Dry Gas</td>\n      <td>R4085</td>\n      <td>Royale Energy, Inc.</td>\n      <td>...</td>\n      <td>01W</td>\n      <td>MD</td>\n      <td>39.447174</td>\n      <td>-121.961273</td>\n      <td>GPS</td>\n      <td>N</td>\n      <td>N</td>\n      <td>5/13/2000</td>\n      <td>Uncertainty Area</td>\n      <td>IdleDG</td>\n    </tr>\n    <tr>\n      <th>3</th>\n      <td>-1</td>\n      <td>402120815</td>\n      <td>Anacapa</td>\n      <td>4-Mar</td>\n      <td>Anacapa 3-4</td>\n      <td>Idle</td>\n      <td>DG</td>\n      <td>Dry Gas</td>\n      <td>R4085</td>\n      <td>Royale Energy, Inc.</td>\n      <td>...</td>\n      <td>01W</td>\n      <td>MD</td>\n      <td>39.443230</td>\n      <td>-121.951042</td>\n      <td>GPS</td>\n      <td>N</td>\n      <td>N</td>\n      <td>11/6/2002</td>\n      <td>Not Within HPZ</td>\n      <td>IdleDG</td>\n    </tr>\n    <tr>\n      <th>4</th>\n      <td>-1</td>\n      <td>402120521</td>\n      <td>Angel Slough</td>\n      <td>1-Feb</td>\n      <td>Angel Slough 2-1</td>\n      <td>Active</td>\n      <td>DG</td>\n      <td>Dry Gas</td>\n      <td>C8720</td>\n      <td>Crain Orchards, Inc.</td>\n      <td>...</td>\n      <td>01W</td>\n      <td>MD</td>\n      <td>39.449158</td>\n      <td>-121.946289</td>\n      <td>GPS</td>\n      <td>N</td>\n      <td>N</td>\n      <td>2/17/1988</td>\n      <td>Not Within HPZ</td>\n      <td>ActiveDG</td>\n    </tr>\n  </tbody>\n</table>\n<p>5 rows × 27 columns</p>\n</div>"
     },
     "execution_count": 4,
     "metadata": {},
     "output_type": "execute_result"
    }
   ],
   "source": [
    "# load candidate data file 1 and take a peek\n",
    "# will take some work to get the data loaded with proper datatypes, and dates set correctly\n",
    "# I'll use the API as the index as it should be unique, and is the well's identifier if any other data gets joined later.\n",
    "well_list_df = pd.read_csv('source_data/CALGEM AllWells_20241113.csv')\n",
    "well_list_df.head()"
   ],
   "metadata": {
    "collapsed": false,
    "ExecuteTime": {
     "end_time": "2024-11-15T23:59:36.177757Z",
     "start_time": "2024-11-15T23:59:35.257668Z"
    }
   },
   "id": "bceac0d729111ee5",
   "execution_count": 4
  },
  {
   "cell_type": "code",
   "outputs": [
    {
     "name": "stdout",
     "output_type": "stream",
     "text": [
      "<class 'pandas.core.frame.DataFrame'>\n",
      "RangeIndex: 241912 entries, 0 to 241911\n",
      "Data columns (total 27 columns):\n",
      " #   Column      Non-Null Count   Dtype  \n",
      "---  ------      --------------   -----  \n",
      " 0   OID         241912 non-null  int64  \n",
      " 1   API         241912 non-null  int64  \n",
      " 2   LeaseName   241912 non-null  object \n",
      " 3   WellNumber  241912 non-null  object \n",
      " 4   WellDesign  241912 non-null  object \n",
      " 5   WellStatus  241912 non-null  object \n",
      " 6   WellType    241912 non-null  object \n",
      " 7   WellTypeLa  241912 non-null  object \n",
      " 8   OperatorCo  241912 non-null  object \n",
      " 9   OperatorNa  241912 non-null  object \n",
      " 10  FieldName   241912 non-null  object \n",
      " 11  AreaName    241912 non-null  object \n",
      " 12  Place       241912 non-null  object \n",
      " 13  District    241912 non-null  object \n",
      " 14  CountyName  241912 non-null  object \n",
      " 15  Section     241912 non-null  int64  \n",
      " 16  Township    241912 non-null  object \n",
      " 17  Range       241912 non-null  object \n",
      " 18  BaseMeridi  241912 non-null  object \n",
      " 19  Latitude    241912 non-null  float64\n",
      " 20  Longitude   241912 non-null  float64\n",
      " 21  GISSource   241912 non-null  object \n",
      " 22  isConfiden  241912 non-null  object \n",
      " 23  isDirectio  241912 non-null  object \n",
      " 24  SpudDate    241912 non-null  object \n",
      " 25  inHPZ       241912 non-null  object \n",
      " 26  WellSymbol  241912 non-null  object \n",
      "dtypes: float64(2), int64(3), object(22)\n",
      "memory usage: 49.8+ MB\n"
     ]
    }
   ],
   "source": [
    "well_list_df.info()"
   ],
   "metadata": {
    "collapsed": false,
    "ExecuteTime": {
     "end_time": "2024-11-15T23:59:36.332203Z",
     "start_time": "2024-11-15T23:59:36.179758Z"
    }
   },
   "id": "bfbd3f13a35d4868",
   "execution_count": 5
  },
  {
   "cell_type": "code",
   "outputs": [
    {
     "data": {
      "text/plain": "            OID           API        Section       Latitude      Longitude\ncount  241912.0  2.419120e+05  241912.000000  241912.000000  241912.000000\nmean       -1.0  4.041365e+08      18.972134      35.314957    -119.462110\nstd         0.0  3.268516e+06      11.030148       1.003615       0.851529\nmin        -1.0  4.001000e+08       1.000000      32.537811    -124.363670\n25%        -1.0  4.029452e+08       9.000000      35.077979    -119.735008\n50%        -1.0  4.030176e+08      19.000000      35.366459    -119.566372\n75%        -1.0  4.037073e+08      29.000000      35.485517    -118.990685\nmax        -1.0  4.295201e+08      36.000000      41.812958    -114.572904",
      "text/html": "<div>\n<style scoped>\n    .dataframe tbody tr th:only-of-type {\n        vertical-align: middle;\n    }\n\n    .dataframe tbody tr th {\n        vertical-align: top;\n    }\n\n    .dataframe thead th {\n        text-align: right;\n    }\n</style>\n<table border=\"1\" class=\"dataframe\">\n  <thead>\n    <tr style=\"text-align: right;\">\n      <th></th>\n      <th>OID</th>\n      <th>API</th>\n      <th>Section</th>\n      <th>Latitude</th>\n      <th>Longitude</th>\n    </tr>\n  </thead>\n  <tbody>\n    <tr>\n      <th>count</th>\n      <td>241912.0</td>\n      <td>2.419120e+05</td>\n      <td>241912.000000</td>\n      <td>241912.000000</td>\n      <td>241912.000000</td>\n    </tr>\n    <tr>\n      <th>mean</th>\n      <td>-1.0</td>\n      <td>4.041365e+08</td>\n      <td>18.972134</td>\n      <td>35.314957</td>\n      <td>-119.462110</td>\n    </tr>\n    <tr>\n      <th>std</th>\n      <td>0.0</td>\n      <td>3.268516e+06</td>\n      <td>11.030148</td>\n      <td>1.003615</td>\n      <td>0.851529</td>\n    </tr>\n    <tr>\n      <th>min</th>\n      <td>-1.0</td>\n      <td>4.001000e+08</td>\n      <td>1.000000</td>\n      <td>32.537811</td>\n      <td>-124.363670</td>\n    </tr>\n    <tr>\n      <th>25%</th>\n      <td>-1.0</td>\n      <td>4.029452e+08</td>\n      <td>9.000000</td>\n      <td>35.077979</td>\n      <td>-119.735008</td>\n    </tr>\n    <tr>\n      <th>50%</th>\n      <td>-1.0</td>\n      <td>4.030176e+08</td>\n      <td>19.000000</td>\n      <td>35.366459</td>\n      <td>-119.566372</td>\n    </tr>\n    <tr>\n      <th>75%</th>\n      <td>-1.0</td>\n      <td>4.037073e+08</td>\n      <td>29.000000</td>\n      <td>35.485517</td>\n      <td>-118.990685</td>\n    </tr>\n    <tr>\n      <th>max</th>\n      <td>-1.0</td>\n      <td>4.295201e+08</td>\n      <td>36.000000</td>\n      <td>41.812958</td>\n      <td>-114.572904</td>\n    </tr>\n  </tbody>\n</table>\n</div>"
     },
     "execution_count": 6,
     "metadata": {},
     "output_type": "execute_result"
    }
   ],
   "source": [
    "well_list_df.describe()"
   ],
   "metadata": {
    "collapsed": false,
    "ExecuteTime": {
     "end_time": "2024-11-15T23:59:36.394589Z",
     "start_time": "2024-11-15T23:59:36.333205Z"
    }
   },
   "id": "3f08c61cf99afe9f",
   "execution_count": 6
  },
  {
   "cell_type": "markdown",
   "source": [
    "### Metadata & Data Dictionary\n",
    "\n",
    "This is my current understanding of the CSV data file description of the fields\n",
    "\n",
    "|Field Name| Data type | Width | description of record                                                                                                                                                                                |\n",
    "|---|-----------|-------|------------------------------------------------------------------------------------------------------------------------------------------------------------------------------------------------------|\n",
    "|OID| \tInteger  | \t4    | \tInternal feature number OBJECTID: Sequential unique whole numbers that are automatically generated.                                                                                                 |\n",
    "|API| \tString   | \t10   | \tAPI Number. Unique and permanent identifier assigned to each well as standardized by the American Petroleum Institute                                                                               |\n",
    "|LeaseName| \tString   | \t109  | \tLease name of oil and gas wells. At situation when lease name of that well is unknown, the location in which well is located (i.e. section, township, range, longitude, latitude) is then recorded. |\n",
    "|WellNumber| \tString   | \t50   | \tOperator-assigned alpha numeric designation for well.                                                                                                                                               |\n",
    "|WellDesign| \tString   | \t     | \t???                                                                                                                                                                                                 |\n",
    "|WellStatus| \tString   | \t     | \tWell Status - single code identifying current status of well  (see below)                                                                                                                           |\n",
    "|WellType| \tString   | \t     | \tCodes indicating well type  (see below)                                                                                                                                                             |\n",
    "|WellTypeLa| \tString   | \t     | \tLikely well type label                                                                                                                                                                              |\n",
    "|OperatorCo| \tString   | \t12   | \tOperator code. Unique identifier number assigned to each operator                                                                                                                                   |\n",
    "|OperatorNa| \tString   | \t100  | \tOperator Name. Name of individual or company or organization responsible for managment and operations of wells.                                                                                     |\n",
    "|FieldName| \tString   | \t255  | \tName of the oil and gas field in which the well is located                                                                                                                                          |\n",
    "|AreaName| \tString   | \t255  | \tName of area in which well is located                                                                                                                                                               |\n",
    "|Place| \tString   | \t     | \tKeyword                                                                                                                                                                                             |\n",
    "|District| \tString   | \t255  | \tDOGGR district with jurisdiction over the location in which well is located                                                                                                                         |\n",
    "|CountyName| \tString   | \t50   | \tCounty with jurisdiction over the location in which well is located                                                                                                                                 |\n",
    "|Section| \tInteger  | \t50   | \tPublic Land Survey System section number in which well is located                                                                                                                                   |\n",
    "|Township| \tString   | \t100  | \tPublic Land Survey System township in which well is located                                                                                                                                         |\n",
    "|Range| \tString   | \t100  | \tPublic Land Survey System range in which well is located                                                                                                                                            |\n",
    "|BaseMeridi| \tString   | \t50   | \tBase Meridian. Principle meridians required for all California surveys; defines PLSS base; H = Humboldt; MD = Mount Diablo; SB = San Bernardino                                                     |\n",
    "|Latitude| \tDouble   | \t8    | \tLatitude of well in the NAD83 coordinate system; decimal degree format                                                                                                                              |\n",
    "|Longitude| \tDouble   | \t8    | \tLongitude of well in the NAD83 coordinate system; decimal degree format                                                                                                                             |\n",
    "|GISSource| \tString   | \t3    | \t3-character code describing the method by which the well location was established (see below)                                                                                                       |\n",
    "|isConfiden| \tString   | \t1    | \tConfidential Well. Subsurface information for well is held confidential for a period of two years pursuant to Public Resources Code section 3234                                                    |\n",
    "|isDirectio| \tString   | \t1    | \tDirectionally Drilled. Indicator of whether well was directionally drilled; NULL for confidential wells                                                                                             |\n",
    "|SpudDate| \tString   | \t8    | \tDate on which well drilling commenced                                                                                                                                                               |\n",
    "|inHPZ| \tString   | \t26   | \tWell Intersection with Health Protection Zone (HPZ) (see below)                                                                                                                                     |\n",
    "|WellSymbol| \tString   | \t15   | \tCode for GIS symbology (see below)|\n",
    "\n",
    "### Additional Codes:\n",
    "\n",
    "**Well Status** single code identifying current status of well. Single code stands for:\n",
    "A = Active (well has been drilled and completed and in-use)\n",
    "B = Buried (well is buried and idle)\n",
    "C = Cancelled (well permit has been cancelled prior to drilling)\n",
    "I = Idle (well is idle, not produced or injected for 6 consecutive months for two years)\n",
    "N = New (recently permitted well; planned or in the process of being drilled)\n",
    "P = Plugged & Abandoned (well has been plugged and abandoned to current standards)\n",
    "U = Unknown (well status not known; mostly older wells dated on pre-1976)\n",
    "\n",
    "**Well Type Codes** \n",
    "AI = Air Injector\n",
    "CH = Core Hole\n",
    "DG = Dry Gas\n",
    "DH = Dry Hole\n",
    "GAS = Gas\n",
    "GD = Gas Disposal\n",
    "GI = Gas Injection\n",
    "GS = Gas Storage\n",
    "INJ = Injection\n",
    "LG = Liquid Petroleum Gas\n",
    "Multi = Multiple Types\n",
    "OB = Observation\n",
    "OG = Oil & Gas\n",
    "PM = Pressure Maintenance\n",
    "SC = Cyclic Steam\n",
    "SF = Steam Flood\n",
    "UNK = Unknown well type; often a historic or legacy (pre-1976) well\n",
    "WD = Water Disposal\n",
    "WF = Water Flood\n",
    "WS = Water Source\n",
    "\n",
    "**GIS Source**: 3-character code describing the method by which the well location was established\n",
    "(Ranked from most accurate to least accurate)\n",
    "GPS = Global Positioning System (Coordinates derived from Division staff and Trimble GPS unit)\n",
    "OPR = Operator (Coordinates provided by Operator via electronic format; ex. Excel, db, etc.)\n",
    "SUM = Well Summary Report (Coordinates provided by Operator, post-drilling, on SUM)\n",
    "NOI = Notice of Intent to Drill (Coordinates provided by Operator, pre-drilling, on NOI)\n",
    "DOQ = Digital Ortho Quad (Coordinates derived from aerial imagery)\n",
    "MIP = MapInfo Plotted (Coordinates generated from tool in MapInfo using corner call locations)\n",
    "HUD = Heads Up Digitized (Coordinates derived from scanned, georeferenced Mylar maps)\n",
    "\n",
    "**InHPZ**\n",
    "Potentially HPZ = well intersects with HPZs created algorithmically from source inputs representing sensitive receptors.\n",
    "Verified HPZ = well intersects with HPZs created from verified sensitive receptors that have been quality checked by CalGEM.\n",
    "Uncertainty Area = well falls within 32ft outside or inside a potential HPZ or verified HPZ.\n",
    "Not Within HPZ = well intersects with areas quality checked to be outside known HPZ areas.\n",
    "Potentially Not Within HPZ = well is outside Potential HPZ, Verified HPZ, Not Within HPZ, and Uncertainty Area.\n",
    "\n",
    "Another source for data glossary and dictionary: https://www.conservation.ca.gov/calgem/Documents/Glossary%20UA.pdf\n",
    "\n",
    "### Well Symbol Definition\n",
    "Pulled from XML document here: https://gis.conservation.ca.gov/server/rest/services/WellSTAR/Wells/MapServer/0\n",
    "Total Count = 241,912 wells\n",
    "\n",
    "|Code|\tCount|\tDesc|\n",
    "|---|---|---|\n",
    "|ActiveCH|\t0|\tActive Core Hole|\n",
    "|ActiveDG|\t887|\tActive Gas: Dry Gas; Liquid Gas|\n",
    "|ActiveDH|\t0|\tActive Dry Hole|\n",
    "|ActiveGD|\t60|\tActive Injectors: Air Injector; Gas Disposal; Pressure Maintenance; Steam Flood; Water Disposal; Water Flood|\n",
    "|ActiveGS|\t255|\tActive Gas Storage|\n",
    "|ActiveINJ|\t3|\tActive Injectors: Air Injector; Gas Disposal; Pressure Maintenance; Steam Flood; Water Disposal; Water Flood|\n",
    "|ActiveMulti|\t45|\tActive Multipurpose|\n",
    "|ActiveOB|\t3127|\tActive Observation|\n",
    "|ActiveOG|\t37998|\tActive Oil and Gas|\n",
    "|ActivePM|\t96|\tActive Injectors: Air Injector; Gas Disposal; Pressure Maintenance; Steam Flood; Water Disposal; Water Flood|\n",
    "|ActiveSC|\t7674|\tActive Cyclic Steam|\n",
    "|ActiveSF|\t3757|\tActive Injectors: Air Injector; Gas Disposal; Pressure Maintenance; Steam Flood; Water Disposal; Water Flood|\n",
    "|ActiveSTR|\t1|\t???|\n",
    "|ActiveUNK|\t2|\tActive well of Unknown type|\n",
    "|ActiveWD|\t776|\tActive Injectors: Air Injector; Gas Disposal; Pressure Maintenance; Steam Flood; Water Disposal; Water Flood|\n",
    "|ActiveWF|\t3986|\tActive Injectors: Air Injector; Gas Disposal; Pressure Maintenance; Steam Flood; Water Disposal; Water Flood|\n",
    "|ActiveWS|\t16|\tActive Water Source|\n",
    "|CanceledCH|\t12|\tCanceled Core Hole|\n",
    "|CanceledDG|\t97|\tCanceled Gas: Dry Gas; Liquid Gas|\n",
    "|CanceledDH|\t6|\tCanceled Dry Hole|\n",
    "|CanceledGAS|\t143|\tCanceled Gas: Dry Gas; Liquid Gas|\n",
    "|CanceledGS|\t5|\tCanceled Gas Storage|\n",
    "|CanceledINJ|\t669|\tCanceled Injectors: Air Injector; Gas Disposal; Pressure Maintenance; Steam Flood; Water Disposal; Water Flood|\n",
    "|CanceledMulti|\t96|\tCanceled Multipurpose|\n",
    "|CanceledOB|\t123|\tCanceled Observation|\n",
    "|CanceledOG|\t7786|\tCanceled Oil and Gas|\n",
    "|CanceledSC|\t306|\tCanceled Cyclic Steam|\n",
    "|CanceledSF|\t186|\tCanceled Injectors: Air Injector; Gas Disposal; Pressure Maintenance; Steam Flood; Water Disposal; Water Flood|\n",
    "|CanceledUNK|\t58|\tCanceled well of Unknown type|\n",
    "|CanceledWD|\t23|\tCanceled Injectors: Air Injector; Gas Disposal; Pressure Maintenance; Steam Flood; Water Disposal; Water Flood|\n",
    "|CanceledWF|\t165|\tCanceled Injectors: Air Injector; Gas Disposal; Pressure Maintenance; Steam Flood; Water Disposal; Water Flood|\n",
    "|CanceledWS|\t10|\tCanceled Water Source|\n",
    "|IdleAI|\t8|\tIdle Injectors: Air Injector; Gas Disposal; Pressure Maintenance; Steam Flood; Water Disposal; Water Flood|\n",
    "|IdleCH|\t127|\tIdle Core Hole|\n",
    "|IdleDG|\t1320|\tIdle Gas: Dry Gas; Liquid Gas|\n",
    "|IdleDH|\t173|\tIdle Dry Hole|\n",
    "|IdleGAS|\t5|\tIdle Gas: Dry Gas; Liquid Gas|\n",
    "|IdleGD|\t37|\tIdle Injectors: Air Injector; Gas Disposal; Pressure Maintenance; Steam Flood; Water Disposal; Water Flood|\n",
    "|IdleGS|\t27|\tIdle Gas Storage|\n",
    "|IdleINJ|\t35|\tIdle Injectors: Air Injector; Gas Disposal; Pressure Maintenance; Steam Flood; Water Disposal; Water Flood|\n",
    "|IdleLG|\t1|\tIdle Gas: Dry Gas; Liquid Gas|\n",
    "|IdleMulti|\t109|\tIdle Multipurpose|\n",
    "|IdleOB|\t676|\tIdle Observation|\n",
    "|IdleOG|\t28372|\tIdle Oil and Gas|\n",
    "|IdlePM|\t28|\tIdle Injectors: Air Injector; Gas Disposal; Pressure Maintenance; Steam Flood; Water Disposal; Water Flood|\n",
    "|IdleSC|\t1854|\tIdle Cyclic Steam|\n",
    "|IdleSF|\t3836|\tIdle Injectors: Air Injector; Gas Disposal; Pressure Maintenance; Steam Flood; Water Disposal; Water Flood|\n",
    "|IdleUNK|\t56|\tIdle well of Unknown type|\n",
    "|IdleWD|\t848|\tIdle Injectors: Air Injector; Gas Disposal; Pressure Maintenance; Steam Flood; Water Disposal; Water Flood|\n",
    "|IdleWF|\t2169|\tIdle Injectors: Air Injector; Gas Disposal; Pressure Maintenance; Steam Flood; Water Disposal; Water Flood|\n",
    "|IdleWS|\t105|\tIdle Water Source|\n",
    "|NewCH|\t109|\tPermitted Core Hole|\n",
    "|NewDG|\t1|\tPermitted Gas: Dry Gas; Liquid Gas|\n",
    "|NewDH|\t6|\tPermitted Dry Hole|\n",
    "|NewGS|\t12|\tPermitted Gas Storage|\n",
    "|NewINJ|\t7|\tPermitted Injectors: Air Injector; Gas Disposal; Pressure Maintenance; Steam Flood; Water Disposal; Water Flood|\n",
    "|NewOB|\t347|\tPermitted Observation|\n",
    "|NewOG|\t1011|\tPermitted Oil and Gas|\n",
    "|NewSC|\t227|\tPermitted Cyclic Steam|\n",
    "|NewSF|\t108|\tPermitted Injectors: Air Injector; Gas Disposal; Pressure Maintenance; Steam Flood; Water Disposal; Water Flood|\n",
    "|NewSTR|\t1|\t???|\n",
    "|NewWD|\t17|\tPermitted Injectors: Air Injector; Gas Disposal; Pressure Maintenance; Steam Flood; Water Disposal; Water Flood|\n",
    "|NewWF|\t8|\tPermitted Injectors: Air Injector; Gas Disposal; Pressure Maintenance; Steam Flood; Water Disposal; Water Flood|\n",
    "|PluggedAI|\t83|\tPlugged Injectors: Air Injector; Gas Disposal; Pressure Maintenance; Steam Flood; Water Disposal; Water Flood|\n",
    "|PluggedCH|\t1319|\tPlugged Core Hole|\n",
    "|PluggedDG|\t2809|\tPlugged Gas: Dry Gas; Liquid Gas|\n",
    "|PluggedDH|\t16587|\tPlugged Dry Hole|\n",
    "|PluggedGAS|\t1268|\tPlugged Gas: Dry Gas; Liquid Gas|\n",
    "|PluggedGD|\t21|\tPlugged Injectors: Air Injector; Gas Disposal; Pressure Maintenance; Steam Flood; Water Disposal; Water Flood|\n",
    "|PluggedGS|\t168|\tPlugged Gas Storage|\n",
    "|PluggedINJ|\t868|\tPlugged Injectors: Air Injector; Gas Disposal; Pressure Maintenance; Steam Flood; Water Disposal; Water Flood|\n",
    "|PluggedLG|\t5|\tPlugged Gas: Dry Gas; Liquid Gas|\n",
    "|PluggedMulti|\t2302|\tPlugged Multipurpose|\n",
    "|PluggedOB|\t728|\tPlugged Observation|\n",
    "|PluggedOG|\t91850|\tPlugged Oil and Gas|\n",
    "|PluggedOnlyOB|\t1|\tPlugged Observation|\n",
    "|PluggedOnlyOG|\t48|\tPlugged Oil and Gas|\n",
    "|PluggedOnlySC|\t1|\tPlugged Cyclic Steam|\n",
    "|PluggedOnlySF|\t3|\tPlugged Injectors: Air Injector; Gas Disposal; Pressure Maintenance; Steam Flood; Water Disposal; Water Flood|\n",
    "|PluggedOnlyWF|\t17|\tPlugged Injectors: Air Injector; Gas Disposal; Pressure Maintenance; Steam Flood; Water Disposal; Water Flood|\n",
    "|PluggedPM|\t18|\tPlugged Injectors: Air Injector; Gas Disposal; Pressure Maintenance; Steam Flood; Water Disposal; Water Flood|\n",
    "|PluggedSC|\t2127|\tPlugged Cyclic Steam|\n",
    "|PluggedSF|\t5056|\tPlugged Injectors: Air Injector; Gas Disposal; Pressure Maintenance; Steam Flood; Water Disposal; Water Flood|\n",
    "|PluggedUNK|\t672|\tPlugged well of Unknown type|\n",
    "|PluggedWD|\t790|\tPlugged Injectors: Air Injector; Gas Disposal; Pressure Maintenance; Steam Flood; Water Disposal; Water Flood|\n",
    "|PluggedWF|\t5006|\tPlugged Injectors: Air Injector; Gas Disposal; Pressure Maintenance; Steam Flood; Water Disposal; Water Flood|\n",
    "|PluggedWS|\t125|\tPlugged Water Source|\n",
    "|UnknownDH|\t1|\tUnknown status Dry Hole|\n",
    "|UnknownINJ|\t9|\tUnknown status Injectors: Air Injector; Gas Disposal; Pressure Maintenance; Steam Flood; Water Disposal; Water Flood|\n",
    "|UnknownOG|\t20|\tUnknown status Oil and Gas|\n",
    "|UnknownUNK|\t2|\tUnknown status well of Unknown type|\n",
    "\n"
   ],
   "metadata": {
    "collapsed": false
   },
   "id": "e572d322c5685c82"
  },
  {
   "cell_type": "code",
   "outputs": [],
   "source": [],
   "metadata": {
    "collapsed": false,
    "ExecuteTime": {
     "end_time": "2024-11-15T23:59:36.410132Z",
     "start_time": "2024-11-15T23:59:36.396767Z"
    }
   },
   "id": "5c2da429cc0fbc82",
   "execution_count": 7
  },
  {
   "cell_type": "markdown",
   "source": [
    "# Data Wrangling"
   ],
   "metadata": {
    "collapsed": false
   },
   "id": "7a15d233f99b2280"
  },
  {
   "cell_type": "code",
   "outputs": [
    {
     "data": {
      "text/plain": "       Entity ID                  Entity Name  Plant ID  \\\n0          63560   Sand Point Generating, LLC         1   \n1          63560   Sand Point Generating, LLC         1   \n2          63560   Sand Point Generating, LLC         1   \n3          63560   Sand Point Generating, LLC         1   \n4          63560   Sand Point Generating, LLC         1   \n...          ...                          ...       ...   \n26402      63359         REA Investments, LLC     67947   \n26403       4363         Corn Belt Power Coop     67948   \n26404        803    Arizona Public Service Co     67964   \n26405      66518           180th Fighter Wing     67967   \n26406      66541  Solar DG CA Long Beach, LLC     67994   \n\n                                 Plant Name Google Map Bing Map Plant State  \\\n0                                Sand Point        Map      Map          AK   \n1                                Sand Point        Map      Map          AK   \n2                                Sand Point        Map      Map          AK   \n3                                Sand Point        Map      Map          AK   \n4                                Sand Point        Map      Map          AK   \n...                                     ...        ...      ...         ...   \n26402                     Ward Solar 1, LLC        Map      Map          MA   \n26403     Hampton Substation Energy Storage        Map      Map          IA   \n26404                                 Agave        Map      Map          AZ   \n26405             Toledo Air National Guard        Map      Map          OH   \n26406  City of Long Beach Airport Lot A & B        Map      Map          CA   \n\n               County Balancing Authority Code              Sector  ...  \\\n0      Aleutians East                      NaN    Electric Utility  ...   \n1      Aleutians East                      NaN    Electric Utility  ...   \n2      Aleutians East                      NaN    Electric Utility  ...   \n3      Aleutians East                      NaN    Electric Utility  ...   \n4      Aleutians East                      NaN    Electric Utility  ...   \n...               ...                      ...                 ...  ...   \n26402        Plymouth                     ISNE         IPP Non-CHP  ...   \n26403        Franklin                     SWPP    Electric Utility  ...   \n26404        Maricopa                     AZPS    Electric Utility  ...   \n26405           Lucas                      PJM  Commercial Non-CHP  ...   \n26406     Los Angeles                     LDWP         IPP Non-CHP  ...   \n\n      Nameplate Energy Capacity (MWh) DC Net Capacity (MW)  \\\n0                                                            \n1                                                            \n2                                                            \n3                                                            \n4                                                            \n...                               ...                  ...   \n26402                                                        \n26403                                                        \n26404                                                        \n26405                                                        \n26406                                                        \n\n      Planned Derate Year Planned Derate Month  \\\n0                                                \n1                                                \n2                                                \n3                                                \n4                                                \n...                   ...                  ...   \n26402                                            \n26403                                            \n26404                                            \n26405                                            \n26406                                            \n\n      Planned Derate of Summer Capacity (MW) Planned Uprate Year  \\\n0                                                                  \n1                                                                  \n2                                                                  \n3                                                                  \n4                                                                  \n...                                      ...                 ...   \n26402                                                              \n26403                                                              \n26404                                                              \n26405                                                              \n26406                                                              \n\n      Planned Uprate Month Planned Uprate of Summer Capacity (MW)   Latitude  \\\n0                                                                  55.339722   \n1                                                                  55.339722   \n2                                                                  55.339722   \n3                                                                  55.339722   \n4                                                                  55.339722   \n...                    ...                                    ...        ...   \n26402                                                              41.887790   \n26403                                                              42.687200   \n26404                                                              33.323890   \n26405                                                              41.586376   \n26406                                                              33.815160   \n\n       Longitude  \n0     -160.49720  \n1     -160.49720  \n2     -160.49720  \n3     -160.49720  \n4     -160.49720  \n...          ...  \n26402  -70.74620  \n26403  -93.23210  \n26404 -112.83970  \n26405  -83.78781  \n26406 -118.14120  \n\n[26407 rows x 33 columns]",
      "text/html": "<div>\n<style scoped>\n    .dataframe tbody tr th:only-of-type {\n        vertical-align: middle;\n    }\n\n    .dataframe tbody tr th {\n        vertical-align: top;\n    }\n\n    .dataframe thead th {\n        text-align: right;\n    }\n</style>\n<table border=\"1\" class=\"dataframe\">\n  <thead>\n    <tr style=\"text-align: right;\">\n      <th></th>\n      <th>Entity ID</th>\n      <th>Entity Name</th>\n      <th>Plant ID</th>\n      <th>Plant Name</th>\n      <th>Google Map</th>\n      <th>Bing Map</th>\n      <th>Plant State</th>\n      <th>County</th>\n      <th>Balancing Authority Code</th>\n      <th>Sector</th>\n      <th>...</th>\n      <th>Nameplate Energy Capacity (MWh)</th>\n      <th>DC Net Capacity (MW)</th>\n      <th>Planned Derate Year</th>\n      <th>Planned Derate Month</th>\n      <th>Planned Derate of Summer Capacity (MW)</th>\n      <th>Planned Uprate Year</th>\n      <th>Planned Uprate Month</th>\n      <th>Planned Uprate of Summer Capacity (MW)</th>\n      <th>Latitude</th>\n      <th>Longitude</th>\n    </tr>\n  </thead>\n  <tbody>\n    <tr>\n      <th>0</th>\n      <td>63560</td>\n      <td>Sand Point Generating, LLC</td>\n      <td>1</td>\n      <td>Sand Point</td>\n      <td>Map</td>\n      <td>Map</td>\n      <td>AK</td>\n      <td>Aleutians East</td>\n      <td>NaN</td>\n      <td>Electric Utility</td>\n      <td>...</td>\n      <td></td>\n      <td></td>\n      <td></td>\n      <td></td>\n      <td></td>\n      <td></td>\n      <td></td>\n      <td></td>\n      <td>55.339722</td>\n      <td>-160.49720</td>\n    </tr>\n    <tr>\n      <th>1</th>\n      <td>63560</td>\n      <td>Sand Point Generating, LLC</td>\n      <td>1</td>\n      <td>Sand Point</td>\n      <td>Map</td>\n      <td>Map</td>\n      <td>AK</td>\n      <td>Aleutians East</td>\n      <td>NaN</td>\n      <td>Electric Utility</td>\n      <td>...</td>\n      <td></td>\n      <td></td>\n      <td></td>\n      <td></td>\n      <td></td>\n      <td></td>\n      <td></td>\n      <td></td>\n      <td>55.339722</td>\n      <td>-160.49720</td>\n    </tr>\n    <tr>\n      <th>2</th>\n      <td>63560</td>\n      <td>Sand Point Generating, LLC</td>\n      <td>1</td>\n      <td>Sand Point</td>\n      <td>Map</td>\n      <td>Map</td>\n      <td>AK</td>\n      <td>Aleutians East</td>\n      <td>NaN</td>\n      <td>Electric Utility</td>\n      <td>...</td>\n      <td></td>\n      <td></td>\n      <td></td>\n      <td></td>\n      <td></td>\n      <td></td>\n      <td></td>\n      <td></td>\n      <td>55.339722</td>\n      <td>-160.49720</td>\n    </tr>\n    <tr>\n      <th>3</th>\n      <td>63560</td>\n      <td>Sand Point Generating, LLC</td>\n      <td>1</td>\n      <td>Sand Point</td>\n      <td>Map</td>\n      <td>Map</td>\n      <td>AK</td>\n      <td>Aleutians East</td>\n      <td>NaN</td>\n      <td>Electric Utility</td>\n      <td>...</td>\n      <td></td>\n      <td></td>\n      <td></td>\n      <td></td>\n      <td></td>\n      <td></td>\n      <td></td>\n      <td></td>\n      <td>55.339722</td>\n      <td>-160.49720</td>\n    </tr>\n    <tr>\n      <th>4</th>\n      <td>63560</td>\n      <td>Sand Point Generating, LLC</td>\n      <td>1</td>\n      <td>Sand Point</td>\n      <td>Map</td>\n      <td>Map</td>\n      <td>AK</td>\n      <td>Aleutians East</td>\n      <td>NaN</td>\n      <td>Electric Utility</td>\n      <td>...</td>\n      <td></td>\n      <td></td>\n      <td></td>\n      <td></td>\n      <td></td>\n      <td></td>\n      <td></td>\n      <td></td>\n      <td>55.339722</td>\n      <td>-160.49720</td>\n    </tr>\n    <tr>\n      <th>...</th>\n      <td>...</td>\n      <td>...</td>\n      <td>...</td>\n      <td>...</td>\n      <td>...</td>\n      <td>...</td>\n      <td>...</td>\n      <td>...</td>\n      <td>...</td>\n      <td>...</td>\n      <td>...</td>\n      <td>...</td>\n      <td>...</td>\n      <td>...</td>\n      <td>...</td>\n      <td>...</td>\n      <td>...</td>\n      <td>...</td>\n      <td>...</td>\n      <td>...</td>\n      <td>...</td>\n    </tr>\n    <tr>\n      <th>26402</th>\n      <td>63359</td>\n      <td>REA Investments, LLC</td>\n      <td>67947</td>\n      <td>Ward Solar 1, LLC</td>\n      <td>Map</td>\n      <td>Map</td>\n      <td>MA</td>\n      <td>Plymouth</td>\n      <td>ISNE</td>\n      <td>IPP Non-CHP</td>\n      <td>...</td>\n      <td></td>\n      <td></td>\n      <td></td>\n      <td></td>\n      <td></td>\n      <td></td>\n      <td></td>\n      <td></td>\n      <td>41.887790</td>\n      <td>-70.74620</td>\n    </tr>\n    <tr>\n      <th>26403</th>\n      <td>4363</td>\n      <td>Corn Belt Power Coop</td>\n      <td>67948</td>\n      <td>Hampton Substation Energy Storage</td>\n      <td>Map</td>\n      <td>Map</td>\n      <td>IA</td>\n      <td>Franklin</td>\n      <td>SWPP</td>\n      <td>Electric Utility</td>\n      <td>...</td>\n      <td></td>\n      <td></td>\n      <td></td>\n      <td></td>\n      <td></td>\n      <td></td>\n      <td></td>\n      <td></td>\n      <td>42.687200</td>\n      <td>-93.23210</td>\n    </tr>\n    <tr>\n      <th>26404</th>\n      <td>803</td>\n      <td>Arizona Public Service Co</td>\n      <td>67964</td>\n      <td>Agave</td>\n      <td>Map</td>\n      <td>Map</td>\n      <td>AZ</td>\n      <td>Maricopa</td>\n      <td>AZPS</td>\n      <td>Electric Utility</td>\n      <td>...</td>\n      <td></td>\n      <td></td>\n      <td></td>\n      <td></td>\n      <td></td>\n      <td></td>\n      <td></td>\n      <td></td>\n      <td>33.323890</td>\n      <td>-112.83970</td>\n    </tr>\n    <tr>\n      <th>26405</th>\n      <td>66518</td>\n      <td>180th Fighter Wing</td>\n      <td>67967</td>\n      <td>Toledo Air National Guard</td>\n      <td>Map</td>\n      <td>Map</td>\n      <td>OH</td>\n      <td>Lucas</td>\n      <td>PJM</td>\n      <td>Commercial Non-CHP</td>\n      <td>...</td>\n      <td></td>\n      <td></td>\n      <td></td>\n      <td></td>\n      <td></td>\n      <td></td>\n      <td></td>\n      <td></td>\n      <td>41.586376</td>\n      <td>-83.78781</td>\n    </tr>\n    <tr>\n      <th>26406</th>\n      <td>66541</td>\n      <td>Solar DG CA Long Beach, LLC</td>\n      <td>67994</td>\n      <td>City of Long Beach Airport Lot A &amp; B</td>\n      <td>Map</td>\n      <td>Map</td>\n      <td>CA</td>\n      <td>Los Angeles</td>\n      <td>LDWP</td>\n      <td>IPP Non-CHP</td>\n      <td>...</td>\n      <td></td>\n      <td></td>\n      <td></td>\n      <td></td>\n      <td></td>\n      <td></td>\n      <td></td>\n      <td></td>\n      <td>33.815160</td>\n      <td>-118.14120</td>\n    </tr>\n  </tbody>\n</table>\n<p>26407 rows × 33 columns</p>\n</div>"
     },
     "execution_count": 8,
     "metadata": {},
     "output_type": "execute_result"
    }
   ],
   "source": [
    "# I exported the first tab of the EIA solar data to a CSV file for consuming with pandas:\n",
    "solar_ops_df = pd.read_csv('source_data/eia_september_generator2024.csv')\n",
    "solar_ops_df"
   ],
   "metadata": {
    "collapsed": false,
    "ExecuteTime": {
     "end_time": "2024-11-15T23:59:36.551436Z",
     "start_time": "2024-11-15T23:59:36.412133Z"
    }
   },
   "id": "ebefdc1bf2e73c1e",
   "execution_count": 8
  },
  {
   "cell_type": "code",
   "outputs": [
    {
     "name": "stdout",
     "output_type": "stream",
     "text": [
      "<class 'pandas.core.frame.DataFrame'>\n",
      "RangeIndex: 26407 entries, 0 to 26406\n",
      "Data columns (total 33 columns):\n",
      " #   Column                                  Non-Null Count  Dtype  \n",
      "---  ------                                  --------------  -----  \n",
      " 0   Entity ID                               26407 non-null  int64  \n",
      " 1   Entity Name                             26407 non-null  object \n",
      " 2   Plant ID                                26407 non-null  int64  \n",
      " 3   Plant Name                              26407 non-null  object \n",
      " 4   Google Map                              26407 non-null  object \n",
      " 5   Bing Map                                26407 non-null  object \n",
      " 6   Plant State                             26407 non-null  object \n",
      " 7   County                                  26407 non-null  object \n",
      " 8   Balancing Authority Code                25655 non-null  object \n",
      " 9   Sector                                  26407 non-null  object \n",
      " 10  Generator ID                            26407 non-null  object \n",
      " 11  Unit Code                               2208 non-null   object \n",
      " 12  Nameplate Capacity (MW)                 26407 non-null  object \n",
      " 13  Net Summer Capacity (MW)                26407 non-null  object \n",
      " 14  Net Winter Capacity (MW)                26407 non-null  object \n",
      " 15  Technology                              26407 non-null  object \n",
      " 16  Energy Source Code                      26407 non-null  object \n",
      " 17  Prime Mover Code                        26407 non-null  object \n",
      " 18  Operating Month                         26407 non-null  int64  \n",
      " 19  Operating Year                          26407 non-null  int64  \n",
      " 20  Planned Retirement Month                26407 non-null  object \n",
      " 21  Planned Retirement Year                 26407 non-null  object \n",
      " 22  Status                                  26407 non-null  object \n",
      " 23  Nameplate Energy Capacity (MWh)         26407 non-null  object \n",
      " 24  DC Net Capacity (MW)                    26407 non-null  object \n",
      " 25  Planned Derate Year                     26407 non-null  object \n",
      " 26  Planned Derate Month                    26407 non-null  object \n",
      " 27  Planned Derate of Summer Capacity (MW)  26407 non-null  object \n",
      " 28  Planned Uprate Year                     26404 non-null  object \n",
      " 29  Planned Uprate Month                    26404 non-null  object \n",
      " 30  Planned Uprate of Summer Capacity (MW)  26405 non-null  object \n",
      " 31  Latitude                                26407 non-null  float64\n",
      " 32  Longitude                               26407 non-null  float64\n",
      "dtypes: float64(2), int64(4), object(27)\n",
      "memory usage: 6.6+ MB\n"
     ]
    }
   ],
   "source": [
    "solar_ops_df.info()"
   ],
   "metadata": {
    "collapsed": false,
    "ExecuteTime": {
     "end_time": "2024-11-15T23:59:51.337592Z",
     "start_time": "2024-11-15T23:59:51.313607Z"
    }
   },
   "id": "fcba956f4dc5eb3d",
   "execution_count": 10
  },
  {
   "cell_type": "code",
   "outputs": [
    {
     "data": {
      "text/plain": "          Entity ID      Plant ID  Operating Month  Operating Year  \\\ncount  26407.000000  26407.000000     26407.000000    26407.000000   \nmean   37436.746544  40361.264854         6.786420     1996.883364   \nstd    24749.585047  26775.123317         3.612453       27.598854   \nmin        7.000000      1.000000         1.000000     1891.000000   \n25%    12989.000000   6388.000000         4.000000     1986.000000   \n50%    54842.000000  56226.000000         7.000000     2007.000000   \n75%    61038.000000  61347.500000        10.000000     2017.000000   \nmax    66541.000000  67994.000000        12.000000     2024.000000   \n\n           Latitude     Longitude  \ncount  26407.000000  26407.000000  \nmean      38.956246    -94.016901  \nstd        6.169855     18.742644  \nmin       18.974200   -171.712400  \n25%       34.899445   -104.671200  \n50%       39.648565    -90.421100  \n75%       42.579489    -78.891580  \nmax       71.292000    -67.401200  ",
      "text/html": "<div>\n<style scoped>\n    .dataframe tbody tr th:only-of-type {\n        vertical-align: middle;\n    }\n\n    .dataframe tbody tr th {\n        vertical-align: top;\n    }\n\n    .dataframe thead th {\n        text-align: right;\n    }\n</style>\n<table border=\"1\" class=\"dataframe\">\n  <thead>\n    <tr style=\"text-align: right;\">\n      <th></th>\n      <th>Entity ID</th>\n      <th>Plant ID</th>\n      <th>Operating Month</th>\n      <th>Operating Year</th>\n      <th>Latitude</th>\n      <th>Longitude</th>\n    </tr>\n  </thead>\n  <tbody>\n    <tr>\n      <th>count</th>\n      <td>26407.000000</td>\n      <td>26407.000000</td>\n      <td>26407.000000</td>\n      <td>26407.000000</td>\n      <td>26407.000000</td>\n      <td>26407.000000</td>\n    </tr>\n    <tr>\n      <th>mean</th>\n      <td>37436.746544</td>\n      <td>40361.264854</td>\n      <td>6.786420</td>\n      <td>1996.883364</td>\n      <td>38.956246</td>\n      <td>-94.016901</td>\n    </tr>\n    <tr>\n      <th>std</th>\n      <td>24749.585047</td>\n      <td>26775.123317</td>\n      <td>3.612453</td>\n      <td>27.598854</td>\n      <td>6.169855</td>\n      <td>18.742644</td>\n    </tr>\n    <tr>\n      <th>min</th>\n      <td>7.000000</td>\n      <td>1.000000</td>\n      <td>1.000000</td>\n      <td>1891.000000</td>\n      <td>18.974200</td>\n      <td>-171.712400</td>\n    </tr>\n    <tr>\n      <th>25%</th>\n      <td>12989.000000</td>\n      <td>6388.000000</td>\n      <td>4.000000</td>\n      <td>1986.000000</td>\n      <td>34.899445</td>\n      <td>-104.671200</td>\n    </tr>\n    <tr>\n      <th>50%</th>\n      <td>54842.000000</td>\n      <td>56226.000000</td>\n      <td>7.000000</td>\n      <td>2007.000000</td>\n      <td>39.648565</td>\n      <td>-90.421100</td>\n    </tr>\n    <tr>\n      <th>75%</th>\n      <td>61038.000000</td>\n      <td>61347.500000</td>\n      <td>10.000000</td>\n      <td>2017.000000</td>\n      <td>42.579489</td>\n      <td>-78.891580</td>\n    </tr>\n    <tr>\n      <th>max</th>\n      <td>66541.000000</td>\n      <td>67994.000000</td>\n      <td>12.000000</td>\n      <td>2024.000000</td>\n      <td>71.292000</td>\n      <td>-67.401200</td>\n    </tr>\n  </tbody>\n</table>\n</div>"
     },
     "execution_count": 11,
     "metadata": {},
     "output_type": "execute_result"
    }
   ],
   "source": [
    "solar_ops_df.describe()"
   ],
   "metadata": {
    "collapsed": false,
    "ExecuteTime": {
     "end_time": "2024-11-15T23:59:58.860805Z",
     "start_time": "2024-11-15T23:59:58.832781Z"
    }
   },
   "id": "23c207527bf28695",
   "execution_count": 11
  }
 ],
 "metadata": {
  "kernelspec": {
   "display_name": "Python 3",
   "language": "python",
   "name": "python3"
  },
  "language_info": {
   "codemirror_mode": {
    "name": "ipython",
    "version": 2
   },
   "file_extension": ".py",
   "mimetype": "text/x-python",
   "name": "python",
   "nbconvert_exporter": "python",
   "pygments_lexer": "ipython2",
   "version": "2.7.6"
  }
 },
 "nbformat": 4,
 "nbformat_minor": 5
}
