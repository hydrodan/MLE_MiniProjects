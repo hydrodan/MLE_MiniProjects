{
 "cells": [
  {
   "cell_type": "markdown",
   "source": [
    "<H4> Section 16.4 of Machine Learning Bootcamp : Capstone Step 2, Data Collection</H4>\n",
    "\n",
    "Here I will select 3 candidate datasets for the capstone project, describe them in size and attributes, and what makes them good potential candidates from my perspective. I'm looking forward to having a mentor discussion about them, and the pros and cons of the project roadmaps.  "
   ],
   "metadata": {
    "collapsed": false
   },
   "id": "c0ce1e7ef8daaa23"
  },
  {
   "cell_type": "markdown",
   "source": [
    "<H4>Candidate 1: Idle wells at risk of fees or penalties in California</H4>\n",
    "<p>In 2021, new legislation was passed in California that escalates the fines oil & gas operators must pay if they have not tested their idle wells according to the law. There is now a dramatic escalation of fees based on a schedule of the age of the well, and the duration of idleness.<br></p>\n",
    "\n",
    "<p><b>Problem statement:</b> Given that not all the data is available to accurately determine the specific status of a well, I think we can using machine learning to assess the companies exposure to the risk: i.e. have they been addressing their idle well burden by plugging & abandoning their idle well fleets, or are they \"kicking the can down the road\", and postponing until max pain arrives.<br></p> \n",
    "\n",
    "<p><b>Hypothesis:</b> I think the larger companies (Chevron, Aera, SPR, CRC) are likely addressing their own idle well situations in a way to avoid onerous fees, and potentially damaging optics of not following the law. However, I suspect there a large number of smaller privately owned companies that have not kept up with their liabilities, and either don't have the cash flow to take care of it, or are hoping to fly under the radar for a bit longer.</p>\n",
    "\n",
    "<p><b>Data set:</b> the state publishes its view of the list of all wells in the state (241,912 data points), with currently known status and original drill (SPUD) date, so we know the age of the well, and the state's view of the status, which they have likely calculated based on the monthly production reports the operators are legally bound to send them. I have heard annecdotally it can take the state up to 2 years to update the well status, so there's some room here for machine learning to predict a trend by operator.</p>\n",
    " \n",
    "<p><b>File:</b> downloaded from state's website (filesize 55MB): <a href='https://gis.conservation.ca.gov/portal/home/item.html?id=0d30c4d9ac8f4f84a53a145e7d68eb6b'>linked here</a> and added to GIT here: <a href='source_data/CALGEM AllWells_20241113.csv'>CALGEM AllWells_20241113.csv</a></p>"
   ],
   "metadata": {
    "collapsed": false
   },
   "id": "698a6ef04e0aa98a"
  },
  {
   "cell_type": "code",
   "outputs": [
    {
     "data": {
      "text/plain": "   OID        API            LeaseName WellNumber        WellDesign  \\\n0   -1  403300003  Lease by W.G. Young          1                 1   \n1   -1  402120723                Kauai      1-Mar         Kauai 3-1   \n2   -1  402120734                Lanai      3-Mar         Lanai 3-3   \n3   -1  402120815              Anacapa      4-Mar       Anacapa 3-4   \n4   -1  402120521         Angel Slough      1-Feb  Angel Slough 2-1   \n\n  WellStatus WellType WellTypeLa OperatorCo            OperatorNa  ... Range  \\\n0       Idle       DG    Dry Gas      11838            W.G. Young  ...   09W   \n1       Idle       DG    Dry Gas      R4085   Royale Energy, Inc.  ...   01W   \n2       Idle       DG    Dry Gas      R4085   Royale Energy, Inc.  ...   01W   \n3       Idle       DG    Dry Gas      R4085   Royale Energy, Inc.  ...   01W   \n4     Active       DG    Dry Gas      C8720  Crain Orchards, Inc.  ...   01W   \n\n  BaseMeridi   Latitude   Longitude                  GISSource  isConfiden  \\\n0         MD  38.976693 -122.833093  Notice of Intent to Drill           N   \n1         MD  39.440640 -121.951889                        GPS           N   \n2         MD  39.447174 -121.961273                        GPS           N   \n3         MD  39.443230 -121.951042                        GPS           N   \n4         MD  39.449158 -121.946289                        GPS           N   \n\n  isDirectio   SpudDate             inHPZ  WellSymbol  \n0          N                 Verified HPZ      IdleDG  \n1          N  12/7/1999    Not Within HPZ      IdleDG  \n2          N  5/13/2000  Uncertainty Area      IdleDG  \n3          N  11/6/2002    Not Within HPZ      IdleDG  \n4          N  2/17/1988    Not Within HPZ    ActiveDG  \n\n[5 rows x 27 columns]",
      "text/html": "<div>\n<style scoped>\n    .dataframe tbody tr th:only-of-type {\n        vertical-align: middle;\n    }\n\n    .dataframe tbody tr th {\n        vertical-align: top;\n    }\n\n    .dataframe thead th {\n        text-align: right;\n    }\n</style>\n<table border=\"1\" class=\"dataframe\">\n  <thead>\n    <tr style=\"text-align: right;\">\n      <th></th>\n      <th>OID</th>\n      <th>API</th>\n      <th>LeaseName</th>\n      <th>WellNumber</th>\n      <th>WellDesign</th>\n      <th>WellStatus</th>\n      <th>WellType</th>\n      <th>WellTypeLa</th>\n      <th>OperatorCo</th>\n      <th>OperatorNa</th>\n      <th>...</th>\n      <th>Range</th>\n      <th>BaseMeridi</th>\n      <th>Latitude</th>\n      <th>Longitude</th>\n      <th>GISSource</th>\n      <th>isConfiden</th>\n      <th>isDirectio</th>\n      <th>SpudDate</th>\n      <th>inHPZ</th>\n      <th>WellSymbol</th>\n    </tr>\n  </thead>\n  <tbody>\n    <tr>\n      <th>0</th>\n      <td>-1</td>\n      <td>403300003</td>\n      <td>Lease by W.G. Young</td>\n      <td>1</td>\n      <td>1</td>\n      <td>Idle</td>\n      <td>DG</td>\n      <td>Dry Gas</td>\n      <td>11838</td>\n      <td>W.G. Young</td>\n      <td>...</td>\n      <td>09W</td>\n      <td>MD</td>\n      <td>38.976693</td>\n      <td>-122.833093</td>\n      <td>Notice of Intent to Drill</td>\n      <td>N</td>\n      <td>N</td>\n      <td></td>\n      <td>Verified HPZ</td>\n      <td>IdleDG</td>\n    </tr>\n    <tr>\n      <th>1</th>\n      <td>-1</td>\n      <td>402120723</td>\n      <td>Kauai</td>\n      <td>1-Mar</td>\n      <td>Kauai 3-1</td>\n      <td>Idle</td>\n      <td>DG</td>\n      <td>Dry Gas</td>\n      <td>R4085</td>\n      <td>Royale Energy, Inc.</td>\n      <td>...</td>\n      <td>01W</td>\n      <td>MD</td>\n      <td>39.440640</td>\n      <td>-121.951889</td>\n      <td>GPS</td>\n      <td>N</td>\n      <td>N</td>\n      <td>12/7/1999</td>\n      <td>Not Within HPZ</td>\n      <td>IdleDG</td>\n    </tr>\n    <tr>\n      <th>2</th>\n      <td>-1</td>\n      <td>402120734</td>\n      <td>Lanai</td>\n      <td>3-Mar</td>\n      <td>Lanai 3-3</td>\n      <td>Idle</td>\n      <td>DG</td>\n      <td>Dry Gas</td>\n      <td>R4085</td>\n      <td>Royale Energy, Inc.</td>\n      <td>...</td>\n      <td>01W</td>\n      <td>MD</td>\n      <td>39.447174</td>\n      <td>-121.961273</td>\n      <td>GPS</td>\n      <td>N</td>\n      <td>N</td>\n      <td>5/13/2000</td>\n      <td>Uncertainty Area</td>\n      <td>IdleDG</td>\n    </tr>\n    <tr>\n      <th>3</th>\n      <td>-1</td>\n      <td>402120815</td>\n      <td>Anacapa</td>\n      <td>4-Mar</td>\n      <td>Anacapa 3-4</td>\n      <td>Idle</td>\n      <td>DG</td>\n      <td>Dry Gas</td>\n      <td>R4085</td>\n      <td>Royale Energy, Inc.</td>\n      <td>...</td>\n      <td>01W</td>\n      <td>MD</td>\n      <td>39.443230</td>\n      <td>-121.951042</td>\n      <td>GPS</td>\n      <td>N</td>\n      <td>N</td>\n      <td>11/6/2002</td>\n      <td>Not Within HPZ</td>\n      <td>IdleDG</td>\n    </tr>\n    <tr>\n      <th>4</th>\n      <td>-1</td>\n      <td>402120521</td>\n      <td>Angel Slough</td>\n      <td>1-Feb</td>\n      <td>Angel Slough 2-1</td>\n      <td>Active</td>\n      <td>DG</td>\n      <td>Dry Gas</td>\n      <td>C8720</td>\n      <td>Crain Orchards, Inc.</td>\n      <td>...</td>\n      <td>01W</td>\n      <td>MD</td>\n      <td>39.449158</td>\n      <td>-121.946289</td>\n      <td>GPS</td>\n      <td>N</td>\n      <td>N</td>\n      <td>2/17/1988</td>\n      <td>Not Within HPZ</td>\n      <td>ActiveDG</td>\n    </tr>\n  </tbody>\n</table>\n<p>5 rows × 27 columns</p>\n</div>"
     },
     "execution_count": 5,
     "metadata": {},
     "output_type": "execute_result"
    }
   ],
   "source": [
    "import numpy as np\n",
    "import pandas as pd\n",
    "\n",
    "# load candidate data file 1 and take a peek\n",
    "# will take some work to get the data loaded with proper datatypes, and dates set correctly \n",
    "well_list_df = pd.read_csv('source_data/CALGEM AllWells_20241113.csv')\n",
    "well_list_df.head()"
   ],
   "metadata": {
    "collapsed": false,
    "ExecuteTime": {
     "end_time": "2024-11-15T06:58:16.287348Z",
     "start_time": "2024-11-15T06:58:15.495309Z"
    }
   },
   "id": "bceac0d729111ee5",
   "execution_count": 5
  },
  {
   "cell_type": "code",
   "outputs": [
    {
     "name": "stdout",
     "output_type": "stream",
     "text": [
      "<class 'pandas.core.frame.DataFrame'>\n",
      "RangeIndex: 241912 entries, 0 to 241911\n",
      "Data columns (total 27 columns):\n",
      " #   Column      Non-Null Count   Dtype  \n",
      "---  ------      --------------   -----  \n",
      " 0   OID         241912 non-null  int64  \n",
      " 1   API         241912 non-null  int64  \n",
      " 2   LeaseName   241912 non-null  object \n",
      " 3   WellNumber  241912 non-null  object \n",
      " 4   WellDesign  241912 non-null  object \n",
      " 5   WellStatus  241912 non-null  object \n",
      " 6   WellType    241912 non-null  object \n",
      " 7   WellTypeLa  241912 non-null  object \n",
      " 8   OperatorCo  241912 non-null  object \n",
      " 9   OperatorNa  241912 non-null  object \n",
      " 10  FieldName   241912 non-null  object \n",
      " 11  AreaName    241912 non-null  object \n",
      " 12  Place       241912 non-null  object \n",
      " 13  District    241912 non-null  object \n",
      " 14  CountyName  241912 non-null  object \n",
      " 15  Section     241912 non-null  int64  \n",
      " 16  Township    241912 non-null  object \n",
      " 17  Range       241912 non-null  object \n",
      " 18  BaseMeridi  241912 non-null  object \n",
      " 19  Latitude    241912 non-null  float64\n",
      " 20  Longitude   241912 non-null  float64\n",
      " 21  GISSource   241912 non-null  object \n",
      " 22  isConfiden  241912 non-null  object \n",
      " 23  isDirectio  241912 non-null  object \n",
      " 24  SpudDate    241912 non-null  object \n",
      " 25  inHPZ       241912 non-null  object \n",
      " 26  WellSymbol  241912 non-null  object \n",
      "dtypes: float64(2), int64(3), object(22)\n",
      "memory usage: 49.8+ MB\n"
     ]
    }
   ],
   "source": [
    "well_list_df.info()"
   ],
   "metadata": {
    "collapsed": false,
    "ExecuteTime": {
     "end_time": "2024-11-15T06:57:11.892327Z",
     "start_time": "2024-11-15T06:57:11.739803Z"
    }
   },
   "id": "bfbd3f13a35d4868",
   "execution_count": 4
  },
  {
   "cell_type": "code",
   "outputs": [
    {
     "data": {
      "text/plain": "            OID           API        Section       Latitude      Longitude\ncount  241912.0  2.419120e+05  241912.000000  241912.000000  241912.000000\nmean       -1.0  4.041365e+08      18.972134      35.314957    -119.462110\nstd         0.0  3.268516e+06      11.030148       1.003615       0.851529\nmin        -1.0  4.001000e+08       1.000000      32.537811    -124.363670\n25%        -1.0  4.029452e+08       9.000000      35.077979    -119.735008\n50%        -1.0  4.030176e+08      19.000000      35.366459    -119.566372\n75%        -1.0  4.037073e+08      29.000000      35.485517    -118.990685\nmax        -1.0  4.295201e+08      36.000000      41.812958    -114.572904",
      "text/html": "<div>\n<style scoped>\n    .dataframe tbody tr th:only-of-type {\n        vertical-align: middle;\n    }\n\n    .dataframe tbody tr th {\n        vertical-align: top;\n    }\n\n    .dataframe thead th {\n        text-align: right;\n    }\n</style>\n<table border=\"1\" class=\"dataframe\">\n  <thead>\n    <tr style=\"text-align: right;\">\n      <th></th>\n      <th>OID</th>\n      <th>API</th>\n      <th>Section</th>\n      <th>Latitude</th>\n      <th>Longitude</th>\n    </tr>\n  </thead>\n  <tbody>\n    <tr>\n      <th>count</th>\n      <td>241912.0</td>\n      <td>2.419120e+05</td>\n      <td>241912.000000</td>\n      <td>241912.000000</td>\n      <td>241912.000000</td>\n    </tr>\n    <tr>\n      <th>mean</th>\n      <td>-1.0</td>\n      <td>4.041365e+08</td>\n      <td>18.972134</td>\n      <td>35.314957</td>\n      <td>-119.462110</td>\n    </tr>\n    <tr>\n      <th>std</th>\n      <td>0.0</td>\n      <td>3.268516e+06</td>\n      <td>11.030148</td>\n      <td>1.003615</td>\n      <td>0.851529</td>\n    </tr>\n    <tr>\n      <th>min</th>\n      <td>-1.0</td>\n      <td>4.001000e+08</td>\n      <td>1.000000</td>\n      <td>32.537811</td>\n      <td>-124.363670</td>\n    </tr>\n    <tr>\n      <th>25%</th>\n      <td>-1.0</td>\n      <td>4.029452e+08</td>\n      <td>9.000000</td>\n      <td>35.077979</td>\n      <td>-119.735008</td>\n    </tr>\n    <tr>\n      <th>50%</th>\n      <td>-1.0</td>\n      <td>4.030176e+08</td>\n      <td>19.000000</td>\n      <td>35.366459</td>\n      <td>-119.566372</td>\n    </tr>\n    <tr>\n      <th>75%</th>\n      <td>-1.0</td>\n      <td>4.037073e+08</td>\n      <td>29.000000</td>\n      <td>35.485517</td>\n      <td>-118.990685</td>\n    </tr>\n    <tr>\n      <th>max</th>\n      <td>-1.0</td>\n      <td>4.295201e+08</td>\n      <td>36.000000</td>\n      <td>41.812958</td>\n      <td>-114.572904</td>\n    </tr>\n  </tbody>\n</table>\n</div>"
     },
     "execution_count": 3,
     "metadata": {},
     "output_type": "execute_result"
    }
   ],
   "source": [
    "well_list_df.describe()"
   ],
   "metadata": {
    "collapsed": false,
    "ExecuteTime": {
     "end_time": "2024-11-15T06:56:52.777116Z",
     "start_time": "2024-11-15T06:56:52.726061Z"
    }
   },
   "id": "3f08c61cf99afe9f",
   "execution_count": 3
  }
 ],
 "metadata": {
  "kernelspec": {
   "display_name": "Python 3",
   "language": "python",
   "name": "python3"
  },
  "language_info": {
   "codemirror_mode": {
    "name": "ipython",
    "version": 2
   },
   "file_extension": ".py",
   "mimetype": "text/x-python",
   "name": "python",
   "nbconvert_exporter": "python",
   "pygments_lexer": "ipython2",
   "version": "2.7.6"
  }
 },
 "nbformat": 4,
 "nbformat_minor": 5
}
